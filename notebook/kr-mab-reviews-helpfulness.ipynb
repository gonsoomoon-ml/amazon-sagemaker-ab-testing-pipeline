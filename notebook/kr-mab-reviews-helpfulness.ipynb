{
 "cells": [
  {
   "cell_type": "markdown",
   "metadata": {},
   "source": [
    "# Multi-Armed Bandits for Review Helpfulness\n",
    "\n",
    "In this notebook we will train two machine learning models to classify amazon reviews, first using an Amazon SageMaker Pipeline, and second using a Hyperparameter Tuning Job.  When registered and approved in the Amazon SageMaker Model Registry, an MLOps A/B Testing Deployment pipeline will be triggered to create or update a multi-variant Amazon SageMaker endpoint.  You will then perform an A/B testing simulation and visualize the results to identify the best performing model.\n",
    "\n",
    "We will be using the [spacy](https://spacy.io/) NLP library to tokenize the text and Amazon SageMaker [BlazingText](https://docs.aws.amazon.com/sagemaker/latest/dg/blazingtext.html) algorithm to train a classification model.\n",
    "\n",
    "## Prerequisites\n",
    "\n",
    "Prior to running this notebook, you will have:\n",
    "1. Created the A/B Testing API and Infrastructure\n",
    "2. Created an MLOPs A/B Testing Deployment project \n",
    "\n",
    "This notebook will take you thorugh a number of steps:\n",
    "1. [Data Prep](#Data-Prep)\n",
    "2. [Run SageMaker Pipeline](#Run-SageMaker-Pipeline)\n",
    "3. [Run Tuning Job](#Run-Tuning-Job)\n",
    "4. [Test Endpoint](#Test-Endpoint)\n",
    "5. [Run A/B Testing Simulation](#Run-A/B-Testing-Simulation)\n",
    "6. [Calling the winner](#Calling-the-winner)"
   ]
  },
  {
   "cell_type": "code",
   "execution_count": 2,
   "metadata": {},
   "outputs": [],
   "source": [
    "%%capture\n",
    "!pip install -U sagemaker pandas seaborn\n",
    "!pip install spacy\n",
    "!python -m spacy download en_core_web_sm"
   ]
  },
  {
   "cell_type": "markdown",
   "metadata": {},
   "source": [
    "## Data Prep\n",
    "\n",
    "Download a sample form the [Amazon Customer Reviews](https://s3.amazonaws.com/amazon-reviews-pds/readme.html) dataset"
   ]
  },
  {
   "cell_type": "code",
   "execution_count": 3,
   "metadata": {},
   "outputs": [
    {
     "name": "stdout",
     "output_type": "stream",
     "text": [
      "download: s3://amazon-reviews-pds/tsv/amazon_reviews_us_Electronics_v1_00.tsv.gz to ./reviews.tsv.gz\n"
     ]
    }
   ],
   "source": [
    "!aws s3 cp s3://amazon-reviews-pds/tsv/amazon_reviews_us_Electronics_v1_00.tsv.gz reviews.tsv.gz"
   ]
  },
  {
   "cell_type": "markdown",
   "metadata": {},
   "source": [
    "Load the compressed reviews into pandas, selecting the review headling, body and star rating (should take approx 30 seconds)"
   ]
  },
  {
   "cell_type": "code",
   "execution_count": 4,
   "metadata": {},
   "outputs": [
    {
     "name": "stderr",
     "output_type": "stream",
     "text": [
      "/opt/conda/lib/python3.7/site-packages/IPython/core/magics/execution.py:1312: FutureWarning: The error_bad_lines argument has been deprecated and will be removed in a future version.\n",
      "\n",
      "\n",
      "  exec(code, glob, local_ns)\n"
     ]
    },
    {
     "name": "stdout",
     "output_type": "stream",
     "text": [
      "<class 'pandas.core.frame.DataFrame'>\n",
      "Int64Index: 3090980 entries, 0 to 3091102\n",
      "Data columns (total 7 columns):\n",
      " #   Column           Dtype \n",
      "---  ------           ----- \n",
      " 0   product_id       object\n",
      " 1   product_title    object\n",
      " 2   star_rating      int64 \n",
      " 3   helpful_votes    int64 \n",
      " 4   total_votes      int64 \n",
      " 5   review_headline  object\n",
      " 6   review_body      object\n",
      "dtypes: int64(3), object(4)\n",
      "memory usage: 188.7+ MB\n",
      "CPU times: user 34.4 s, sys: 2.58 s, total: 36.9 s\n",
      "Wall time: 37.6 s\n"
     ]
    }
   ],
   "source": [
    "%%time\n",
    "import pandas as pd\n",
    "\n",
    "# Load a sample of the rows\n",
    "df_reviews = pd.read_csv('reviews.tsv.gz', compression='gzip', error_bad_lines=False, #nrows=1000,\n",
    "                         sep='\\t', usecols=['product_id', 'product_title',\n",
    "                                            'review_headline', 'review_body', 'star_rating',\n",
    "                                            'helpful_votes', 'total_votes']).dropna()\n",
    "df_reviews.info()"
   ]
  },
  {
   "cell_type": "markdown",
   "metadata": {},
   "source": [
    "Inspect the first few rows of the dataset"
   ]
  },
  {
   "cell_type": "code",
   "execution_count": 5,
   "metadata": {},
   "outputs": [
    {
     "data": {
      "text/html": [
       "<div>\n",
       "<style scoped>\n",
       "    .dataframe tbody tr th:only-of-type {\n",
       "        vertical-align: middle;\n",
       "    }\n",
       "\n",
       "    .dataframe tbody tr th {\n",
       "        vertical-align: top;\n",
       "    }\n",
       "\n",
       "    .dataframe thead th {\n",
       "        text-align: right;\n",
       "    }\n",
       "</style>\n",
       "<table border=\"1\" class=\"dataframe\">\n",
       "  <thead>\n",
       "    <tr style=\"text-align: right;\">\n",
       "      <th></th>\n",
       "      <th>product_id</th>\n",
       "      <th>product_title</th>\n",
       "      <th>star_rating</th>\n",
       "      <th>helpful_votes</th>\n",
       "      <th>total_votes</th>\n",
       "      <th>review_headline</th>\n",
       "      <th>review_body</th>\n",
       "    </tr>\n",
       "  </thead>\n",
       "  <tbody>\n",
       "    <tr>\n",
       "      <th>0</th>\n",
       "      <td>B00428R89M</td>\n",
       "      <td>yoomall 5M Antenna WIFI RP-SMA Female to Male ...</td>\n",
       "      <td>5</td>\n",
       "      <td>0</td>\n",
       "      <td>0</td>\n",
       "      <td>Five Stars</td>\n",
       "      <td>As described.</td>\n",
       "    </tr>\n",
       "    <tr>\n",
       "      <th>1</th>\n",
       "      <td>B000068O48</td>\n",
       "      <td>Hosa GPM-103 3.5mm TRS to 1/4\" TRS Adaptor</td>\n",
       "      <td>5</td>\n",
       "      <td>0</td>\n",
       "      <td>0</td>\n",
       "      <td>It works as advertising.</td>\n",
       "      <td>It works as advertising.</td>\n",
       "    </tr>\n",
       "    <tr>\n",
       "      <th>2</th>\n",
       "      <td>B000GGKOG8</td>\n",
       "      <td>Channel Master Titan 2 Antenna Preamplifier</td>\n",
       "      <td>5</td>\n",
       "      <td>1</td>\n",
       "      <td>1</td>\n",
       "      <td>Five Stars</td>\n",
       "      <td>Works pissa</td>\n",
       "    </tr>\n",
       "    <tr>\n",
       "      <th>3</th>\n",
       "      <td>B000NU4OTA</td>\n",
       "      <td>LIMTECH Wall charger + USB Hotsync &amp; Charging ...</td>\n",
       "      <td>1</td>\n",
       "      <td>0</td>\n",
       "      <td>0</td>\n",
       "      <td>One Star</td>\n",
       "      <td>Did not work at all.</td>\n",
       "    </tr>\n",
       "    <tr>\n",
       "      <th>4</th>\n",
       "      <td>B00JOQIO6S</td>\n",
       "      <td>Skullcandy Air Raid Portable Bluetooth Speaker</td>\n",
       "      <td>5</td>\n",
       "      <td>1</td>\n",
       "      <td>1</td>\n",
       "      <td>Overall pleased with the item</td>\n",
       "      <td>Works well. Bass is somewhat lacking but is pr...</td>\n",
       "    </tr>\n",
       "  </tbody>\n",
       "</table>\n",
       "</div>"
      ],
      "text/plain": [
       "   product_id                                      product_title  star_rating  \\\n",
       "0  B00428R89M  yoomall 5M Antenna WIFI RP-SMA Female to Male ...            5   \n",
       "1  B000068O48         Hosa GPM-103 3.5mm TRS to 1/4\" TRS Adaptor            5   \n",
       "2  B000GGKOG8        Channel Master Titan 2 Antenna Preamplifier            5   \n",
       "3  B000NU4OTA  LIMTECH Wall charger + USB Hotsync & Charging ...            1   \n",
       "4  B00JOQIO6S     Skullcandy Air Raid Portable Bluetooth Speaker            5   \n",
       "\n",
       "   helpful_votes  total_votes                review_headline  \\\n",
       "0              0            0                     Five Stars   \n",
       "1              0            0       It works as advertising.   \n",
       "2              1            1                     Five Stars   \n",
       "3              0            0                       One Star   \n",
       "4              1            1  Overall pleased with the item   \n",
       "\n",
       "                                         review_body  \n",
       "0                                      As described.  \n",
       "1                           It works as advertising.  \n",
       "2                                        Works pissa  \n",
       "3                               Did not work at all.  \n",
       "4  Works well. Bass is somewhat lacking but is pr...  "
      ]
     },
     "execution_count": 5,
     "metadata": {},
     "output_type": "execute_result"
    }
   ],
   "source": [
    "df_reviews.head()"
   ]
  },
  {
   "cell_type": "markdown",
   "metadata": {},
   "source": [
    "### Feature engineering\n",
    "\n",
    "Filter on reviews that have at least 5 votes, calculate a helpful score based  and rating sentiment."
   ]
  },
  {
   "cell_type": "code",
   "execution_count": 6,
   "metadata": {},
   "outputs": [
    {
     "data": {
      "text/html": [
       "<div>\n",
       "<style scoped>\n",
       "    .dataframe tbody tr th:only-of-type {\n",
       "        vertical-align: middle;\n",
       "    }\n",
       "\n",
       "    .dataframe tbody tr th {\n",
       "        vertical-align: top;\n",
       "    }\n",
       "\n",
       "    .dataframe thead th {\n",
       "        text-align: right;\n",
       "    }\n",
       "</style>\n",
       "<table border=\"1\" class=\"dataframe\">\n",
       "  <thead>\n",
       "    <tr style=\"text-align: right;\">\n",
       "      <th></th>\n",
       "      <th>star_rating</th>\n",
       "      <th>helpful_votes</th>\n",
       "      <th>total_votes</th>\n",
       "      <th>helpful_score</th>\n",
       "    </tr>\n",
       "  </thead>\n",
       "  <tbody>\n",
       "    <tr>\n",
       "      <th>count</th>\n",
       "      <td>291168.000000</td>\n",
       "      <td>291168.000000</td>\n",
       "      <td>291168.000000</td>\n",
       "      <td>291168.000000</td>\n",
       "    </tr>\n",
       "    <tr>\n",
       "      <th>mean</th>\n",
       "      <td>3.391341</td>\n",
       "      <td>15.939169</td>\n",
       "      <td>19.677993</td>\n",
       "      <td>0.741840</td>\n",
       "    </tr>\n",
       "    <tr>\n",
       "      <th>std</th>\n",
       "      <td>1.644254</td>\n",
       "      <td>67.884014</td>\n",
       "      <td>70.942305</td>\n",
       "      <td>0.279288</td>\n",
       "    </tr>\n",
       "    <tr>\n",
       "      <th>min</th>\n",
       "      <td>1.000000</td>\n",
       "      <td>0.000000</td>\n",
       "      <td>5.000000</td>\n",
       "      <td>0.000000</td>\n",
       "    </tr>\n",
       "    <tr>\n",
       "      <th>25%</th>\n",
       "      <td>2.000000</td>\n",
       "      <td>4.000000</td>\n",
       "      <td>6.000000</td>\n",
       "      <td>0.600000</td>\n",
       "    </tr>\n",
       "    <tr>\n",
       "      <th>50%</th>\n",
       "      <td>4.000000</td>\n",
       "      <td>7.000000</td>\n",
       "      <td>9.000000</td>\n",
       "      <td>0.833333</td>\n",
       "    </tr>\n",
       "    <tr>\n",
       "      <th>75%</th>\n",
       "      <td>5.000000</td>\n",
       "      <td>13.000000</td>\n",
       "      <td>16.000000</td>\n",
       "      <td>0.968750</td>\n",
       "    </tr>\n",
       "    <tr>\n",
       "      <th>max</th>\n",
       "      <td>5.000000</td>\n",
       "      <td>12786.000000</td>\n",
       "      <td>12944.000000</td>\n",
       "      <td>1.000000</td>\n",
       "    </tr>\n",
       "  </tbody>\n",
       "</table>\n",
       "</div>"
      ],
      "text/plain": [
       "         star_rating  helpful_votes    total_votes  helpful_score\n",
       "count  291168.000000  291168.000000  291168.000000  291168.000000\n",
       "mean        3.391341      15.939169      19.677993       0.741840\n",
       "std         1.644254      67.884014      70.942305       0.279288\n",
       "min         1.000000       0.000000       5.000000       0.000000\n",
       "25%         2.000000       4.000000       6.000000       0.600000\n",
       "50%         4.000000       7.000000       9.000000       0.833333\n",
       "75%         5.000000      13.000000      16.000000       0.968750\n",
       "max         5.000000   12786.000000   12944.000000       1.000000"
      ]
     },
     "execution_count": 6,
     "metadata": {},
     "output_type": "execute_result"
    }
   ],
   "source": [
    "df_reviews = df_reviews[df_reviews['total_votes'] >= 5]\n",
    "df_reviews['helpful_score'] = df_reviews['helpful_votes'] / df_reviews['total_votes']\n",
    "df_reviews['sentiment'] = pd.cut(df_reviews['star_rating'], bins=[0,2,3,6], labels=['Negative','Nuetral','Positive'])\n",
    "df_reviews.describe()"
   ]
  },
  {
   "cell_type": "markdown",
   "metadata": {},
   "source": [
    "Visualize the helpful score grouped by sentiment.  We can validate a high helpfulness count is correlated with strong negative or positive reviews."
   ]
  },
  {
   "cell_type": "code",
   "execution_count": 7,
   "metadata": {},
   "outputs": [
    {
     "data": {
      "text/plain": [
       "<seaborn.axisgrid.FacetGrid at 0x7f771518a510>"
      ]
     },
     "execution_count": 7,
     "metadata": {},
     "output_type": "execute_result"
    },
    {
     "data": {
      "image/png": "[encoded data removed]",
      "text/plain": [
       "<Figure size 1142.12x360 with 3 Axes>"
      ]
     },
     "metadata": {},
     "output_type": "display_data"
    }
   ],
   "source": [
    "import seaborn as sns\n",
    "import matplotlib.pyplot as plt\n",
    "\n",
    "plt.style.use(\"dark_background\")\n",
    "sns.displot(df_reviews, x='helpful_score', col='sentiment', hue='star_rating', kind='kde', palette='icefire')"
   ]
  },
  {
   "cell_type": "markdown",
   "metadata": {},
   "source": [
    "Group by the product and get the count of reviews, as well as sum of helpful and total votes."
   ]
  },
  {
   "cell_type": "code",
   "execution_count": 8,
   "metadata": {},
   "outputs": [
    {
     "data": {
      "text/html": [
       "<div>\n",
       "<style scoped>\n",
       "    .dataframe tbody tr th:only-of-type {\n",
       "        vertical-align: middle;\n",
       "    }\n",
       "\n",
       "    .dataframe tbody tr th {\n",
       "        vertical-align: top;\n",
       "    }\n",
       "\n",
       "    .dataframe thead th {\n",
       "        text-align: right;\n",
       "    }\n",
       "</style>\n",
       "<table border=\"1\" class=\"dataframe\">\n",
       "  <thead>\n",
       "    <tr style=\"text-align: right;\">\n",
       "      <th></th>\n",
       "      <th>product_id</th>\n",
       "      <th>helpful_votes</th>\n",
       "      <th>total_votes</th>\n",
       "    </tr>\n",
       "  </thead>\n",
       "  <tbody>\n",
       "    <tr>\n",
       "      <th>count</th>\n",
       "      <td>52376.000000</td>\n",
       "      <td>52376.000000</td>\n",
       "      <td>52376.000000</td>\n",
       "    </tr>\n",
       "    <tr>\n",
       "      <th>mean</th>\n",
       "      <td>5.559187</td>\n",
       "      <td>88.608828</td>\n",
       "      <td>109.393654</td>\n",
       "    </tr>\n",
       "    <tr>\n",
       "      <th>std</th>\n",
       "      <td>12.490246</td>\n",
       "      <td>371.332497</td>\n",
       "      <td>437.566803</td>\n",
       "    </tr>\n",
       "    <tr>\n",
       "      <th>min</th>\n",
       "      <td>1.000000</td>\n",
       "      <td>0.000000</td>\n",
       "      <td>5.000000</td>\n",
       "    </tr>\n",
       "    <tr>\n",
       "      <th>25%</th>\n",
       "      <td>1.000000</td>\n",
       "      <td>6.000000</td>\n",
       "      <td>9.000000</td>\n",
       "    </tr>\n",
       "    <tr>\n",
       "      <th>50%</th>\n",
       "      <td>2.000000</td>\n",
       "      <td>17.000000</td>\n",
       "      <td>22.000000</td>\n",
       "    </tr>\n",
       "    <tr>\n",
       "      <th>75%</th>\n",
       "      <td>5.000000</td>\n",
       "      <td>58.000000</td>\n",
       "      <td>73.000000</td>\n",
       "    </tr>\n",
       "    <tr>\n",
       "      <th>max</th>\n",
       "      <td>638.000000</td>\n",
       "      <td>43288.000000</td>\n",
       "      <td>46228.000000</td>\n",
       "    </tr>\n",
       "  </tbody>\n",
       "</table>\n",
       "</div>"
      ],
      "text/plain": [
       "         product_id  helpful_votes   total_votes\n",
       "count  52376.000000   52376.000000  52376.000000\n",
       "mean       5.559187      88.608828    109.393654\n",
       "std       12.490246     371.332497    437.566803\n",
       "min        1.000000       0.000000      5.000000\n",
       "25%        1.000000       6.000000      9.000000\n",
       "50%        2.000000      17.000000     22.000000\n",
       "75%        5.000000      58.000000     73.000000\n",
       "max      638.000000   43288.000000  46228.000000"
      ]
     },
     "execution_count": 8,
     "metadata": {},
     "output_type": "execute_result"
    }
   ],
   "source": [
    "df_votes =  df_reviews.groupby('product_id').agg({'product_id': 'count', 'helpful_votes': 'sum', 'total_votes': 'sum'})\n",
    "df_votes.describe()"
   ]
  },
  {
   "cell_type": "markdown",
   "metadata": {},
   "source": [
    "Filter on products that have at least 1 review and at least 5 helpful votes."
   ]
  },
  {
   "cell_type": "code",
   "execution_count": 9,
   "metadata": {},
   "outputs": [],
   "source": [
    "min_reviews = 1\n",
    "min_helpful = 5\n",
    "df_votes = df_votes[(df_votes['product_id']>=min_reviews) & (df_votes['helpful_votes']>=min_helpful)]"
   ]
  },
  {
   "cell_type": "markdown",
   "metadata": {},
   "source": [
    "Merge reviews with minimum helpful votes "
   ]
  },
  {
   "cell_type": "code",
   "execution_count": 10,
   "metadata": {},
   "outputs": [
    {
     "name": "stdout",
     "output_type": "stream",
     "text": [
      "<class 'pandas.core.frame.DataFrame'>\n",
      "Int64Index: 284509 entries, 18 to 3091057\n",
      "Data columns (total 12 columns):\n",
      " #   Column               Non-Null Count   Dtype   \n",
      "---  ------               --------------   -----   \n",
      " 0   product_id           284509 non-null  object  \n",
      " 1   product_title        284509 non-null  object  \n",
      " 2   star_rating          284509 non-null  int64   \n",
      " 3   helpful_votes        284509 non-null  int64   \n",
      " 4   total_votes          284509 non-null  int64   \n",
      " 5   review_headline      284509 non-null  object  \n",
      " 6   review_body          284509 non-null  object  \n",
      " 7   helpful_score        284509 non-null  float64 \n",
      " 8   sentiment            284509 non-null  category\n",
      " 9   product_id_total     284509 non-null  int64   \n",
      " 10  helpful_votes_total  284509 non-null  int64   \n",
      " 11  total_votes_total    284509 non-null  int64   \n",
      "dtypes: category(1), float64(1), int64(6), object(4)\n",
      "memory usage: 26.3+ MB\n"
     ]
    }
   ],
   "source": [
    "df_reviews = df_reviews.merge(df_votes, how='inner', left_on='product_id', right_index=True, suffixes=('','_total'))\n",
    "df_reviews.info()"
   ]
  },
  {
   "cell_type": "code",
   "execution_count": 12,
   "metadata": {},
   "outputs": [
    {
     "data": {
      "text/html": [
       "<div>\n",
       "<style scoped>\n",
       "    .dataframe tbody tr th:only-of-type {\n",
       "        vertical-align: middle;\n",
       "    }\n",
       "\n",
       "    .dataframe tbody tr th {\n",
       "        vertical-align: top;\n",
       "    }\n",
       "\n",
       "    .dataframe thead th {\n",
       "        text-align: right;\n",
       "    }\n",
       "</style>\n",
       "<table border=\"1\" class=\"dataframe\">\n",
       "  <thead>\n",
       "    <tr style=\"text-align: right;\">\n",
       "      <th></th>\n",
       "      <th>product_id</th>\n",
       "      <th>product_title</th>\n",
       "      <th>star_rating</th>\n",
       "      <th>helpful_votes</th>\n",
       "      <th>total_votes</th>\n",
       "      <th>review_headline</th>\n",
       "      <th>review_body</th>\n",
       "      <th>helpful_score</th>\n",
       "      <th>sentiment</th>\n",
       "      <th>product_id_total</th>\n",
       "      <th>helpful_votes_total</th>\n",
       "      <th>total_votes_total</th>\n",
       "    </tr>\n",
       "  </thead>\n",
       "  <tbody>\n",
       "    <tr>\n",
       "      <th>18</th>\n",
       "      <td>B0045EJY90</td>\n",
       "      <td>TEAC CD-P650-B Compact Disc Player with USB an...</td>\n",
       "      <td>2</td>\n",
       "      <td>4</td>\n",
       "      <td>5</td>\n",
       "      <td>It does not copy CD-R s to USB as advertised ...</td>\n",
       "      <td>It does not copy CD-R s to USB as advertised. ...</td>\n",
       "      <td>0.800000</td>\n",
       "      <td>Negative</td>\n",
       "      <td>48</td>\n",
       "      <td>783</td>\n",
       "      <td>1088</td>\n",
       "    </tr>\n",
       "    <tr>\n",
       "      <th>43374</th>\n",
       "      <td>B0045EJY90</td>\n",
       "      <td>TEAC CD-P650-B Compact Disc Player with USB an...</td>\n",
       "      <td>5</td>\n",
       "      <td>8</td>\n",
       "      <td>8</td>\n",
       "      <td>this Unit (TEAC CD-P650-B) is excellent. It is...</td>\n",
       "      <td>For my purposes, this Unit (TEAC CD-P650-B) is...</td>\n",
       "      <td>1.000000</td>\n",
       "      <td>Positive</td>\n",
       "      <td>48</td>\n",
       "      <td>783</td>\n",
       "      <td>1088</td>\n",
       "    </tr>\n",
       "    <tr>\n",
       "      <th>50540</th>\n",
       "      <td>B0045EJY90</td>\n",
       "      <td>TEAC CD-P650-B Compact Disc Player with USB an...</td>\n",
       "      <td>5</td>\n",
       "      <td>6</td>\n",
       "      <td>7</td>\n",
       "      <td>Even hooked up to my crappy receiver-it sounds...</td>\n",
       "      <td>I purchased this CD Player for my home (based ...</td>\n",
       "      <td>0.857143</td>\n",
       "      <td>Positive</td>\n",
       "      <td>48</td>\n",
       "      <td>783</td>\n",
       "      <td>1088</td>\n",
       "    </tr>\n",
       "    <tr>\n",
       "      <th>726034</th>\n",
       "      <td>B0045EJY90</td>\n",
       "      <td>TEAC CD-P650-B Compact Disc Player with USB an...</td>\n",
       "      <td>2</td>\n",
       "      <td>0</td>\n",
       "      <td>14</td>\n",
       "      <td>What a disappointment that is</td>\n",
       "      <td>You do not make it clear that other components...</td>\n",
       "      <td>0.000000</td>\n",
       "      <td>Negative</td>\n",
       "      <td>48</td>\n",
       "      <td>783</td>\n",
       "      <td>1088</td>\n",
       "    </tr>\n",
       "    <tr>\n",
       "      <th>959377</th>\n",
       "      <td>B0045EJY90</td>\n",
       "      <td>TEAC CD-P650-B Compact Disc Player with USB an...</td>\n",
       "      <td>5</td>\n",
       "      <td>7</td>\n",
       "      <td>8</td>\n",
       "      <td>Best BANG for your buck!!!</td>\n",
       "      <td>I am an audiophile &amp; have good gear! bought th...</td>\n",
       "      <td>0.875000</td>\n",
       "      <td>Positive</td>\n",
       "      <td>48</td>\n",
       "      <td>783</td>\n",
       "      <td>1088</td>\n",
       "    </tr>\n",
       "  </tbody>\n",
       "</table>\n",
       "</div>"
      ],
      "text/plain": [
       "        product_id                                      product_title  \\\n",
       "18      B0045EJY90  TEAC CD-P650-B Compact Disc Player with USB an...   \n",
       "43374   B0045EJY90  TEAC CD-P650-B Compact Disc Player with USB an...   \n",
       "50540   B0045EJY90  TEAC CD-P650-B Compact Disc Player with USB an...   \n",
       "726034  B0045EJY90  TEAC CD-P650-B Compact Disc Player with USB an...   \n",
       "959377  B0045EJY90  TEAC CD-P650-B Compact Disc Player with USB an...   \n",
       "\n",
       "        star_rating  helpful_votes  total_votes  \\\n",
       "18                2              4            5   \n",
       "43374             5              8            8   \n",
       "50540             5              6            7   \n",
       "726034            2              0           14   \n",
       "959377            5              7            8   \n",
       "\n",
       "                                          review_headline  \\\n",
       "18       It does not copy CD-R s to USB as advertised ...   \n",
       "43374   this Unit (TEAC CD-P650-B) is excellent. It is...   \n",
       "50540   Even hooked up to my crappy receiver-it sounds...   \n",
       "726034                      What a disappointment that is   \n",
       "959377                         Best BANG for your buck!!!   \n",
       "\n",
       "                                              review_body  helpful_score  \\\n",
       "18      It does not copy CD-R s to USB as advertised. ...       0.800000   \n",
       "43374   For my purposes, this Unit (TEAC CD-P650-B) is...       1.000000   \n",
       "50540   I purchased this CD Player for my home (based ...       0.857143   \n",
       "726034  You do not make it clear that other components...       0.000000   \n",
       "959377  I am an audiophile & have good gear! bought th...       0.875000   \n",
       "\n",
       "       sentiment  product_id_total  helpful_votes_total  total_votes_total  \n",
       "18      Negative                48                  783               1088  \n",
       "43374   Positive                48                  783               1088  \n",
       "50540   Positive                48                  783               1088  \n",
       "726034  Negative                48                  783               1088  \n",
       "959377  Positive                48                  783               1088  "
      ]
     },
     "execution_count": 12,
     "metadata": {},
     "output_type": "execute_result"
    }
   ],
   "source": [
    "df_reviews.head()"
   ]
  },
  {
   "cell_type": "markdown",
   "metadata": {},
   "source": [
    "Pick a helpful score cut-off such that we have 50% helpful rating"
   ]
  },
  {
   "cell_type": "code",
   "execution_count": 13,
   "metadata": {},
   "outputs": [
    {
     "data": {
      "text/plain": [
       "0.5548471225866317"
      ]
     },
     "execution_count": 13,
     "metadata": {},
     "output_type": "execute_result"
    }
   ],
   "source": [
    "df_reviews['is_helpful'] = (df_reviews['helpful_score'] > 0.80)\n",
    "df_reviews['is_helpful'].sum()/df_reviews['is_helpful'].count()"
   ]
  },
  {
   "cell_type": "markdown",
   "metadata": {},
   "source": [
    "### Train/Test split\n",
    "\n",
    "Split the dataset into train (90%) / validation (5%) / test (5%) and save to file local files."
   ]
  },
  {
   "cell_type": "code",
   "execution_count": 15,
   "metadata": {},
   "outputs": [
    {
     "name": "stdout",
     "output_type": "stream",
     "text": [
      "split train: 256058, val: 14225, test: 14226 \n"
     ]
    }
   ],
   "source": [
    "from sklearn.model_selection import train_test_split\n",
    "\n",
    "train_df, val_df = train_test_split(df_reviews, test_size=0.1, random_state=42) \n",
    "val_df, test_df = train_test_split(val_df, test_size=0.5, random_state=42)\n",
    "print('split train: {}, val: {}, test: {} '.format(train_df.shape[0], val_df.shape[0], test_df.shape[0]))"
   ]
  },
  {
   "cell_type": "markdown",
   "metadata": {},
   "source": [
    "Save the test dataset for evaluation"
   ]
  },
  {
   "cell_type": "code",
   "execution_count": 16,
   "metadata": {},
   "outputs": [],
   "source": [
    "test_df.to_csv('test.csv', index=False, header=True)"
   ]
  },
  {
   "cell_type": "markdown",
   "metadata": {},
   "source": [
    "Define functions to oiutput blazing text label and tokenized text from dataset"
   ]
  },
  {
   "cell_type": "code",
   "execution_count": 17,
   "metadata": {},
   "outputs": [],
   "source": [
    "from spacy.lang.en import English\n",
    "\n",
    "index_to_label = {0: 'NotHelpful', 1: 'Helpful'} \n",
    "nlp = English()\n",
    "tokenizer = nlp.tokenizer\n",
    "\n",
    "def labelize_df(df):\n",
    "    return '__label__' + df['is_helpful'].apply(lambda is_helpful: index_to_label[is_helpful])\n",
    "\n",
    "def tokenize_sent(sent, max_length=1000):\n",
    "    return ' '.join([token.text for token in tokenizer(sent)])[:max_length]\n",
    "\n",
    "def tokenize_df(df):\n",
    "    return (df['review_headline'].apply(tokenize_sent) + ' ' + \n",
    "            df['review_body'].apply(tokenize_sent))"
   ]
  },
  {
   "cell_type": "markdown",
   "metadata": {},
   "source": [
    "Test the lableize and tokenize output "
   ]
  },
  {
   "cell_type": "code",
   "execution_count": 18,
   "metadata": {},
   "outputs": [
    {
     "data": {
      "text/plain": [
       "2939355    __label__NotHelpful Fantastic speakers ; easy ...\n",
       "2842286    __label__Helpful Handy Gadget , 3 Easy questio...\n",
       "3062835    __label__NotHelpful Good player , bad software...\n",
       "dtype: object"
      ]
     },
     "execution_count": 18,
     "metadata": {},
     "output_type": "execute_result"
    }
   ],
   "source": [
    "labelize_df(train_df.head(3)) + ' ' + tokenize_df(train_df.head(3))"
   ]
  },
  {
   "cell_type": "markdown",
   "metadata": {},
   "source": [
    "Create new pandas series that concatenates the label and tokenize values (this should less than 2 minutes)"
   ]
  },
  {
   "cell_type": "code",
   "execution_count": 19,
   "metadata": {},
   "outputs": [
    {
     "name": "stdout",
     "output_type": "stream",
     "text": [
      "CPU times: user 2min 4s, sys: 565 ms, total: 2min 5s\n",
      "Wall time: 2min 5s\n"
     ]
    }
   ],
   "source": [
    "%%time\n",
    "train_text = labelize_df(train_df) + ' ' + tokenize_df(train_df)\n",
    "val_text = labelize_df(val_df) + ' ' + tokenize_df(val_df)"
   ]
  },
  {
   "cell_type": "code",
   "execution_count": 22,
   "metadata": {},
   "outputs": [
    {
     "data": {
      "text/plain": [
       "2939355    __label__NotHelpful Fantastic speakers ; easy ...\n",
       "2842286    __label__Helpful Handy Gadget , 3 Easy questio...\n",
       "3062835    __label__NotHelpful Good player , bad software...\n",
       "2983811    __label__Helpful Quick and Easy ! This home ki...\n",
       "1280514    __label__Helpful No more lip reading ! I wante...\n",
       "                                 ...                        \n",
       "2467086    __label__NotHelpful Cable Did n't work The cab...\n",
       "3049690    __label__NotHelpful Too Expensive- Not enough ...\n",
       "2204664    __label__Helpful Nice alternative to the offic...\n",
       "3068900    __label__Helpful Expensive but worth it I had ...\n",
       "1726091    __label__Helpful Not worth the hassle . If you...\n",
       "Length: 256058, dtype: object"
      ]
     },
     "execution_count": 22,
     "metadata": {},
     "output_type": "execute_result"
    }
   ],
   "source": [
    "train_text"
   ]
  },
  {
   "cell_type": "markdown",
   "metadata": {},
   "source": [
    "Save the tokenized pandas series as text without any header or index"
   ]
  },
  {
   "cell_type": "code",
   "execution_count": 23,
   "metadata": {},
   "outputs": [
    {
     "name": "stdout",
     "output_type": "stream",
     "text": [
      "CPU times: user 3.65 s, sys: 125 ms, total: 3.77 s\n",
      "Wall time: 4.83 s\n"
     ]
    }
   ],
   "source": [
    "%%time\n",
    "train_text.to_csv('train.txt', index=False, header=False)\n",
    "val_text.to_csv('validation.txt', index=False, header=False)"
   ]
  },
  {
   "cell_type": "markdown",
   "metadata": {},
   "source": [
    "### Upload Data\n",
    "\n",
    "Upload data to s3 in bucket under a key prefix."
   ]
  },
  {
   "cell_type": "code",
   "execution_count": 24,
   "metadata": {},
   "outputs": [],
   "source": [
    "import sagemaker\n",
    "\n",
    "# Get the session and default bucket\n",
    "role = sagemaker.get_execution_role()\n",
    "session = sagemaker.session.Session()\n",
    "bucket = session.default_bucket()\n",
    "\n",
    "# Set the prefix for this dataset\n",
    "prefix = 'mab-reviews-helpfulness'\n",
    "\n",
    "s3_train_uri = session.upload_data('train.txt', bucket, prefix + '/data/training')\n",
    "s3_val_uri = session.upload_data('validation.txt', bucket, prefix + '/data/validation')\n",
    "s3_output_location = 's3://{}/{}/output'.format(bucket, prefix)"
   ]
  },
  {
   "cell_type": "markdown",
   "metadata": {},
   "source": [
    "## Run SageMaker Pipeline\n",
    "\n",
    "### Get Project\n",
    "\n",
    "Set the project for your A/B testing pipeline\n",
    "\n",
    "👇👇👇"
   ]
  },
  {
   "cell_type": "code",
   "execution_count": 25,
   "metadata": {},
   "outputs": [],
   "source": [
    "project_name = 'ab-testing' # << Update this A/B testing deployment project"
   ]
  },
  {
   "cell_type": "code",
   "execution_count": 26,
   "metadata": {},
   "outputs": [
    {
     "name": "stdout",
     "output_type": "stream",
     "text": [
      "Project: ab-testing (p-7savmzladneb)\n"
     ]
    }
   ],
   "source": [
    "import boto3 \n",
    "from botocore.config import Config\n",
    "\n",
    "# Create SageMaker client with up to 10 retries\n",
    "config = Config(retries={\"max_attempts\": 10, \"mode\": \"standard\"})\n",
    "sm_client = boto3.client('sagemaker', config=config)\n",
    "\n",
    "# Get the project name\n",
    "response = sm_client.describe_project(ProjectName=project_name)\n",
    "project_id = response['ProjectId']\n",
    "\n",
    "# Define project tags which will be associated with pipeline, experiment and tuning job\n",
    "project_tags = [\n",
    "    {'Key': 'sagemaker:project-name', 'Value': project_name },\n",
    "    {'Key': 'sagemaker:project-id', 'Value': project_id }\n",
    "]\n",
    "\n",
    "print(f\"Project: {project_name} ({project_id})\")"
   ]
  },
  {
   "cell_type": "markdown",
   "metadata": {},
   "source": [
    "Create an experiment to associate training jobs to this project."
   ]
  },
  {
   "cell_type": "code",
   "execution_count": 27,
   "metadata": {},
   "outputs": [
    {
     "name": "stdout",
     "output_type": "stream",
     "text": [
      "Experiment 'p-7savmzladneb' created\n"
     ]
    }
   ],
   "source": [
    "from botocore.exceptions import ClientError\n",
    "\n",
    "def create_experiment():\n",
    "    try:\n",
    "        sm_client.create_experiment(\n",
    "            ExperimentName=project_id,\n",
    "            DisplayName=project_name,\n",
    "            Description=\"A/B Testing Pipeline experiment\",\n",
    "            Tags=project_tags\n",
    "        )\n",
    "        print(f\"Experiment '{project_id}' created\")\n",
    "    except ClientError as err:\n",
    "        errcontent = err.response[\"Error\"]\n",
    "        if (errcontent[\"Code\"] == \"ValidationException\" and \"must be unique\" in errcontent[\"Message\"]): \n",
    "            print(f\"Experiment '{project_id}' already exists\")\n",
    "        else:\n",
    "            raise err\n",
    "\n",
    "def create_trial(trial_name, display_name):\n",
    "    try:\n",
    "        sm_client.create_trial(\n",
    "            TrialName=trial_name,\n",
    "            DisplayName=display_name,\n",
    "            ExperimentName=project_id,\n",
    "            Tags=project_tags\n",
    "        )\n",
    "        print(f\"Trial '{trial_name}' created\")\n",
    "    except ClientError as err:\n",
    "        errcontent = err.response[\"Error\"]\n",
    "        if (errcontent[\"Code\"] == \"ValidationException\" and \"must be unique\" in errcontent[\"Message\"]):\n",
    "            print(f\"Trial '{trial_name}' already exists\")\n",
    "        else:\n",
    "            raise err\n",
    "\n",
    "create_experiment()"
   ]
  },
  {
   "cell_type": "markdown",
   "metadata": {},
   "source": [
    "### Define the pipeline\n",
    "\n",
    "Create a SageMaker pipeline to run the training job"
   ]
  },
  {
   "cell_type": "code",
   "execution_count": 28,
   "metadata": {},
   "outputs": [],
   "source": [
    "from sagemaker.workflow.parameters import (\n",
    "    ParameterInteger,\n",
    "    ParameterString,\n",
    ")\n",
    "\n",
    "training_instance_type = ParameterString(\n",
    "    name=\"TrainingInstanceType\",\n",
    "    default_value=\"ml.c5.4xlarge\"\n",
    ")\n",
    "training_instance_count = ParameterInteger(\n",
    "    name=\"TrainingInstanceCount\",\n",
    "    default_value=1\n",
    ")\n",
    "input_train_data = ParameterString(\n",
    "    name=\"InputDataTrain\",\n",
    "    default_value=s3_train_uri,\n",
    ")\n",
    "input_val_data = ParameterString(\n",
    "    name=\"InputDataValidation\",\n",
    "    default_value=s3_val_uri,\n",
    ")"
   ]
  },
  {
   "cell_type": "markdown",
   "metadata": {},
   "source": [
    "Create the estimator that takes the input parameters"
   ]
  },
  {
   "cell_type": "code",
   "execution_count": 29,
   "metadata": {},
   "outputs": [],
   "source": [
    "import boto3\n",
    "from sagemaker.estimator import Estimator\n",
    "\n",
    "region_name = boto3.Session().region_name\n",
    "image_uri = sagemaker.image_uris.retrieve(\"blazingtext\", region_name)\n",
    "\n",
    "estimator = Estimator(image_uri=image_uri,\n",
    "                      role=role, \n",
    "                      instance_count=training_instance_count, # Param\n",
    "                      instance_type=training_instance_type, # Param\n",
    "                      volume_size = 30,\n",
    "                      max_run = 360000,\n",
    "                      input_mode= 'File',\n",
    "                      output_path=s3_output_location,\n",
    "                      sagemaker_session=session)\n",
    "\n",
    "estimator.set_hyperparameters(mode=\"supervised\",\n",
    "                              epochs=10,\n",
    "                              min_epochs=5, # Min epochs before early stopping is introduced\n",
    "                              early_stopping=True,\n",
    "                              patience=2,\n",
    "                              learning_rate=0.01,\n",
    "                              min_count=2, # words that appear less than min_count are discarded \n",
    "                              word_ngrams=1, # the number of word n-gram features to use.\n",
    "                              vector_dim=16, # dimensions of embedding layer\n",
    "                              )"
   ]
  },
  {
   "cell_type": "markdown",
   "metadata": {},
   "source": [
    "Now, let's create the steps. First the training step"
   ]
  },
  {
   "cell_type": "code",
   "execution_count": 30,
   "metadata": {},
   "outputs": [],
   "source": [
    "from sagemaker.inputs import TrainingInput\n",
    "from sagemaker.workflow.steps import TrainingStep\n",
    "\n",
    "step_train = TrainingStep(\n",
    "    name=\"TrainModel\",\n",
    "    estimator=estimator,\n",
    "    inputs={\n",
    "        \"train\": TrainingInput(s3_data=input_train_data, content_type=\"text/plain\"),\n",
    "        \"validation\": TrainingInput(s3_data=input_val_data, content_type=\"text/plain\"),\n",
    "    },\n",
    ")"
   ]
  },
  {
   "cell_type": "markdown",
   "metadata": {},
   "source": [
    "Then, the Register step that will add a new version to the `champion` model package group in the Model Registry"
   ]
  },
  {
   "cell_type": "code",
   "execution_count": 31,
   "metadata": {},
   "outputs": [],
   "source": [
    "from sagemaker.workflow.step_collections import RegisterModel\n",
    "\n",
    "champion_model_group = f\"{project_name}-champion\"\n",
    "\n",
    "step_register = RegisterModel(\n",
    "    name=\"RegisterModel\",\n",
    "    estimator=estimator,\n",
    "    model_data=step_train.properties.ModelArtifacts.S3ModelArtifacts,\n",
    "    content_types=[\"text/plain\"],\n",
    "    response_types=[\"text/csv\"],\n",
    "    inference_instances=[\"ml.t2.large\", \"ml.m5.xlarge\"],\n",
    "    transform_instances=[\"ml.m5.xlarge\"],\n",
    "    model_package_group_name=champion_model_group\n",
    ")"
   ]
  },
  {
   "cell_type": "markdown",
   "metadata": {},
   "source": [
    "Now, we can create the pipeline."
   ]
  },
  {
   "cell_type": "code",
   "execution_count": 32,
   "metadata": {},
   "outputs": [
    {
     "name": "stderr",
     "output_type": "stream",
     "text": [
      "No finished training job found associated with this estimator. Please make sure this estimator is only used for building workflow config\n"
     ]
    }
   ],
   "source": [
    "from sagemaker.workflow.pipeline import Pipeline\n",
    "import time\n",
    "\n",
    "ts = time.strftime('%Y-%m-%d-%H-%M-%S')\n",
    "\n",
    "pipeline_name = f\"helpful-reviews-{ts}\"\n",
    "pipeline = Pipeline(\n",
    "    name=pipeline_name,\n",
    "    parameters=[\n",
    "        training_instance_type,\n",
    "        training_instance_count,        \n",
    "        input_train_data,\n",
    "        input_val_data\n",
    "    ],\n",
    "    steps=[step_train, step_register],\n",
    "    sagemaker_session=session,\n",
    ")\n",
    "\n",
    "try:\n",
    "    response = pipeline.create(role_arn=role)\n",
    "except ClientError as e:\n",
    "    error = e.response[\"Error\"]\n",
    "    if error[\"Code\"] == \"ValidationError\" and \"Pipeline names must be unique within\" in error[\"Message\"]:\n",
    "        print(error[\"Message\"])\n",
    "        response = pipeline.describe()\n",
    "    else:\n",
    "        raise\n",
    "\n",
    "pipeline_arn = response[\"PipelineArn\"]\n",
    "\n",
    "# Attach this to a specific project\n",
    "tags = sm_client.add_tags(\n",
    "    ResourceArn=pipeline_arn,\n",
    "    Tags=project_tags\n",
    ")"
   ]
  },
  {
   "cell_type": "markdown",
   "metadata": {},
   "source": [
    "### Start Pipeline\n",
    "\n",
    "And then, start pipeline and wait for it to complete."
   ]
  },
  {
   "cell_type": "code",
   "execution_count": 33,
   "metadata": {},
   "outputs": [
    {
     "name": "stdout",
     "output_type": "stream",
     "text": [
      "Running...\n",
      "Running...\n",
      "Running...\n",
      "Running...\n",
      "Running...\n",
      "Running...\n",
      "Running...\n",
      "Running...\n",
      "Running...\n",
      "Running...\n",
      "Running...\n",
      "Succeeded\n"
     ]
    }
   ],
   "source": [
    "start_response = pipeline.start(parameters={\n",
    "    \"TrainingInstanceCount\": \"1\"\n",
    "})\n",
    "\n",
    "pipeline_execution_arn = start_response.arn\n",
    "\n",
    "while True:\n",
    "    resp = sm_client.describe_pipeline_execution(PipelineExecutionArn=pipeline_execution_arn)\n",
    "    if resp['PipelineExecutionStatus'] == 'Executing':\n",
    "        print('Running...')\n",
    "    else:\n",
    "        print(resp['PipelineExecutionStatus'])\n",
    "        break\n",
    "    time.sleep(15)"
   ]
  },
  {
   "cell_type": "markdown",
   "metadata": {},
   "source": [
    "### Track Lineage\n",
    "\n",
    "List lineage associated with the training job."
   ]
  },
  {
   "cell_type": "code",
   "execution_count": 34,
   "metadata": {},
   "outputs": [
    {
     "data": {
      "text/html": [
       "<div>\n",
       "<style scoped>\n",
       "    .dataframe tbody tr th:only-of-type {\n",
       "        vertical-align: middle;\n",
       "    }\n",
       "\n",
       "    .dataframe tbody tr th {\n",
       "        vertical-align: top;\n",
       "    }\n",
       "\n",
       "    .dataframe thead th {\n",
       "        text-align: right;\n",
       "    }\n",
       "</style>\n",
       "<table border=\"1\" class=\"dataframe\">\n",
       "  <thead>\n",
       "    <tr style=\"text-align: right;\">\n",
       "      <th></th>\n",
       "      <th>Name/Source</th>\n",
       "      <th>Direction</th>\n",
       "      <th>Type</th>\n",
       "      <th>Association Type</th>\n",
       "      <th>Lineage Type</th>\n",
       "    </tr>\n",
       "  </thead>\n",
       "  <tbody>\n",
       "    <tr>\n",
       "      <th>0</th>\n",
       "      <td>s3://...lpfulness/data/validation/validation.txt</td>\n",
       "      <td>Input</td>\n",
       "      <td>DataSet</td>\n",
       "      <td>ContributedTo</td>\n",
       "      <td>artifact</td>\n",
       "    </tr>\n",
       "    <tr>\n",
       "      <th>1</th>\n",
       "      <td>s3://...iews-helpfulness/data/training/train.txt</td>\n",
       "      <td>Input</td>\n",
       "      <td>DataSet</td>\n",
       "      <td>ContributedTo</td>\n",
       "      <td>artifact</td>\n",
       "    </tr>\n",
       "    <tr>\n",
       "      <th>2</th>\n",
       "      <td>81128...cr.us-east-1.amazonaws.com/blazingtext:1</td>\n",
       "      <td>Input</td>\n",
       "      <td>Image</td>\n",
       "      <td>ContributedTo</td>\n",
       "      <td>artifact</td>\n",
       "    </tr>\n",
       "    <tr>\n",
       "      <th>3</th>\n",
       "      <td>s3://...rainModel-ZFu7F8C6QR/output/model.tar.gz</td>\n",
       "      <td>Output</td>\n",
       "      <td>Model</td>\n",
       "      <td>Produced</td>\n",
       "      <td>artifact</td>\n",
       "    </tr>\n",
       "  </tbody>\n",
       "</table>\n",
       "</div>"
      ],
      "text/plain": [
       "                                        Name/Source Direction     Type  \\\n",
       "0  s3://...lpfulness/data/validation/validation.txt     Input  DataSet   \n",
       "1  s3://...iews-helpfulness/data/training/train.txt     Input  DataSet   \n",
       "2  81128...cr.us-east-1.amazonaws.com/blazingtext:1     Input    Image   \n",
       "3  s3://...rainModel-ZFu7F8C6QR/output/model.tar.gz    Output    Model   \n",
       "\n",
       "  Association Type Lineage Type  \n",
       "0    ContributedTo     artifact  \n",
       "1    ContributedTo     artifact  \n",
       "2    ContributedTo     artifact  \n",
       "3         Produced     artifact  "
      ]
     },
     "execution_count": 34,
     "metadata": {},
     "output_type": "execute_result"
    }
   ],
   "source": [
    "from sagemaker.lineage.visualizer import LineageTableVisualizer\n",
    "\n",
    "viz = LineageTableVisualizer(sagemaker.session.Session())\n",
    "\n",
    "# Get the training job \n",
    "steps = sm_client.list_pipeline_execution_steps(PipelineExecutionArn=pipeline_execution_arn)['PipelineExecutionSteps']\n",
    "training_job_arn = [s['Metadata']['TrainingJob']['Arn'] for s in steps if s['StepName'] == 'TrainModel'][0]\n",
    "        \n",
    "viz.show(training_job_name=training_job_arn.split('/')[-1])"
   ]
  },
  {
   "cell_type": "markdown",
   "metadata": {},
   "source": [
    "Create an experiment trial for the pipeline, and associate the training jobs."
   ]
  },
  {
   "cell_type": "code",
   "execution_count": 35,
   "metadata": {},
   "outputs": [
    {
     "name": "stdout",
     "output_type": "stream",
     "text": [
      "Trial 'p-7savmzladneb-pipeline' created\n",
      "Associated 'pipelines-cfxm668z5b1s-TrainModel-ZFu7F8C6QR-aws-training-job'\n"
     ]
    }
   ],
   "source": [
    "def associate_trial_component(source_arn, trial_name):\n",
    "    for tc in sm_client.list_trial_components(SourceArn=source_arn)['TrialComponentSummaries']:\n",
    "        print(f\"Associated '{tc['TrialComponentName']}'\")\n",
    "        response = sm_client.associate_trial_component(\n",
    "            TrialComponentName=tc['TrialComponentName'],\n",
    "            TrialName=trial_name\n",
    "        )\n",
    "\n",
    "trial_name = f\"{project_id}-pipeline\"\n",
    "create_trial(trial_name, \"pipeline\")\n",
    "associate_trial_component(training_job_arn, trial_name)"
   ]
  },
  {
   "cell_type": "markdown",
   "metadata": {},
   "source": [
    "Then list the metrics for this experiment."
   ]
  },
  {
   "cell_type": "code",
   "execution_count": 36,
   "metadata": {},
   "outputs": [
    {
     "data": {
      "text/html": [
       "<div>\n",
       "<style scoped>\n",
       "    .dataframe tbody tr th:only-of-type {\n",
       "        vertical-align: middle;\n",
       "    }\n",
       "\n",
       "    .dataframe tbody tr th {\n",
       "        vertical-align: top;\n",
       "    }\n",
       "\n",
       "    .dataframe thead th {\n",
       "        text-align: right;\n",
       "    }\n",
       "</style>\n",
       "<table border=\"1\" class=\"dataframe\">\n",
       "  <thead>\n",
       "    <tr style=\"text-align: right;\">\n",
       "      <th></th>\n",
       "      <th>TrialComponentName</th>\n",
       "      <th>SageMaker.InstanceType</th>\n",
       "      <th>train:accuracy - Last</th>\n",
       "      <th>validation:accuracy - Last</th>\n",
       "    </tr>\n",
       "  </thead>\n",
       "  <tbody>\n",
       "    <tr>\n",
       "      <th>0</th>\n",
       "      <td>pipelines-cfxm668z5b1s-TrainModel-ZFu7F8C6QR-aws-training-job</td>\n",
       "      <td>ml.c5.4xlarge</td>\n",
       "      <td>0.6828</td>\n",
       "      <td>0.6648</td>\n",
       "    </tr>\n",
       "  </tbody>\n",
       "</table>\n",
       "</div>"
      ],
      "text/plain": [
       "                                              TrialComponentName  \\\n",
       "0  pipelines-cfxm668z5b1s-TrainModel-ZFu7F8C6QR-aws-training-job   \n",
       "\n",
       "  SageMaker.InstanceType  train:accuracy - Last  validation:accuracy - Last  \n",
       "0          ml.c5.4xlarge                 0.6828                      0.6648  "
      ]
     },
     "execution_count": 36,
     "metadata": {},
     "output_type": "execute_result"
    }
   ],
   "source": [
    "from sagemaker.analytics import ExperimentAnalytics\n",
    "import pandas as pd\n",
    "\n",
    "# Pick the key columns we are interested inv\n",
    "analytics_df = ExperimentAnalytics(experiment_name=project_id).dataframe()\n",
    "\n",
    "pd.set_option('display.max_colwidth', 100) # Increase column width to show full copmontent name\n",
    "cols = ['TrialComponentName', 'SageMaker.InstanceType', \n",
    "        'train:accuracy - Last', 'validation:accuracy - Last'] # return the last accuracy for training and validation\n",
    "analytics_df[cols].head(2)"
   ]
  },
  {
   "cell_type": "markdown",
   "metadata": {},
   "source": [
    "### Approve for deployment\n",
    "\n",
    "Finally, approve the model to trigger the A/B testing deployment"
   ]
  },
  {
   "cell_type": "code",
   "execution_count": 37,
   "metadata": {},
   "outputs": [
    {
     "name": "stdout",
     "output_type": "stream",
     "text": [
      "Approving Champion Version: 1\n"
     ]
    }
   ],
   "source": [
    "# list all packages and select the latest one\n",
    "packages = sm_client.list_model_packages(ModelPackageGroupName=champion_model_group,\n",
    "                                        SortBy='CreationTime', SortOrder='Descending',\n",
    "                                        MaxResults=1)['ModelPackageSummaryList']\n",
    "\n",
    "# Approve the top model\n",
    "for package in packages:\n",
    "    latest_model_package_arn = package['ModelPackageArn']\n",
    "    model_package_version = latest_model_package_arn.split('/')[-1]\n",
    "    if package['ModelApprovalStatus'] == 'PendingManualApproval':\n",
    "        print(f\"Approving Champion Version: {model_package_version}\")\n",
    "        model_package_update_response = sm_client.update_model_package(\n",
    "            ModelPackageArn=latest_model_package_arn,\n",
    "            ModelApprovalStatus=\"Approved\",\n",
    "        )\n",
    "    else:\n",
    "        print(f\"Champion Version: {model_package_version} approved\")"
   ]
  },
  {
   "cell_type": "markdown",
   "metadata": {},
   "source": [
    "## Run Tuning Job\n",
    "\n",
    "To try and improve on our model, let's run a tuning job to find the parameters to maximize accuracy, and register this model.\n",
    "\n",
    "### Setup Hyperparamter Tuning\n",
    "\n",
    "Create the [Blazing Text](https://docs.aws.amazon.com/sagemaker/latest/dg/blazingtext.html) binary classifier for review helpfulness."
   ]
  },
  {
   "cell_type": "code",
   "execution_count": 38,
   "metadata": {},
   "outputs": [
    {
     "name": "stdout",
     "output_type": "stream",
     "text": [
      "Using container: 811284229777.dkr.ecr.us-east-1.amazonaws.com/blazingtext:1\n"
     ]
    }
   ],
   "source": [
    "import boto3\n",
    "from sagemaker.estimator import Estimator\n",
    "from sagemaker.inputs import TrainingInput\n",
    "from sagemaker.tuner import IntegerParameter, CategoricalParameter, ContinuousParameter, HyperparameterTuner\n",
    "\n",
    "region_name = boto3.Session().region_name\n",
    "image_uri = sagemaker.image_uris.retrieve(\"blazingtext\", region_name)\n",
    "print(f'Using container: {image_uri}')\n",
    "\n",
    "estimator = Estimator(image_uri,\n",
    "                      role, \n",
    "                      instance_count=1, \n",
    "                      instance_type='ml.c5.4xlarge',\n",
    "                      volume_size = 30,\n",
    "                      max_run = 360000,\n",
    "                      input_mode= 'File',\n",
    "                      output_path=s3_output_location,\n",
    "                      sagemaker_session=session)\n",
    "\n",
    "estimator.set_hyperparameters(mode=\"supervised\",\n",
    "                              epochs=10,\n",
    "                              min_epochs=5, # Min epochs before early stopping is introduced\n",
    "                              early_stopping=False,\n",
    "                              learning_rate=0.01,\n",
    "                              min_count=2, # words that appear less than min_count are discarded \n",
    "                              word_ngrams=1, # the number of word n-gram features to use.\n",
    "                              vector_dim=32, # dimensions of embedding layer\n",
    "                             )"
   ]
  },
  {
   "cell_type": "markdown",
   "metadata": {},
   "source": [
    "Tune an Amazon SageMaker BlazingText text classification model with the following [hyperparameters](https://docs.aws.amazon.com/sagemaker/latest/dg/blazingtext-tuning.html).\n",
    "\n",
    "\n",
    "| Parameter Name | Parameter Type | Recommended Ranges or Values | \n",
    "| --- | --- | --- | \n",
    "| buckets |  `IntegerParameterRange`  |  \\[1000000\\-10000000\\]  | \n",
    "| epochs |  `IntegerParameterRange`  |  \\[5\\-15\\]  | \n",
    "| learning\\_rate |  `ContinuousParameterRange`  |  MinValue: 0\\.005, MaxValue: 0\\.01  | \n",
    "| min\\_count |  `IntegerParameterRange`  |  \\[0\\-100\\]  | \n",
    "| mode |  `CategoricalParameterRange`  |  \\[`'supervised'`\\]  | \n",
    "| vector\\_dim |  `IntegerParameterRange`  |  \\[32\\-300\\]  | \n",
    "| word\\_ngrams |  `IntegerParameterRange`  |  \\[1\\-3\\]  | "
   ]
  },
  {
   "cell_type": "code",
   "execution_count": 39,
   "metadata": {},
   "outputs": [],
   "source": [
    "hyperparameter_ranges = {'epochs': IntegerParameter(5, 50),\n",
    "                        'learning_rate': ContinuousParameter(0.005, 0.01),\n",
    "                        'min_count': IntegerParameter(0, 100),\n",
    "                        'vector_dim': ContinuousParameter(1, 10),\n",
    "                        'word_ngrams': IntegerParameter(1, 3),\n",
    "                        'vector_dim': IntegerParameter(32, 300)}"
   ]
  },
  {
   "cell_type": "markdown",
   "metadata": {},
   "source": [
    "Now, we'll create a `HyperparameterTuner` object, to which we pass:\n",
    "\n",
    "* The `BlazingText` estimator we created above\n",
    "* Our hyperparameter ranges\n",
    "* Objective metric name and definition\n",
    "\n",
    "Tuning resource configurations such as Number of training jobs to run in total and how many training jobs can be run in parallel."
   ]
  },
  {
   "cell_type": "code",
   "execution_count": 40,
   "metadata": {},
   "outputs": [],
   "source": [
    "max_jobs = 9\n",
    "objective_name = 'validation:accuracy'\n",
    "tuner = HyperparameterTuner(estimator, \n",
    "                            objective_name,\n",
    "                            hyperparameter_ranges,\n",
    "                            tags=project_tags,\n",
    "                            max_jobs=max_jobs,\n",
    "                            max_parallel_jobs=3)"
   ]
  },
  {
   "cell_type": "markdown",
   "metadata": {},
   "source": [
    "### Launch Tuning\n",
    "\n",
    "Now we can launch a hyperparameter tuning job by calling `fit()` function.  After the hyperparameter tuning job is created, we can go to SageMaker console to track the progress of the hyperparameter tuning job until it is completed (will take approx 30 minutes)."
   ]
  },
  {
   "cell_type": "code",
   "execution_count": 41,
   "metadata": {},
   "outputs": [
    {
     "name": "stdout",
     "output_type": "stream",
     "text": [
      "..................................................................................................................................................................................!\n"
     ]
    }
   ],
   "source": [
    "input_train = TrainingInput(s3_data=s3_train_uri, content_type=\"text/plain\")\n",
    "input_val = TrainingInput(s3_data=s3_val_uri, content_type=\"text/plain\")\n",
    "data_channels = {'train': input_train, 'validation': input_val}\n",
    "\n",
    "tuner.fit(inputs=data_channels)"
   ]
  },
  {
   "cell_type": "markdown",
   "metadata": {},
   "source": [
    "Let's just run a quick check of the hyperparameter tuning jobs status to make sure it started successfully."
   ]
  },
  {
   "cell_type": "code",
   "execution_count": 42,
   "metadata": {},
   "outputs": [],
   "source": [
    "job_name = tuner.latest_tuning_job.job_name\n",
    "tuning_job_status = sm_client.describe_hyper_parameter_tuning_job(\n",
    "    HyperParameterTuningJobName=job_name)['HyperParameterTuningJobStatus']\n",
    "if tuning_job_status != 'Completed':\n",
    "    raise Exception(f'Tuning Jobs status is {tuning_job_status}')"
   ]
  },
  {
   "cell_type": "markdown",
   "metadata": {},
   "source": [
    "### Analyse results\n",
    "\n",
    "Get the top list of training jobs, sorted by the objective metric"
   ]
  },
  {
   "cell_type": "code",
   "execution_count": 43,
   "metadata": {},
   "outputs": [
    {
     "data": {
      "text/html": [
       "<div>\n",
       "<style scoped>\n",
       "    .dataframe tbody tr th:only-of-type {\n",
       "        vertical-align: middle;\n",
       "    }\n",
       "\n",
       "    .dataframe tbody tr th {\n",
       "        vertical-align: top;\n",
       "    }\n",
       "\n",
       "    .dataframe thead th {\n",
       "        text-align: right;\n",
       "    }\n",
       "</style>\n",
       "<table border=\"1\" class=\"dataframe\">\n",
       "  <thead>\n",
       "    <tr style=\"text-align: right;\">\n",
       "      <th></th>\n",
       "      <th>epochs</th>\n",
       "      <th>learning_rate</th>\n",
       "      <th>min_count</th>\n",
       "      <th>vector_dim</th>\n",
       "      <th>word_ngrams</th>\n",
       "      <th>TrainingJobName</th>\n",
       "      <th>TrainingJobStatus</th>\n",
       "      <th>FinalObjectiveValue</th>\n",
       "      <th>TrainingStartTime</th>\n",
       "      <th>TrainingEndTime</th>\n",
       "      <th>TrainingElapsedTimeSeconds</th>\n",
       "    </tr>\n",
       "  </thead>\n",
       "  <tbody>\n",
       "    <tr>\n",
       "      <th>5</th>\n",
       "      <td>23.0</td>\n",
       "      <td>0.009459</td>\n",
       "      <td>39.0</td>\n",
       "      <td>234.0</td>\n",
       "      <td>2.0</td>\n",
       "      <td>blazingtext-220412-0618-004-b9958b3a</td>\n",
       "      <td>Completed</td>\n",
       "      <td>0.6754</td>\n",
       "      <td>2022-04-12 06:23:15+00:00</td>\n",
       "      <td>2022-04-12 06:27:42+00:00</td>\n",
       "      <td>267.0</td>\n",
       "    </tr>\n",
       "    <tr>\n",
       "      <th>7</th>\n",
       "      <td>27.0</td>\n",
       "      <td>0.005596</td>\n",
       "      <td>93.0</td>\n",
       "      <td>262.0</td>\n",
       "      <td>1.0</td>\n",
       "      <td>blazingtext-220412-0618-002-8f9262aa</td>\n",
       "      <td>Completed</td>\n",
       "      <td>0.6711</td>\n",
       "      <td>2022-04-12 06:19:48+00:00</td>\n",
       "      <td>2022-04-12 06:20:50+00:00</td>\n",
       "      <td>62.0</td>\n",
       "    </tr>\n",
       "    <tr>\n",
       "      <th>1</th>\n",
       "      <td>30.0</td>\n",
       "      <td>0.009906</td>\n",
       "      <td>73.0</td>\n",
       "      <td>59.0</td>\n",
       "      <td>1.0</td>\n",
       "      <td>blazingtext-220412-0618-008-0568f555</td>\n",
       "      <td>Completed</td>\n",
       "      <td>0.6703</td>\n",
       "      <td>2022-04-12 06:29:17+00:00</td>\n",
       "      <td>2022-04-12 06:30:18+00:00</td>\n",
       "      <td>61.0</td>\n",
       "    </tr>\n",
       "    <tr>\n",
       "      <th>2</th>\n",
       "      <td>30.0</td>\n",
       "      <td>0.009906</td>\n",
       "      <td>75.0</td>\n",
       "      <td>59.0</td>\n",
       "      <td>1.0</td>\n",
       "      <td>blazingtext-220412-0618-007-e81bca70</td>\n",
       "      <td>Completed</td>\n",
       "      <td>0.6699</td>\n",
       "      <td>2022-04-12 06:28:50+00:00</td>\n",
       "      <td>2022-04-12 06:29:51+00:00</td>\n",
       "      <td>61.0</td>\n",
       "    </tr>\n",
       "    <tr>\n",
       "      <th>0</th>\n",
       "      <td>30.0</td>\n",
       "      <td>0.010000</td>\n",
       "      <td>73.0</td>\n",
       "      <td>53.0</td>\n",
       "      <td>1.0</td>\n",
       "      <td>blazingtext-220412-0618-009-218fe7d4</td>\n",
       "      <td>Completed</td>\n",
       "      <td>0.6695</td>\n",
       "      <td>2022-04-12 06:31:15+00:00</td>\n",
       "      <td>2022-04-12 06:32:55+00:00</td>\n",
       "      <td>100.0</td>\n",
       "    </tr>\n",
       "  </tbody>\n",
       "</table>\n",
       "</div>"
      ],
      "text/plain": [
       "   epochs  learning_rate  min_count  vector_dim  word_ngrams  \\\n",
       "5    23.0       0.009459       39.0       234.0          2.0   \n",
       "7    27.0       0.005596       93.0       262.0          1.0   \n",
       "1    30.0       0.009906       73.0        59.0          1.0   \n",
       "2    30.0       0.009906       75.0        59.0          1.0   \n",
       "0    30.0       0.010000       73.0        53.0          1.0   \n",
       "\n",
       "                        TrainingJobName TrainingJobStatus  \\\n",
       "5  blazingtext-220412-0618-004-b9958b3a         Completed   \n",
       "7  blazingtext-220412-0618-002-8f9262aa         Completed   \n",
       "1  blazingtext-220412-0618-008-0568f555         Completed   \n",
       "2  blazingtext-220412-0618-007-e81bca70         Completed   \n",
       "0  blazingtext-220412-0618-009-218fe7d4         Completed   \n",
       "\n",
       "   FinalObjectiveValue         TrainingStartTime           TrainingEndTime  \\\n",
       "5               0.6754 2022-04-12 06:23:15+00:00 2022-04-12 06:27:42+00:00   \n",
       "7               0.6711 2022-04-12 06:19:48+00:00 2022-04-12 06:20:50+00:00   \n",
       "1               0.6703 2022-04-12 06:29:17+00:00 2022-04-12 06:30:18+00:00   \n",
       "2               0.6699 2022-04-12 06:28:50+00:00 2022-04-12 06:29:51+00:00   \n",
       "0               0.6695 2022-04-12 06:31:15+00:00 2022-04-12 06:32:55+00:00   \n",
       "\n",
       "   TrainingElapsedTimeSeconds  \n",
       "5                       267.0  \n",
       "7                        62.0  \n",
       "1                        61.0  \n",
       "2                        61.0  \n",
       "0                       100.0  "
      ]
     },
     "execution_count": 43,
     "metadata": {},
     "output_type": "execute_result"
    }
   ],
   "source": [
    "tuner_analytics = sagemaker.HyperparameterTuningJobAnalytics(job_name)\n",
    "jobs_df = tuner_analytics.dataframe()\n",
    "jobs_df = jobs_df[jobs_df['TrainingJobStatus'] == 'Completed'].sort_values('FinalObjectiveValue', ascending=False)\n",
    "jobs_df.head()"
   ]
  },
  {
   "cell_type": "markdown",
   "metadata": {},
   "source": [
    "You may want to know the correlation between your objective metric and individual hyperparameters you've selected to tune.  "
   ]
  },
  {
   "cell_type": "code",
   "execution_count": 44,
   "metadata": {},
   "outputs": [
    {
     "data": {
      "text/html": [
       "\n",
       "    <div class=\"bk-root\">\n",
       "        <a href=\"https://bokeh.org\" target=\"_blank\" class=\"bk-logo bk-logo-small bk-logo-notebook\"></a>\n",
       "        <span id=\"1001\">Loading BokehJS ...</span>\n",
       "    </div>"
      ]
     },
     "metadata": {},
     "output_type": "display_data"
    },
    {
     "data": {
      "application/javascript": [
       "\n",
       "(function(root) {\n",
       "  function now() {\n",
       "    return new Date();\n",
       "  }\n",
       "\n",
       "  var force = true;\n",
       "\n",
       "  if (typeof root._bokeh_onload_callbacks === \"undefined\" || force === true) {\n",
       "    root._bokeh_onload_callbacks = [];\n",
       "    root._bokeh_is_loading = undefined;\n",
       "  }\n",
       "\n",
       "  var JS_MIME_TYPE = 'application/javascript';\n",
       "  var HTML_MIME_TYPE = 'text/html';\n",
       "  var EXEC_MIME_TYPE = 'application/vnd.bokehjs_exec.v0+json';\n",
       "  var CLASS_NAME = 'output_bokeh rendered_html';\n",
       "\n",
       "  /**\n",
       "   * Render data to the DOM node\n",
       "   */\n",
       "  function render(props, node) {\n",
       "    var script = document.createElement(\"script\");\n",
       "    node.appendChild(script);\n",
       "  }\n",
       "\n",
       "  /**\n",
       "   * Handle when an output is cleared or removed\n",
       "   */\n",
       "  function handleClearOutput(event, handle) {\n",
       "    var cell = handle.cell;\n",
       "\n",
       "    var id = cell.output_area._bokeh_element_id;\n",
       "    var server_id = cell.output_area._bokeh_server_id;\n",
       "    // Clean up Bokeh references\n",
       "    if (id != null && id in Bokeh.index) {\n",
       "      Bokeh.index[id].model.document.clear();\n",
       "      delete Bokeh.index[id];\n",
       "    }\n",
       "\n",
       "    if (server_id !== undefined) {\n",
       "      // Clean up Bokeh references\n",
       "      var cmd = \"from bokeh.io.state import curstate; print(curstate().uuid_to_server['\" + server_id + \"'].get_sessions()[0].document.roots[0]._id)\";\n",
       "      cell.notebook.kernel.execute(cmd, {\n",
       "        iopub: {\n",
       "          output: function(msg) {\n",
       "            var id = msg.content.text.trim();\n",
       "            if (id in Bokeh.index) {\n",
       "              Bokeh.index[id].model.document.clear();\n",
       "              delete Bokeh.index[id];\n",
       "            }\n",
       "          }\n",
       "        }\n",
       "      });\n",
       "      // Destroy server and session\n",
       "      var cmd = \"import bokeh.io.notebook as ion; ion.destroy_server('\" + server_id + \"')\";\n",
       "      cell.notebook.kernel.execute(cmd);\n",
       "    }\n",
       "  }\n",
       "\n",
       "  /**\n",
       "   * Handle when a new output is added\n",
       "   */\n",
       "  function handleAddOutput(event, handle) {\n",
       "    var output_area = handle.output_area;\n",
       "    var output = handle.output;\n",
       "\n",
       "    // limit handleAddOutput to display_data with EXEC_MIME_TYPE content only\n",
       "    if ((output.output_type != \"display_data\") || (!output.data.hasOwnProperty(EXEC_MIME_TYPE))) {\n",
       "      return\n",
       "    }\n",
       "\n",
       "    var toinsert = output_area.element.find(\".\" + CLASS_NAME.split(' ')[0]);\n",
       "\n",
       "    if (output.metadata[EXEC_MIME_TYPE][\"id\"] !== undefined) {\n",
       "      toinsert[toinsert.length - 1].firstChild.textContent = output.data[JS_MIME_TYPE];\n",
       "      // store reference to embed id on output_area\n",
       "      output_area._bokeh_element_id = output.metadata[EXEC_MIME_TYPE][\"id\"];\n",
       "    }\n",
       "    if (output.metadata[EXEC_MIME_TYPE][\"server_id\"] !== undefined) {\n",
       "      var bk_div = document.createElement(\"div\");\n",
       "      bk_div.innerHTML = output.data[HTML_MIME_TYPE];\n",
       "      var script_attrs = bk_div.children[0].attributes;\n",
       "      for (var i = 0; i < script_attrs.length; i++) {\n",
       "        toinsert[toinsert.length - 1].firstChild.setAttribute(script_attrs[i].name, script_attrs[i].value);\n",
       "      }\n",
       "      // store reference to server id on output_area\n",
       "      output_area._bokeh_server_id = output.metadata[EXEC_MIME_TYPE][\"server_id\"];\n",
       "    }\n",
       "  }\n",
       "\n",
       "  function register_renderer(events, OutputArea) {\n",
       "\n",
       "    function append_mime(data, metadata, element) {\n",
       "      // create a DOM node to render to\n",
       "      var toinsert = this.create_output_subarea(\n",
       "        metadata,\n",
       "        CLASS_NAME,\n",
       "        EXEC_MIME_TYPE\n",
       "      );\n",
       "      this.keyboard_manager.register_events(toinsert);\n",
       "      // Render to node\n",
       "      var props = {data: data, metadata: metadata[EXEC_MIME_TYPE]};\n",
       "      render(props, toinsert[toinsert.length - 1]);\n",
       "      element.append(toinsert);\n",
       "      return toinsert\n",
       "    }\n",
       "\n",
       "    /* Handle when an output is cleared or removed */\n",
       "    events.on('clear_output.CodeCell', handleClearOutput);\n",
       "    events.on('delete.Cell', handleClearOutput);\n",
       "\n",
       "    /* Handle when a new output is added */\n",
       "    events.on('output_added.OutputArea', handleAddOutput);\n",
       "\n",
       "    /**\n",
       "     * Register the mime type and append_mime function with output_area\n",
       "     */\n",
       "    OutputArea.prototype.register_mime_type(EXEC_MIME_TYPE, append_mime, {\n",
       "      /* Is output safe? */\n",
       "      safe: true,\n",
       "      /* Index of renderer in `output_area.display_order` */\n",
       "      index: 0\n",
       "    });\n",
       "  }\n",
       "\n",
       "  // register the mime type if in Jupyter Notebook environment and previously unregistered\n",
       "  if (root.Jupyter !== undefined) {\n",
       "    var events = require('base/js/events');\n",
       "    var OutputArea = require('notebook/js/outputarea').OutputArea;\n",
       "\n",
       "    if (OutputArea.prototype.mime_types().indexOf(EXEC_MIME_TYPE) == -1) {\n",
       "      register_renderer(events, OutputArea);\n",
       "    }\n",
       "  }\n",
       "\n",
       "  \n",
       "  if (typeof (root._bokeh_timeout) === \"undefined\" || force === true) {\n",
       "    root._bokeh_timeout = Date.now() + 5000;\n",
       "    root._bokeh_failed_load = false;\n",
       "  }\n",
       "\n",
       "  var NB_LOAD_WARNING = {'data': {'text/html':\n",
       "     \"<div style='background-color: #fdd'>\\n\"+\n",
       "     \"<p>\\n\"+\n",
       "     \"BokehJS does not appear to have successfully loaded. If loading BokehJS from CDN, this \\n\"+\n",
       "     \"may be due to a slow or bad network connection. Possible fixes:\\n\"+\n",
       "     \"</p>\\n\"+\n",
       "     \"<ul>\\n\"+\n",
       "     \"<li>re-rerun `output_notebook()` to attempt to load from CDN again, or</li>\\n\"+\n",
       "     \"<li>use INLINE resources instead, as so:</li>\\n\"+\n",
       "     \"</ul>\\n\"+\n",
       "     \"<code>\\n\"+\n",
       "     \"from bokeh.resources import INLINE\\n\"+\n",
       "     \"output_notebook(resources=INLINE)\\n\"+\n",
       "     \"</code>\\n\"+\n",
       "     \"</div>\"}};\n",
       "\n",
       "  function display_loaded() {\n",
       "    var el = document.getElementById(\"1001\");\n",
       "    if (el != null) {\n",
       "      el.textContent = \"BokehJS is loading...\";\n",
       "    }\n",
       "    if (root.Bokeh !== undefined) {\n",
       "      if (el != null) {\n",
       "        el.textContent = \"BokehJS \" + root.Bokeh.version + \" successfully loaded.\";\n",
       "      }\n",
       "    } else if (Date.now() < root._bokeh_timeout) {\n",
       "      setTimeout(display_loaded, 100)\n",
       "    }\n",
       "  }\n",
       "\n",
       "\n",
       "  function run_callbacks() {\n",
       "    try {\n",
       "      root._bokeh_onload_callbacks.forEach(function(callback) {\n",
       "        if (callback != null)\n",
       "          callback();\n",
       "      });\n",
       "    } finally {\n",
       "      delete root._bokeh_onload_callbacks\n",
       "    }\n",
       "    console.debug(\"Bokeh: all callbacks have finished\");\n",
       "  }\n",
       "\n",
       "  function load_libs(css_urls, js_urls, callback) {\n",
       "    if (css_urls == null) css_urls = [];\n",
       "    if (js_urls == null) js_urls = [];\n",
       "\n",
       "    root._bokeh_onload_callbacks.push(callback);\n",
       "    if (root._bokeh_is_loading > 0) {\n",
       "      console.debug(\"Bokeh: BokehJS is being loaded, scheduling callback at\", now());\n",
       "      return null;\n",
       "    }\n",
       "    if (js_urls == null || js_urls.length === 0) {\n",
       "      run_callbacks();\n",
       "      return null;\n",
       "    }\n",
       "    console.debug(\"Bokeh: BokehJS not loaded, scheduling load and callback at\", now());\n",
       "    root._bokeh_is_loading = css_urls.length + js_urls.length;\n",
       "\n",
       "    function on_load() {\n",
       "      root._bokeh_is_loading--;\n",
       "      if (root._bokeh_is_loading === 0) {\n",
       "        console.debug(\"Bokeh: all BokehJS libraries/stylesheets loaded\");\n",
       "        run_callbacks()\n",
       "      }\n",
       "    }\n",
       "\n",
       "    function on_error() {\n",
       "      console.error(\"failed to load \" + url);\n",
       "    }\n",
       "\n",
       "    for (var i = 0; i < css_urls.length; i++) {\n",
       "      var url = css_urls[i];\n",
       "      const element = document.createElement(\"link\");\n",
       "      element.onload = on_load;\n",
       "      element.onerror = on_error;\n",
       "      element.rel = \"stylesheet\";\n",
       "      element.type = \"text/css\";\n",
       "      element.href = url;\n",
       "      console.debug(\"Bokeh: injecting link tag for BokehJS stylesheet: \", url);\n",
       "      document.body.appendChild(element);\n",
       "    }\n",
       "\n",
       "    for (var i = 0; i < js_urls.length; i++) {\n",
       "      var url = js_urls[i];\n",
       "      var element = document.createElement('script');\n",
       "      element.onload = on_load;\n",
       "      element.onerror = on_error;\n",
       "      element.async = false;\n",
       "      element.src = url;\n",
       "      console.debug(\"Bokeh: injecting script tag for BokehJS library: \", url);\n",
       "      document.head.appendChild(element);\n",
       "    }\n",
       "  };var element = document.getElementById(\"1001\");\n",
       "  if (element == null) {\n",
       "    console.error(\"Bokeh: ERROR: autoload.js configured with elementid '1001' but no matching script tag was found. \")\n",
       "    return false;\n",
       "  }\n",
       "\n",
       "  function inject_raw_css(css) {\n",
       "    const element = document.createElement(\"style\");\n",
       "    element.appendChild(document.createTextNode(css));\n",
       "    document.body.appendChild(element);\n",
       "  }\n",
       "\n",
       "  \n",
       "  var js_urls = [\"https://cdn.pydata.org/bokeh/release/bokeh-1.4.0.min.js\", \"https://cdn.pydata.org/bokeh/release/bokeh-widgets-1.4.0.min.js\", \"https://cdn.pydata.org/bokeh/release/bokeh-tables-1.4.0.min.js\", \"https://cdn.pydata.org/bokeh/release/bokeh-gl-1.4.0.min.js\"];\n",
       "  var css_urls = [];\n",
       "  \n",
       "\n",
       "  var inline_js = [\n",
       "    function(Bokeh) {\n",
       "      Bokeh.set_log_level(\"info\");\n",
       "    },\n",
       "    function(Bokeh) {\n",
       "    \n",
       "    \n",
       "    }\n",
       "  ];\n",
       "\n",
       "  function run_inline_js() {\n",
       "    \n",
       "    if (root.Bokeh !== undefined || force === true) {\n",
       "      \n",
       "    for (var i = 0; i < inline_js.length; i++) {\n",
       "      inline_js[i].call(root, root.Bokeh);\n",
       "    }\n",
       "    if (force === true) {\n",
       "        display_loaded();\n",
       "      }} else if (Date.now() < root._bokeh_timeout) {\n",
       "      setTimeout(run_inline_js, 100);\n",
       "    } else if (!root._bokeh_failed_load) {\n",
       "      console.log(\"Bokeh: BokehJS failed to load within specified timeout.\");\n",
       "      root._bokeh_failed_load = true;\n",
       "    } else if (force !== true) {\n",
       "      var cell = $(document.getElementById(\"1001\")).parents('.cell').data().cell;\n",
       "      cell.output_area.append_execute_result(NB_LOAD_WARNING)\n",
       "    }\n",
       "\n",
       "  }\n",
       "\n",
       "  if (root._bokeh_is_loading === 0) {\n",
       "    console.debug(\"Bokeh: BokehJS loaded, going straight to plotting\");\n",
       "    run_inline_js();\n",
       "  } else {\n",
       "    load_libs(css_urls, js_urls, function() {\n",
       "      console.debug(\"Bokeh: BokehJS plotting callback run at\", now());\n",
       "      run_inline_js();\n",
       "    });\n",
       "  }\n",
       "}(window));"
      ],
      "application/vnd.bokehjs_load.v0+json": "\n(function(root) {\n  function now() {\n    return new Date();\n  }\n\n  var force = true;\n\n  if (typeof root._bokeh_onload_callbacks === \"undefined\" || force === true) {\n    root._bokeh_onload_callbacks = [];\n    root._bokeh_is_loading = undefined;\n  }\n\n  \n\n  \n  if (typeof (root._bokeh_timeout) === \"undefined\" || force === true) {\n    root._bokeh_timeout = Date.now() + 5000;\n    root._bokeh_failed_load = false;\n  }\n\n  var NB_LOAD_WARNING = {'data': {'text/html':\n     \"<div style='background-color: #fdd'>\\n\"+\n     \"<p>\\n\"+\n     \"BokehJS does not appear to have successfully loaded. If loading BokehJS from CDN, this \\n\"+\n     \"may be due to a slow or bad network connection. Possible fixes:\\n\"+\n     \"</p>\\n\"+\n     \"<ul>\\n\"+\n     \"<li>re-rerun `output_notebook()` to attempt to load from CDN again, or</li>\\n\"+\n     \"<li>use INLINE resources instead, as so:</li>\\n\"+\n     \"</ul>\\n\"+\n     \"<code>\\n\"+\n     \"from bokeh.resources import INLINE\\n\"+\n     \"output_notebook(resources=INLINE)\\n\"+\n     \"</code>\\n\"+\n     \"</div>\"}};\n\n  function display_loaded() {\n    var el = document.getElementById(\"1001\");\n    if (el != null) {\n      el.textContent = \"BokehJS is loading...\";\n    }\n    if (root.Bokeh !== undefined) {\n      if (el != null) {\n        el.textContent = \"BokehJS \" + root.Bokeh.version + \" successfully loaded.\";\n      }\n    } else if (Date.now() < root._bokeh_timeout) {\n      setTimeout(display_loaded, 100)\n    }\n  }\n\n\n  function run_callbacks() {\n    try {\n      root._bokeh_onload_callbacks.forEach(function(callback) {\n        if (callback != null)\n          callback();\n      });\n    } finally {\n      delete root._bokeh_onload_callbacks\n    }\n    console.debug(\"Bokeh: all callbacks have finished\");\n  }\n\n  function load_libs(css_urls, js_urls, callback) {\n    if (css_urls == null) css_urls = [];\n    if (js_urls == null) js_urls = [];\n\n    root._bokeh_onload_callbacks.push(callback);\n    if (root._bokeh_is_loading > 0) {\n      console.debug(\"Bokeh: BokehJS is being loaded, scheduling callback at\", now());\n      return null;\n    }\n    if (js_urls == null || js_urls.length === 0) {\n      run_callbacks();\n      return null;\n    }\n    console.debug(\"Bokeh: BokehJS not loaded, scheduling load and callback at\", now());\n    root._bokeh_is_loading = css_urls.length + js_urls.length;\n\n    function on_load() {\n      root._bokeh_is_loading--;\n      if (root._bokeh_is_loading === 0) {\n        console.debug(\"Bokeh: all BokehJS libraries/stylesheets loaded\");\n        run_callbacks()\n      }\n    }\n\n    function on_error() {\n      console.error(\"failed to load \" + url);\n    }\n\n    for (var i = 0; i < css_urls.length; i++) {\n      var url = css_urls[i];\n      const element = document.createElement(\"link\");\n      element.onload = on_load;\n      element.onerror = on_error;\n      element.rel = \"stylesheet\";\n      element.type = \"text/css\";\n      element.href = url;\n      console.debug(\"Bokeh: injecting link tag for BokehJS stylesheet: \", url);\n      document.body.appendChild(element);\n    }\n\n    for (var i = 0; i < js_urls.length; i++) {\n      var url = js_urls[i];\n      var element = document.createElement('script');\n      element.onload = on_load;\n      element.onerror = on_error;\n      element.async = false;\n      element.src = url;\n      console.debug(\"Bokeh: injecting script tag for BokehJS library: \", url);\n      document.head.appendChild(element);\n    }\n  };var element = document.getElementById(\"1001\");\n  if (element == null) {\n    console.error(\"Bokeh: ERROR: autoload.js configured with elementid '1001' but no matching script tag was found. \")\n    return false;\n  }\n\n  function inject_raw_css(css) {\n    const element = document.createElement(\"style\");\n    element.appendChild(document.createTextNode(css));\n    document.body.appendChild(element);\n  }\n\n  \n  var js_urls = [\"https://cdn.pydata.org/bokeh/release/bokeh-1.4.0.min.js\", \"https://cdn.pydata.org/bokeh/release/bokeh-widgets-1.4.0.min.js\", \"https://cdn.pydata.org/bokeh/release/bokeh-tables-1.4.0.min.js\", \"https://cdn.pydata.org/bokeh/release/bokeh-gl-1.4.0.min.js\"];\n  var css_urls = [];\n  \n\n  var inline_js = [\n    function(Bokeh) {\n      Bokeh.set_log_level(\"info\");\n    },\n    function(Bokeh) {\n    \n    \n    }\n  ];\n\n  function run_inline_js() {\n    \n    if (root.Bokeh !== undefined || force === true) {\n      \n    for (var i = 0; i < inline_js.length; i++) {\n      inline_js[i].call(root, root.Bokeh);\n    }\n    if (force === true) {\n        display_loaded();\n      }} else if (Date.now() < root._bokeh_timeout) {\n      setTimeout(run_inline_js, 100);\n    } else if (!root._bokeh_failed_load) {\n      console.log(\"Bokeh: BokehJS failed to load within specified timeout.\");\n      root._bokeh_failed_load = true;\n    } else if (force !== true) {\n      var cell = $(document.getElementById(\"1001\")).parents('.cell').data().cell;\n      cell.output_area.append_execute_result(NB_LOAD_WARNING)\n    }\n\n  }\n\n  if (root._bokeh_is_loading === 0) {\n    console.debug(\"Bokeh: BokehJS loaded, going straight to plotting\");\n    run_inline_js();\n  } else {\n    load_libs(css_urls, js_urls, function() {\n      console.debug(\"Bokeh: BokehJS plotting callback run at\", now());\n      run_inline_js();\n    });\n  }\n}(window));"
     },
     "metadata": {},
     "output_type": "display_data"
    },
    {
     "data": {
      "text/html": [
       "\n",
       "\n",
       "\n",
       "\n",
       "\n",
       "\n",
       "  <div class=\"bk-root\" id=\"9fa0909e-5723-41e7-a609-39e2accfb8e1\" data-root-id=\"1222\"></div>\n"
      ]
     },
     "metadata": {},
     "output_type": "display_data"
    },
    {
     "data": {
      "application/javascript": [
       "(function(root) {\n",
       "  function embed_document(root) {\n",
       "    \n",
       "  var docs_json = {\"04b75f01-7d95-413b-b3c1-78dea5a573a1\":{\"roots\":{\"references\":[{\"attributes\":{\"children\":[{\"id\":\"1003\",\"subtype\":\"Figure\",\"type\":\"Plot\"},{\"id\":\"1047\",\"subtype\":\"Figure\",\"type\":\"Plot\"},{\"id\":\"1091\",\"subtype\":\"Figure\",\"type\":\"Plot\"},{\"id\":\"1135\",\"subtype\":\"Figure\",\"type\":\"Plot\"},{\"id\":\"1179\",\"subtype\":\"Figure\",\"type\":\"Plot\"}]},\"id\":\"1222\",\"type\":\"Column\"},{\"attributes\":{},\"id\":\"1015\",\"type\":\"BasicTicker\"},{\"attributes\":{\"axis_label\":\"epochs\",\"formatter\":{\"id\":\"1228\",\"type\":\"BasicTickFormatter\"},\"ticker\":{\"id\":\"1015\",\"type\":\"BasicTicker\"}},\"id\":\"1014\",\"type\":\"LinearAxis\"},{\"attributes\":{\"ticker\":{\"id\":\"1015\",\"type\":\"BasicTicker\"}},\"id\":\"1018\",\"type\":\"Grid\"},{\"attributes\":{},\"id\":\"1228\",\"type\":\"BasicTickFormatter\"},{\"attributes\":{},\"id\":\"1012\",\"type\":\"LinearScale\"},{\"attributes\":{},\"id\":\"1230\",\"type\":\"BasicTickFormatter\"},{\"attributes\":{},\"id\":\"1232\",\"type\":\"BasicTickFormatter\"},{\"attributes\":{},\"id\":\"1160\",\"type\":\"ZoomOutTool\"},{\"attributes\":{},\"id\":\"1234\",\"type\":\"BasicTickFormatter\"},{\"attributes\":{},\"id\":\"1236\",\"type\":\"BasicTickFormatter\"},{\"attributes\":{},\"id\":\"1238\",\"type\":\"BasicTickFormatter\"},{\"attributes\":{},\"id\":\"1240\",\"type\":\"BasicTickFormatter\"},{\"attributes\":{},\"id\":\"1246\",\"type\":\"BasicTickFormatter\"},{\"attributes\":{},\"id\":\"1248\",\"type\":\"Selection\"},{\"attributes\":{},\"id\":\"1249\",\"type\":\"UnionRenderers\"},{\"attributes\":{},\"id\":\"1250\",\"type\":\"Selection\"},{\"attributes\":{},\"id\":\"1251\",\"type\":\"UnionRenderers\"},{\"attributes\":{},\"id\":\"1252\",\"type\":\"Selection\"},{\"attributes\":{\"callback\":null,\"tooltips\":[[\"FinalObjectiveValue\",\"@FinalObjectiveValue\"],[\"TrainingJobName\",\"@TrainingJobName\"],[\"epochs\",\"@{epochs}\"],[\"min_count\",\"@{min_count}\"],[\"vector_dim\",\"@{vector_dim}\"],[\"word_ngrams\",\"@{word_ngrams}\"],[\"learning_rate\",\"@{learning_rate}\"]]},\"id\":\"1002\",\"type\":\"HoverTool\"},{\"attributes\":{},\"id\":\"1253\",\"type\":\"UnionRenderers\"},{\"attributes\":{\"source\":{\"id\":\"1216\",\"type\":\"ColumnDataSource\"}},\"id\":\"1221\",\"type\":\"CDSView\"},{\"attributes\":{},\"id\":\"1254\",\"type\":\"Selection\"},{\"attributes\":{},\"id\":\"1255\",\"type\":\"UnionRenderers\"},{\"attributes\":{},\"id\":\"1070\",\"type\":\"WheelZoomTool\"},{\"attributes\":{},\"id\":\"1256\",\"type\":\"Selection\"},{\"attributes\":{\"callback\":null},\"id\":\"1008\",\"type\":\"DataRange1d\"},{\"attributes\":{\"callback\":null},\"id\":\"1006\",\"type\":\"DataRange1d\"},{\"attributes\":{},\"id\":\"1010\",\"type\":\"LinearScale\"},{\"attributes\":{\"below\":[{\"id\":\"1014\",\"type\":\"LinearAxis\"}],\"center\":[{\"id\":\"1018\",\"type\":\"Grid\"},{\"id\":\"1023\",\"type\":\"Grid\"}],\"left\":[{\"id\":\"1019\",\"type\":\"LinearAxis\"}],\"plot_height\":500,\"plot_width\":500,\"renderers\":[{\"id\":\"1044\",\"type\":\"GlyphRenderer\"}],\"title\":{\"id\":\"1004\",\"type\":\"Title\"},\"toolbar\":{\"id\":\"1031\",\"type\":\"Toolbar\"},\"x_range\":{\"id\":\"1006\",\"type\":\"DataRange1d\"},\"x_scale\":{\"id\":\"1010\",\"type\":\"LinearScale\"},\"y_range\":{\"id\":\"1008\",\"type\":\"DataRange1d\"},\"y_scale\":{\"id\":\"1012\",\"type\":\"LinearScale\"}},\"id\":\"1003\",\"subtype\":\"Figure\",\"type\":\"Plot\"},{\"attributes\":{},\"id\":\"1117\",\"type\":\"UndoTool\"},{\"attributes\":{},\"id\":\"1071\",\"type\":\"ZoomInTool\"},{\"attributes\":{},\"id\":\"1162\",\"type\":\"ResetTool\"},{\"attributes\":{},\"id\":\"1073\",\"type\":\"UndoTool\"},{\"attributes\":{},\"id\":\"1116\",\"type\":\"ZoomOutTool\"},{\"attributes\":{\"fill_color\":{\"value\":\"#1f77b4\"},\"line_color\":{\"value\":\"#1f77b4\"},\"x\":{\"field\":\"word_ngrams\"},\"y\":{\"field\":\"FinalObjectiveValue\"}},\"id\":\"1174\",\"type\":\"Circle\"},{\"attributes\":{},\"id\":\"1118\",\"type\":\"ResetTool\"},{\"attributes\":{\"fill_color\":{\"value\":\"#1f77b4\"},\"line_color\":{\"value\":\"#1f77b4\"},\"x\":{\"field\":\"learning_rate\"},\"y\":{\"field\":\"FinalObjectiveValue\"}},\"id\":\"1218\",\"type\":\"Circle\"},{\"attributes\":{},\"id\":\"1072\",\"type\":\"ZoomOutTool\"},{\"attributes\":{},\"id\":\"1196\",\"type\":\"BasicTicker\"},{\"attributes\":{\"axis_label\":\"validation:accuracy\",\"formatter\":{\"id\":\"1246\",\"type\":\"BasicTickFormatter\"},\"ticker\":{\"id\":\"1196\",\"type\":\"BasicTicker\"}},\"id\":\"1195\",\"type\":\"LinearAxis\"},{\"attributes\":{},\"id\":\"1074\",\"type\":\"ResetTool\"},{\"attributes\":{\"axis_label\":\"validation:accuracy\",\"formatter\":{\"id\":\"1238\",\"type\":\"BasicTickFormatter\"},\"ticker\":{\"id\":\"1108\",\"type\":\"BasicTicker\"}},\"id\":\"1107\",\"type\":\"LinearAxis\"},{\"attributes\":{\"ticker\":{\"id\":\"1191\",\"type\":\"BasicTicker\"}},\"id\":\"1194\",\"type\":\"Grid\"},{\"attributes\":{},\"id\":\"1026\",\"type\":\"WheelZoomTool\"},{\"attributes\":{},\"id\":\"1152\",\"type\":\"BasicTicker\"},{\"attributes\":{\"axis_label\":\"validation:accuracy\",\"formatter\":{\"id\":\"1242\",\"type\":\"BasicTickFormatter\"},\"ticker\":{\"id\":\"1152\",\"type\":\"BasicTicker\"}},\"id\":\"1151\",\"type\":\"LinearAxis\"},{\"attributes\":{\"fill_color\":{\"value\":\"#1f77b4\"},\"line_color\":{\"value\":\"#1f77b4\"},\"x\":{\"field\":\"vector_dim\"},\"y\":{\"field\":\"FinalObjectiveValue\"}},\"id\":\"1130\",\"type\":\"Circle\"},{\"attributes\":{},\"id\":\"1191\",\"type\":\"BasicTicker\"},{\"attributes\":{\"axis_label\":\"learning_rate\",\"formatter\":{\"id\":\"1244\",\"type\":\"BasicTickFormatter\"},\"ticker\":{\"id\":\"1191\",\"type\":\"BasicTicker\"}},\"id\":\"1190\",\"type\":\"LinearAxis\"},{\"attributes\":{},\"id\":\"1257\",\"type\":\"UnionRenderers\"},{\"attributes\":{\"ticker\":{\"id\":\"1103\",\"type\":\"BasicTicker\"}},\"id\":\"1106\",\"type\":\"Grid\"},{\"attributes\":{\"dimension\":1,\"ticker\":{\"id\":\"1196\",\"type\":\"BasicTicker\"}},\"id\":\"1199\",\"type\":\"Grid\"},{\"attributes\":{},\"id\":\"1025\",\"type\":\"CrosshairTool\"},{\"attributes\":{\"source\":{\"id\":\"1172\",\"type\":\"ColumnDataSource\"}},\"id\":\"1177\",\"type\":\"CDSView\"},{\"attributes\":{\"callback\":null},\"id\":\"1052\",\"type\":\"DataRange1d\"},{\"attributes\":{\"ticker\":{\"id\":\"1147\",\"type\":\"BasicTicker\"}},\"id\":\"1150\",\"type\":\"Grid\"},{\"attributes\":{},\"id\":\"1108\",\"type\":\"BasicTicker\"},{\"attributes\":{},\"id\":\"1188\",\"type\":\"LinearScale\"},{\"attributes\":{},\"id\":\"1147\",\"type\":\"BasicTicker\"},{\"attributes\":{\"axis_label\":\"word_ngrams\",\"formatter\":{\"id\":\"1240\",\"type\":\"BasicTickFormatter\"},\"ticker\":{\"id\":\"1147\",\"type\":\"BasicTicker\"}},\"id\":\"1146\",\"type\":\"LinearAxis\"},{\"attributes\":{\"dimension\":1,\"ticker\":{\"id\":\"1152\",\"type\":\"BasicTicker\"}},\"id\":\"1155\",\"type\":\"Grid\"},{\"attributes\":{\"callback\":null},\"id\":\"1184\",\"type\":\"DataRange1d\"},{\"attributes\":{},\"id\":\"1103\",\"type\":\"BasicTicker\"},{\"attributes\":{\"dimension\":1,\"ticker\":{\"id\":\"1108\",\"type\":\"BasicTicker\"}},\"id\":\"1111\",\"type\":\"Grid\"},{\"attributes\":{},\"id\":\"1186\",\"type\":\"LinearScale\"},{\"attributes\":{},\"id\":\"1144\",\"type\":\"LinearScale\"},{\"attributes\":{\"fill_color\":{\"value\":\"#1f77b4\"},\"line_color\":{\"value\":\"#1f77b4\"},\"x\":{\"field\":\"epochs\"},\"y\":{\"field\":\"FinalObjectiveValue\"}},\"id\":\"1042\",\"type\":\"Circle\"},{\"attributes\":{\"fill_alpha\":{\"value\":0.1},\"fill_color\":{\"value\":\"#1f77b4\"},\"line_alpha\":{\"value\":0.1},\"line_color\":{\"value\":\"#1f77b4\"},\"x\":{\"field\":\"min_count\"},\"y\":{\"field\":\"FinalObjectiveValue\"}},\"id\":\"1087\",\"type\":\"Circle\"},{\"attributes\":{\"axis_label\":\"vector_dim\",\"formatter\":{\"id\":\"1236\",\"type\":\"BasicTickFormatter\"},\"ticker\":{\"id\":\"1103\",\"type\":\"BasicTicker\"}},\"id\":\"1102\",\"type\":\"LinearAxis\"},{\"attributes\":{},\"id\":\"1100\",\"type\":\"LinearScale\"},{\"attributes\":{\"callback\":null},\"id\":\"1140\",\"type\":\"DataRange1d\"},{\"attributes\":{\"text\":\"Objective vs learning_rate\"},\"id\":\"1180\",\"type\":\"Title\"},{\"attributes\":{},\"id\":\"1142\",\"type\":\"LinearScale\"},{\"attributes\":{\"callback\":null,\"data\":{\"FinalObjectiveValue\":{\"__ndarray__\":\"AAAAgOCc5T8AAADApnnlPwAAAAAZc+U/AAAAINJv5T8AAABAi2zlPwAAAEDfT+U/AAAAgJVD5T8AAACApSzlPwAAAEBpb+I/\",\"dtype\":\"float64\",\"shape\":[9]},\"TrainingElapsedTimeSeconds\":{\"__ndarray__\":\"AAAAAACwcEAAAAAAAABPQAAAAAAAgE5AAAAAAACATkAAAAAAAABZQAAAAAAAYGdAAAAAAADga0AAAAAAAEBTQAAAAAAAgG9A\",\"dtype\":\"float64\",\"shape\":[9]},\"TrainingEndTime\":{\"__ndarray__\":\"AACzTccBeEIAAB3pxgF4QgAAyXPHAXhCAIAxbccBeEIAgB2axwF4QgAAyAvHAXhCAAAtEMcBeEIAAIRAxwF4QgAAHWbHAXhC\",\"dtype\":\"float64\",\"shape\":[9]},\"TrainingJobName\":[\"blazingtext-220412-0618-004-b9958b3a\",\"blazingtext-220412-0618-002-8f9262aa\",\"blazingtext-220412-0618-008-0568f555\",\"blazingtext-220412-0618-007-e81bca70\",\"blazingtext-220412-0618-009-218fe7d4\",\"blazingtext-220412-0618-003-a41f03c8\",\"blazingtext-220412-0618-001-38f5b69d\",\"blazingtext-220412-0618-005-90e7c8eb\",\"blazingtext-220412-0618-006-1dff8d55\"],\"TrainingJobStatus\":[\"Completed\",\"Completed\",\"Completed\",\"Completed\",\"Completed\",\"Completed\",\"Completed\",\"Completed\",\"Completed\"],\"TrainingStartTime\":{\"__ndarray__\":\"AICDDMcBeEIAAPrZxgF4QgCA5GTHAXhCAABNXscBeEIAgLOBxwF4QgCAIN7GAXhCAIC72cYBeEIAgLctxwF4QgAAlyjHAXhC\",\"dtype\":\"float64\",\"shape\":[9]},\"epochs\":{\"__ndarray__\":\"AAAAAAAAN0AAAAAAAAA7QAAAAAAAAD5AAAAAAAAAPkAAAAAAAAA+QAAAAAAAADhAAAAAAAAAOEAAAAAAAAAxQAAAAAAAACBA\",\"dtype\":\"float64\",\"shape\":[9]},\"index\":[5,7,1,2,0,6,8,4,3],\"learning_rate\":{\"__ndarray__\":\"8FvQqwFfgz+Jj7tgdet2P5J/iaiJSYQ/kn+JqIlJhD97FK5H4XqEP7BbjNrfaoQ/Hn3vn27Hgj+sN+kWgZd0PyJCf9HluoI/\",\"dtype\":\"float64\",\"shape\":[9]},\"min_count\":{\"__ndarray__\":\"AAAAAACAQ0AAAAAAAEBXQAAAAAAAQFJAAAAAAADAUkAAAAAAAEBSQAAAAAAAABxAAAAAAAAAOUAAAAAAAMBYQAAAAAAAwFZA\",\"dtype\":\"float64\",\"shape\":[9]},\"vector_dim\":{\"__ndarray__\":\"AAAAAABAbUAAAAAAAGBwQAAAAAAAgE1AAAAAAACATUAAAAAAAIBKQAAAAAAAIGFAAAAAAADAZEAAAAAAAABvQAAAAAAAQG1A\",\"dtype\":\"float64\",\"shape\":[9]},\"word_ngrams\":{\"__ndarray__\":\"AAAAAAAAAEAAAAAAAADwPwAAAAAAAPA/AAAAAAAA8D8AAAAAAADwPwAAAAAAAAhAAAAAAAAACEAAAAAAAADwPwAAAAAAAAhA\",\"dtype\":\"float64\",\"shape\":[9]}},\"selected\":{\"id\":\"1250\",\"type\":\"Selection\"},\"selection_policy\":{\"id\":\"1251\",\"type\":\"UnionRenderers\"}},\"id\":\"1084\",\"type\":\"ColumnDataSource\"},{\"attributes\":{},\"id\":\"1098\",\"type\":\"LinearScale\"},{\"attributes\":{\"callback\":null},\"id\":\"1182\",\"type\":\"DataRange1d\"},{\"attributes\":{\"callback\":null},\"id\":\"1096\",\"type\":\"DataRange1d\"},{\"attributes\":{\"data_source\":{\"id\":\"1040\",\"type\":\"ColumnDataSource\"},\"glyph\":{\"id\":\"1042\",\"type\":\"Circle\"},\"hover_glyph\":null,\"muted_glyph\":null,\"nonselection_glyph\":{\"id\":\"1043\",\"type\":\"Circle\"},\"selection_glyph\":null,\"view\":{\"id\":\"1045\",\"type\":\"CDSView\"}},\"id\":\"1044\",\"type\":\"GlyphRenderer\"},{\"attributes\":{\"text\":\"Objective vs word_ngrams\"},\"id\":\"1136\",\"type\":\"Title\"},{\"attributes\":{\"below\":[{\"id\":\"1190\",\"type\":\"LinearAxis\"}],\"center\":[{\"id\":\"1194\",\"type\":\"Grid\"},{\"id\":\"1199\",\"type\":\"Grid\"}],\"left\":[{\"id\":\"1195\",\"type\":\"LinearAxis\"}],\"plot_height\":500,\"plot_width\":500,\"renderers\":[{\"id\":\"1220\",\"type\":\"GlyphRenderer\"}],\"title\":{\"id\":\"1180\",\"type\":\"Title\"},\"toolbar\":{\"id\":\"1207\",\"type\":\"Toolbar\"},\"x_range\":{\"id\":\"1182\",\"type\":\"DataRange1d\"},\"x_scale\":{\"id\":\"1186\",\"type\":\"LinearScale\"},\"y_range\":{\"id\":\"1184\",\"type\":\"DataRange1d\"},\"y_scale\":{\"id\":\"1188\",\"type\":\"LinearScale\"}},\"id\":\"1179\",\"subtype\":\"Figure\",\"type\":\"Plot\"},{\"attributes\":{},\"id\":\"1024\",\"type\":\"PanTool\"},{\"attributes\":{\"below\":[{\"id\":\"1058\",\"type\":\"LinearAxis\"}],\"center\":[{\"id\":\"1062\",\"type\":\"Grid\"},{\"id\":\"1067\",\"type\":\"Grid\"}],\"left\":[{\"id\":\"1063\",\"type\":\"LinearAxis\"}],\"plot_height\":500,\"plot_width\":500,\"renderers\":[{\"id\":\"1088\",\"type\":\"GlyphRenderer\"}],\"title\":{\"id\":\"1048\",\"type\":\"Title\"},\"toolbar\":{\"id\":\"1075\",\"type\":\"Toolbar\"},\"x_range\":{\"id\":\"1050\",\"type\":\"DataRange1d\"},\"x_scale\":{\"id\":\"1054\",\"type\":\"LinearScale\"},\"y_range\":{\"id\":\"1052\",\"type\":\"DataRange1d\"},\"y_scale\":{\"id\":\"1056\",\"type\":\"LinearScale\"}},\"id\":\"1047\",\"subtype\":\"Figure\",\"type\":\"Plot\"},{\"attributes\":{},\"id\":\"1054\",\"type\":\"LinearScale\"},{\"attributes\":{\"callback\":null},\"id\":\"1138\",\"type\":\"DataRange1d\"},{\"attributes\":{},\"id\":\"1029\",\"type\":\"UndoTool\"},{\"attributes\":{\"below\":[{\"id\":\"1146\",\"type\":\"LinearAxis\"}],\"center\":[{\"id\":\"1150\",\"type\":\"Grid\"},{\"id\":\"1155\",\"type\":\"Grid\"}],\"left\":[{\"id\":\"1151\",\"type\":\"LinearAxis\"}],\"plot_height\":500,\"plot_width\":500,\"renderers\":[{\"id\":\"1176\",\"type\":\"GlyphRenderer\"}],\"title\":{\"id\":\"1136\",\"type\":\"Title\"},\"toolbar\":{\"id\":\"1163\",\"type\":\"Toolbar\"},\"x_range\":{\"id\":\"1138\",\"type\":\"DataRange1d\"},\"x_scale\":{\"id\":\"1142\",\"type\":\"LinearScale\"},\"y_range\":{\"id\":\"1140\",\"type\":\"DataRange1d\"},\"y_scale\":{\"id\":\"1144\",\"type\":\"LinearScale\"}},\"id\":\"1135\",\"subtype\":\"Figure\",\"type\":\"Plot\"},{\"attributes\":{\"text\":\"Objective vs vector_dim\"},\"id\":\"1092\",\"type\":\"Title\"},{\"attributes\":{\"callback\":null,\"tooltips\":[[\"FinalObjectiveValue\",\"@FinalObjectiveValue\"],[\"TrainingJobName\",\"@TrainingJobName\"],[\"epochs\",\"@{epochs}\"],[\"min_count\",\"@{min_count}\"],[\"vector_dim\",\"@{vector_dim}\"],[\"word_ngrams\",\"@{word_ngrams}\"],[\"learning_rate\",\"@{learning_rate}\"]]},\"id\":\"1046\",\"type\":\"HoverTool\"},{\"attributes\":{\"callback\":null,\"tooltips\":[[\"FinalObjectiveValue\",\"@FinalObjectiveValue\"],[\"TrainingJobName\",\"@TrainingJobName\"],[\"epochs\",\"@{epochs}\"],[\"min_count\",\"@{min_count}\"],[\"vector_dim\",\"@{vector_dim}\"],[\"word_ngrams\",\"@{word_ngrams}\"],[\"learning_rate\",\"@{learning_rate}\"]]},\"id\":\"1178\",\"type\":\"HoverTool\"},{\"attributes\":{\"callback\":null},\"id\":\"1094\",\"type\":\"DataRange1d\"},{\"attributes\":{},\"id\":\"1242\",\"type\":\"BasicTickFormatter\"},{\"attributes\":{\"callback\":null,\"tooltips\":[[\"FinalObjectiveValue\",\"@FinalObjectiveValue\"],[\"TrainingJobName\",\"@TrainingJobName\"],[\"epochs\",\"@{epochs}\"],[\"min_count\",\"@{min_count}\"],[\"vector_dim\",\"@{vector_dim}\"],[\"word_ngrams\",\"@{word_ngrams}\"],[\"learning_rate\",\"@{learning_rate}\"]]},\"id\":\"1134\",\"type\":\"HoverTool\"},{\"attributes\":{\"below\":[{\"id\":\"1102\",\"type\":\"LinearAxis\"}],\"center\":[{\"id\":\"1106\",\"type\":\"Grid\"},{\"id\":\"1111\",\"type\":\"Grid\"}],\"left\":[{\"id\":\"1107\",\"type\":\"LinearAxis\"}],\"plot_height\":500,\"plot_width\":500,\"renderers\":[{\"id\":\"1132\",\"type\":\"GlyphRenderer\"}],\"title\":{\"id\":\"1092\",\"type\":\"Title\"},\"toolbar\":{\"id\":\"1119\",\"type\":\"Toolbar\"},\"x_range\":{\"id\":\"1094\",\"type\":\"DataRange1d\"},\"x_scale\":{\"id\":\"1098\",\"type\":\"LinearScale\"},\"y_range\":{\"id\":\"1096\",\"type\":\"DataRange1d\"},\"y_scale\":{\"id\":\"1100\",\"type\":\"LinearScale\"}},\"id\":\"1091\",\"subtype\":\"Figure\",\"type\":\"Plot\"},{\"attributes\":{\"axis_label\":\"validation:accuracy\",\"formatter\":{\"id\":\"1234\",\"type\":\"BasicTickFormatter\"},\"ticker\":{\"id\":\"1064\",\"type\":\"BasicTicker\"}},\"id\":\"1063\",\"type\":\"LinearAxis\"},{\"attributes\":{\"data_source\":{\"id\":\"1216\",\"type\":\"ColumnDataSource\"},\"glyph\":{\"id\":\"1218\",\"type\":\"Circle\"},\"hover_glyph\":null,\"muted_glyph\":null,\"nonselection_glyph\":{\"id\":\"1219\",\"type\":\"Circle\"},\"selection_glyph\":null,\"view\":{\"id\":\"1221\",\"type\":\"CDSView\"}},\"id\":\"1220\",\"type\":\"GlyphRenderer\"},{\"attributes\":{\"active_drag\":\"auto\",\"active_inspect\":\"auto\",\"active_multi\":null,\"active_scroll\":\"auto\",\"active_tap\":\"auto\",\"tools\":[{\"id\":\"1002\",\"type\":\"HoverTool\"},{\"id\":\"1024\",\"type\":\"PanTool\"},{\"id\":\"1025\",\"type\":\"CrosshairTool\"},{\"id\":\"1026\",\"type\":\"WheelZoomTool\"},{\"id\":\"1027\",\"type\":\"ZoomInTool\"},{\"id\":\"1028\",\"type\":\"ZoomOutTool\"},{\"id\":\"1029\",\"type\":\"UndoTool\"},{\"id\":\"1030\",\"type\":\"ResetTool\"}]},\"id\":\"1031\",\"type\":\"Toolbar\"},{\"attributes\":{\"fill_alpha\":{\"value\":0.1},\"fill_color\":{\"value\":\"#1f77b4\"},\"line_alpha\":{\"value\":0.1},\"line_color\":{\"value\":\"#1f77b4\"},\"x\":{\"field\":\"epochs\"},\"y\":{\"field\":\"FinalObjectiveValue\"}},\"id\":\"1043\",\"type\":\"Circle\"},{\"attributes\":{},\"id\":\"1064\",\"type\":\"BasicTicker\"},{\"attributes\":{\"callback\":null,\"data\":{\"FinalObjectiveValue\":{\"__ndarray__\":\"AAAAgOCc5T8AAADApnnlPwAAAAAZc+U/AAAAINJv5T8AAABAi2zlPwAAAEDfT+U/AAAAgJVD5T8AAACApSzlPwAAAEBpb+I/\",\"dtype\":\"float64\",\"shape\":[9]},\"TrainingElapsedTimeSeconds\":{\"__ndarray__\":\"AAAAAACwcEAAAAAAAABPQAAAAAAAgE5AAAAAAACATkAAAAAAAABZQAAAAAAAYGdAAAAAAADga0AAAAAAAEBTQAAAAAAAgG9A\",\"dtype\":\"float64\",\"shape\":[9]},\"TrainingEndTime\":{\"__ndarray__\":\"AACzTccBeEIAAB3pxgF4QgAAyXPHAXhCAIAxbccBeEIAgB2axwF4QgAAyAvHAXhCAAAtEMcBeEIAAIRAxwF4QgAAHWbHAXhC\",\"dtype\":\"float64\",\"shape\":[9]},\"TrainingJobName\":[\"blazingtext-220412-0618-004-b9958b3a\",\"blazingtext-220412-0618-002-8f9262aa\",\"blazingtext-220412-0618-008-0568f555\",\"blazingtext-220412-0618-007-e81bca70\",\"blazingtext-220412-0618-009-218fe7d4\",\"blazingtext-220412-0618-003-a41f03c8\",\"blazingtext-220412-0618-001-38f5b69d\",\"blazingtext-220412-0618-005-90e7c8eb\",\"blazingtext-220412-0618-006-1dff8d55\"],\"TrainingJobStatus\":[\"Completed\",\"Completed\",\"Completed\",\"Completed\",\"Completed\",\"Completed\",\"Completed\",\"Completed\",\"Completed\"],\"TrainingStartTime\":{\"__ndarray__\":\"AICDDMcBeEIAAPrZxgF4QgCA5GTHAXhCAABNXscBeEIAgLOBxwF4QgCAIN7GAXhCAIC72cYBeEIAgLctxwF4QgAAlyjHAXhC\",\"dtype\":\"float64\",\"shape\":[9]},\"epochs\":{\"__ndarray__\":\"AAAAAAAAN0AAAAAAAAA7QAAAAAAAAD5AAAAAAAAAPkAAAAAAAAA+QAAAAAAAADhAAAAAAAAAOEAAAAAAAAAxQAAAAAAAACBA\",\"dtype\":\"float64\",\"shape\":[9]},\"index\":[5,7,1,2,0,6,8,4,3],\"learning_rate\":{\"__ndarray__\":\"8FvQqwFfgz+Jj7tgdet2P5J/iaiJSYQ/kn+JqIlJhD97FK5H4XqEP7BbjNrfaoQ/Hn3vn27Hgj+sN+kWgZd0PyJCf9HluoI/\",\"dtype\":\"float64\",\"shape\":[9]},\"min_count\":{\"__ndarray__\":\"AAAAAACAQ0AAAAAAAEBXQAAAAAAAQFJAAAAAAADAUkAAAAAAAEBSQAAAAAAAABxAAAAAAAAAOUAAAAAAAMBYQAAAAAAAwFZA\",\"dtype\":\"float64\",\"shape\":[9]},\"vector_dim\":{\"__ndarray__\":\"AAAAAABAbUAAAAAAAGBwQAAAAAAAgE1AAAAAAACATUAAAAAAAIBKQAAAAAAAIGFAAAAAAADAZEAAAAAAAABvQAAAAAAAQG1A\",\"dtype\":\"float64\",\"shape\":[9]},\"word_ngrams\":{\"__ndarray__\":\"AAAAAAAAAEAAAAAAAADwPwAAAAAAAPA/AAAAAAAA8D8AAAAAAADwPwAAAAAAAAhAAAAAAAAACEAAAAAAAADwPwAAAAAAAAhA\",\"dtype\":\"float64\",\"shape\":[9]}},\"selected\":{\"id\":\"1256\",\"type\":\"Selection\"},\"selection_policy\":{\"id\":\"1257\",\"type\":\"UnionRenderers\"}},\"id\":\"1216\",\"type\":\"ColumnDataSource\"},{\"attributes\":{\"text\":\"Objective vs min_count\"},\"id\":\"1048\",\"type\":\"Title\"},{\"attributes\":{\"ticker\":{\"id\":\"1059\",\"type\":\"BasicTicker\"}},\"id\":\"1062\",\"type\":\"Grid\"},{\"attributes\":{\"active_drag\":\"auto\",\"active_inspect\":\"auto\",\"active_multi\":null,\"active_scroll\":\"auto\",\"active_tap\":\"auto\",\"tools\":[{\"id\":\"1178\",\"type\":\"HoverTool\"},{\"id\":\"1200\",\"type\":\"PanTool\"},{\"id\":\"1201\",\"type\":\"CrosshairTool\"},{\"id\":\"1202\",\"type\":\"WheelZoomTool\"},{\"id\":\"1203\",\"type\":\"ZoomInTool\"},{\"id\":\"1204\",\"type\":\"ZoomOutTool\"},{\"id\":\"1205\",\"type\":\"UndoTool\"},{\"id\":\"1206\",\"type\":\"ResetTool\"}]},\"id\":\"1207\",\"type\":\"Toolbar\"},{\"attributes\":{\"callback\":null,\"tooltips\":[[\"FinalObjectiveValue\",\"@FinalObjectiveValue\"],[\"TrainingJobName\",\"@TrainingJobName\"],[\"epochs\",\"@{epochs}\"],[\"min_count\",\"@{min_count}\"],[\"vector_dim\",\"@{vector_dim}\"],[\"word_ngrams\",\"@{word_ngrams}\"],[\"learning_rate\",\"@{learning_rate}\"]]},\"id\":\"1090\",\"type\":\"HoverTool\"},{\"attributes\":{},\"id\":\"1059\",\"type\":\"BasicTicker\"},{\"attributes\":{},\"id\":\"1200\",\"type\":\"PanTool\"},{\"attributes\":{\"callback\":null,\"data\":{\"FinalObjectiveValue\":{\"__ndarray__\":\"AAAAgOCc5T8AAADApnnlPwAAAAAZc+U/AAAAINJv5T8AAABAi2zlPwAAAEDfT+U/AAAAgJVD5T8AAACApSzlPwAAAEBpb+I/\",\"dtype\":\"float64\",\"shape\":[9]},\"TrainingElapsedTimeSeconds\":{\"__ndarray__\":\"AAAAAACwcEAAAAAAAABPQAAAAAAAgE5AAAAAAACATkAAAAAAAABZQAAAAAAAYGdAAAAAAADga0AAAAAAAEBTQAAAAAAAgG9A\",\"dtype\":\"float64\",\"shape\":[9]},\"TrainingEndTime\":{\"__ndarray__\":\"AACzTccBeEIAAB3pxgF4QgAAyXPHAXhCAIAxbccBeEIAgB2axwF4QgAAyAvHAXhCAAAtEMcBeEIAAIRAxwF4QgAAHWbHAXhC\",\"dtype\":\"float64\",\"shape\":[9]},\"TrainingJobName\":[\"blazingtext-220412-0618-004-b9958b3a\",\"blazingtext-220412-0618-002-8f9262aa\",\"blazingtext-220412-0618-008-0568f555\",\"blazingtext-220412-0618-007-e81bca70\",\"blazingtext-220412-0618-009-218fe7d4\",\"blazingtext-220412-0618-003-a41f03c8\",\"blazingtext-220412-0618-001-38f5b69d\",\"blazingtext-220412-0618-005-90e7c8eb\",\"blazingtext-220412-0618-006-1dff8d55\"],\"TrainingJobStatus\":[\"Completed\",\"Completed\",\"Completed\",\"Completed\",\"Completed\",\"Completed\",\"Completed\",\"Completed\",\"Completed\"],\"TrainingStartTime\":{\"__ndarray__\":\"AICDDMcBeEIAAPrZxgF4QgCA5GTHAXhCAABNXscBeEIAgLOBxwF4QgCAIN7GAXhCAIC72cYBeEIAgLctxwF4QgAAlyjHAXhC\",\"dtype\":\"float64\",\"shape\":[9]},\"epochs\":{\"__ndarray__\":\"AAAAAAAAN0AAAAAAAAA7QAAAAAAAAD5AAAAAAAAAPkAAAAAAAAA+QAAAAAAAADhAAAAAAAAAOEAAAAAAAAAxQAAAAAAAACBA\",\"dtype\":\"float64\",\"shape\":[9]},\"index\":[5,7,1,2,0,6,8,4,3],\"learning_rate\":{\"__ndarray__\":\"8FvQqwFfgz+Jj7tgdet2P5J/iaiJSYQ/kn+JqIlJhD97FK5H4XqEP7BbjNrfaoQ/Hn3vn27Hgj+sN+kWgZd0PyJCf9HluoI/\",\"dtype\":\"float64\",\"shape\":[9]},\"min_count\":{\"__ndarray__\":\"AAAAAACAQ0AAAAAAAEBXQAAAAAAAQFJAAAAAAADAUkAAAAAAAEBSQAAAAAAAABxAAAAAAAAAOUAAAAAAAMBYQAAAAAAAwFZA\",\"dtype\":\"float64\",\"shape\":[9]},\"vector_dim\":{\"__ndarray__\":\"AAAAAABAbUAAAAAAAGBwQAAAAAAAgE1AAAAAAACATUAAAAAAAIBKQAAAAAAAIGFAAAAAAADAZEAAAAAAAABvQAAAAAAAQG1A\",\"dtype\":\"float64\",\"shape\":[9]},\"word_ngrams\":{\"__ndarray__\":\"AAAAAAAAAEAAAAAAAADwPwAAAAAAAPA/AAAAAAAA8D8AAAAAAADwPwAAAAAAAAhAAAAAAAAACEAAAAAAAADwPwAAAAAAAAhA\",\"dtype\":\"float64\",\"shape\":[9]}},\"selected\":{\"id\":\"1248\",\"type\":\"Selection\"},\"selection_policy\":{\"id\":\"1249\",\"type\":\"UnionRenderers\"}},\"id\":\"1040\",\"type\":\"ColumnDataSource\"},{\"attributes\":{\"source\":{\"id\":\"1128\",\"type\":\"ColumnDataSource\"}},\"id\":\"1133\",\"type\":\"CDSView\"},{\"attributes\":{\"fill_alpha\":{\"value\":0.1},\"fill_color\":{\"value\":\"#1f77b4\"},\"line_alpha\":{\"value\":0.1},\"line_color\":{\"value\":\"#1f77b4\"},\"x\":{\"field\":\"word_ngrams\"},\"y\":{\"field\":\"FinalObjectiveValue\"}},\"id\":\"1175\",\"type\":\"Circle\"},{\"attributes\":{},\"id\":\"1201\",\"type\":\"CrosshairTool\"},{\"attributes\":{\"dimension\":1,\"ticker\":{\"id\":\"1064\",\"type\":\"BasicTicker\"}},\"id\":\"1067\",\"type\":\"Grid\"},{\"attributes\":{\"data_source\":{\"id\":\"1172\",\"type\":\"ColumnDataSource\"},\"glyph\":{\"id\":\"1174\",\"type\":\"Circle\"},\"hover_glyph\":null,\"muted_glyph\":null,\"nonselection_glyph\":{\"id\":\"1175\",\"type\":\"Circle\"},\"selection_glyph\":null,\"view\":{\"id\":\"1177\",\"type\":\"CDSView\"}},\"id\":\"1176\",\"type\":\"GlyphRenderer\"},{\"attributes\":{},\"id\":\"1056\",\"type\":\"LinearScale\"},{\"attributes\":{\"active_drag\":\"auto\",\"active_inspect\":\"auto\",\"active_multi\":null,\"active_scroll\":\"auto\",\"active_tap\":\"auto\",\"tools\":[{\"id\":\"1134\",\"type\":\"HoverTool\"},{\"id\":\"1156\",\"type\":\"PanTool\"},{\"id\":\"1157\",\"type\":\"CrosshairTool\"},{\"id\":\"1158\",\"type\":\"WheelZoomTool\"},{\"id\":\"1159\",\"type\":\"ZoomInTool\"},{\"id\":\"1160\",\"type\":\"ZoomOutTool\"},{\"id\":\"1161\",\"type\":\"UndoTool\"},{\"id\":\"1162\",\"type\":\"ResetTool\"}]},\"id\":\"1163\",\"type\":\"Toolbar\"},{\"attributes\":{\"source\":{\"id\":\"1040\",\"type\":\"ColumnDataSource\"}},\"id\":\"1045\",\"type\":\"CDSView\"},{\"attributes\":{\"source\":{\"id\":\"1084\",\"type\":\"ColumnDataSource\"}},\"id\":\"1089\",\"type\":\"CDSView\"},{\"attributes\":{\"axis_label\":\"min_count\",\"formatter\":{\"id\":\"1232\",\"type\":\"BasicTickFormatter\"},\"ticker\":{\"id\":\"1059\",\"type\":\"BasicTicker\"}},\"id\":\"1058\",\"type\":\"LinearAxis\"},{\"attributes\":{\"callback\":null},\"id\":\"1050\",\"type\":\"DataRange1d\"},{\"attributes\":{},\"id\":\"1202\",\"type\":\"WheelZoomTool\"},{\"attributes\":{\"callback\":null,\"data\":{\"FinalObjectiveValue\":{\"__ndarray__\":\"AAAAgOCc5T8AAADApnnlPwAAAAAZc+U/AAAAINJv5T8AAABAi2zlPwAAAEDfT+U/AAAAgJVD5T8AAACApSzlPwAAAEBpb+I/\",\"dtype\":\"float64\",\"shape\":[9]},\"TrainingElapsedTimeSeconds\":{\"__ndarray__\":\"AAAAAACwcEAAAAAAAABPQAAAAAAAgE5AAAAAAACATkAAAAAAAABZQAAAAAAAYGdAAAAAAADga0AAAAAAAEBTQAAAAAAAgG9A\",\"dtype\":\"float64\",\"shape\":[9]},\"TrainingEndTime\":{\"__ndarray__\":\"AACzTccBeEIAAB3pxgF4QgAAyXPHAXhCAIAxbccBeEIAgB2axwF4QgAAyAvHAXhCAAAtEMcBeEIAAIRAxwF4QgAAHWbHAXhC\",\"dtype\":\"float64\",\"shape\":[9]},\"TrainingJobName\":[\"blazingtext-220412-0618-004-b9958b3a\",\"blazingtext-220412-0618-002-8f9262aa\",\"blazingtext-220412-0618-008-0568f555\",\"blazingtext-220412-0618-007-e81bca70\",\"blazingtext-220412-0618-009-218fe7d4\",\"blazingtext-220412-0618-003-a41f03c8\",\"blazingtext-220412-0618-001-38f5b69d\",\"blazingtext-220412-0618-005-90e7c8eb\",\"blazingtext-220412-0618-006-1dff8d55\"],\"TrainingJobStatus\":[\"Completed\",\"Completed\",\"Completed\",\"Completed\",\"Completed\",\"Completed\",\"Completed\",\"Completed\",\"Completed\"],\"TrainingStartTime\":{\"__ndarray__\":\"AICDDMcBeEIAAPrZxgF4QgCA5GTHAXhCAABNXscBeEIAgLOBxwF4QgCAIN7GAXhCAIC72cYBeEIAgLctxwF4QgAAlyjHAXhC\",\"dtype\":\"float64\",\"shape\":[9]},\"epochs\":{\"__ndarray__\":\"AAAAAAAAN0AAAAAAAAA7QAAAAAAAAD5AAAAAAAAAPkAAAAAAAAA+QAAAAAAAADhAAAAAAAAAOEAAAAAAAAAxQAAAAAAAACBA\",\"dtype\":\"float64\",\"shape\":[9]},\"index\":[5,7,1,2,0,6,8,4,3],\"learning_rate\":{\"__ndarray__\":\"8FvQqwFfgz+Jj7tgdet2P5J/iaiJSYQ/kn+JqIlJhD97FK5H4XqEP7BbjNrfaoQ/Hn3vn27Hgj+sN+kWgZd0PyJCf9HluoI/\",\"dtype\":\"float64\",\"shape\":[9]},\"min_count\":{\"__ndarray__\":\"AAAAAACAQ0AAAAAAAEBXQAAAAAAAQFJAAAAAAADAUkAAAAAAAEBSQAAAAAAAABxAAAAAAAAAOUAAAAAAAMBYQAAAAAAAwFZA\",\"dtype\":\"float64\",\"shape\":[9]},\"vector_dim\":{\"__ndarray__\":\"AAAAAABAbUAAAAAAAGBwQAAAAAAAgE1AAAAAAACATUAAAAAAAIBKQAAAAAAAIGFAAAAAAADAZEAAAAAAAABvQAAAAAAAQG1A\",\"dtype\":\"float64\",\"shape\":[9]},\"word_ngrams\":{\"__ndarray__\":\"AAAAAAAAAEAAAAAAAADwPwAAAAAAAPA/AAAAAAAA8D8AAAAAAADwPwAAAAAAAAhAAAAAAAAACEAAAAAAAADwPwAAAAAAAAhA\",\"dtype\":\"float64\",\"shape\":[9]}},\"selected\":{\"id\":\"1254\",\"type\":\"Selection\"},\"selection_policy\":{\"id\":\"1255\",\"type\":\"UnionRenderers\"}},\"id\":\"1172\",\"type\":\"ColumnDataSource\"},{\"attributes\":{},\"id\":\"1203\",\"type\":\"ZoomInTool\"},{\"attributes\":{},\"id\":\"1027\",\"type\":\"ZoomInTool\"},{\"attributes\":{},\"id\":\"1205\",\"type\":\"UndoTool\"},{\"attributes\":{\"active_drag\":\"auto\",\"active_inspect\":\"auto\",\"active_multi\":null,\"active_scroll\":\"auto\",\"active_tap\":\"auto\",\"tools\":[{\"id\":\"1090\",\"type\":\"HoverTool\"},{\"id\":\"1112\",\"type\":\"PanTool\"},{\"id\":\"1113\",\"type\":\"CrosshairTool\"},{\"id\":\"1114\",\"type\":\"WheelZoomTool\"},{\"id\":\"1115\",\"type\":\"ZoomInTool\"},{\"id\":\"1116\",\"type\":\"ZoomOutTool\"},{\"id\":\"1117\",\"type\":\"UndoTool\"},{\"id\":\"1118\",\"type\":\"ResetTool\"}]},\"id\":\"1119\",\"type\":\"Toolbar\"},{\"attributes\":{},\"id\":\"1156\",\"type\":\"PanTool\"},{\"attributes\":{\"axis_label\":\"validation:accuracy\",\"formatter\":{\"id\":\"1230\",\"type\":\"BasicTickFormatter\"},\"ticker\":{\"id\":\"1020\",\"type\":\"BasicTicker\"}},\"id\":\"1019\",\"type\":\"LinearAxis\"},{\"attributes\":{},\"id\":\"1020\",\"type\":\"BasicTicker\"},{\"attributes\":{},\"id\":\"1030\",\"type\":\"ResetTool\"},{\"attributes\":{\"callback\":null,\"data\":{\"FinalObjectiveValue\":{\"__ndarray__\":\"AAAAgOCc5T8AAADApnnlPwAAAAAZc+U/AAAAINJv5T8AAABAi2zlPwAAAEDfT+U/AAAAgJVD5T8AAACApSzlPwAAAEBpb+I/\",\"dtype\":\"float64\",\"shape\":[9]},\"TrainingElapsedTimeSeconds\":{\"__ndarray__\":\"AAAAAACwcEAAAAAAAABPQAAAAAAAgE5AAAAAAACATkAAAAAAAABZQAAAAAAAYGdAAAAAAADga0AAAAAAAEBTQAAAAAAAgG9A\",\"dtype\":\"float64\",\"shape\":[9]},\"TrainingEndTime\":{\"__ndarray__\":\"AACzTccBeEIAAB3pxgF4QgAAyXPHAXhCAIAxbccBeEIAgB2axwF4QgAAyAvHAXhCAAAtEMcBeEIAAIRAxwF4QgAAHWbHAXhC\",\"dtype\":\"float64\",\"shape\":[9]},\"TrainingJobName\":[\"blazingtext-220412-0618-004-b9958b3a\",\"blazingtext-220412-0618-002-8f9262aa\",\"blazingtext-220412-0618-008-0568f555\",\"blazingtext-220412-0618-007-e81bca70\",\"blazingtext-220412-0618-009-218fe7d4\",\"blazingtext-220412-0618-003-a41f03c8\",\"blazingtext-220412-0618-001-38f5b69d\",\"blazingtext-220412-0618-005-90e7c8eb\",\"blazingtext-220412-0618-006-1dff8d55\"],\"TrainingJobStatus\":[\"Completed\",\"Completed\",\"Completed\",\"Completed\",\"Completed\",\"Completed\",\"Completed\",\"Completed\",\"Completed\"],\"TrainingStartTime\":{\"__ndarray__\":\"AICDDMcBeEIAAPrZxgF4QgCA5GTHAXhCAABNXscBeEIAgLOBxwF4QgCAIN7GAXhCAIC72cYBeEIAgLctxwF4QgAAlyjHAXhC\",\"dtype\":\"float64\",\"shape\":[9]},\"epochs\":{\"__ndarray__\":\"AAAAAAAAN0AAAAAAAAA7QAAAAAAAAD5AAAAAAAAAPkAAAAAAAAA+QAAAAAAAADhAAAAAAAAAOEAAAAAAAAAxQAAAAAAAACBA\",\"dtype\":\"float64\",\"shape\":[9]},\"index\":[5,7,1,2,0,6,8,4,3],\"learning_rate\":{\"__ndarray__\":\"8FvQqwFfgz+Jj7tgdet2P5J/iaiJSYQ/kn+JqIlJhD97FK5H4XqEP7BbjNrfaoQ/Hn3vn27Hgj+sN+kWgZd0PyJCf9HluoI/\",\"dtype\":\"float64\",\"shape\":[9]},\"min_count\":{\"__ndarray__\":\"AAAAAACAQ0AAAAAAAEBXQAAAAAAAQFJAAAAAAADAUkAAAAAAAEBSQAAAAAAAABxAAAAAAAAAOUAAAAAAAMBYQAAAAAAAwFZA\",\"dtype\":\"float64\",\"shape\":[9]},\"vector_dim\":{\"__ndarray__\":\"AAAAAABAbUAAAAAAAGBwQAAAAAAAgE1AAAAAAACATUAAAAAAAIBKQAAAAAAAIGFAAAAAAADAZEAAAAAAAABvQAAAAAAAQG1A\",\"dtype\":\"float64\",\"shape\":[9]},\"word_ngrams\":{\"__ndarray__\":\"AAAAAAAAAEAAAAAAAADwPwAAAAAAAPA/AAAAAAAA8D8AAAAAAADwPwAAAAAAAAhAAAAAAAAACEAAAAAAAADwPwAAAAAAAAhA\",\"dtype\":\"float64\",\"shape\":[9]}},\"selected\":{\"id\":\"1252\",\"type\":\"Selection\"},\"selection_policy\":{\"id\":\"1253\",\"type\":\"UnionRenderers\"}},\"id\":\"1128\",\"type\":\"ColumnDataSource\"},{\"attributes\":{},\"id\":\"1157\",\"type\":\"CrosshairTool\"},{\"attributes\":{},\"id\":\"1028\",\"type\":\"ZoomOutTool\"},{\"attributes\":{\"fill_alpha\":{\"value\":0.1},\"fill_color\":{\"value\":\"#1f77b4\"},\"line_alpha\":{\"value\":0.1},\"line_color\":{\"value\":\"#1f77b4\"},\"x\":{\"field\":\"vector_dim\"},\"y\":{\"field\":\"FinalObjectiveValue\"}},\"id\":\"1131\",\"type\":\"Circle\"},{\"attributes\":{},\"id\":\"1244\",\"type\":\"BasicTickFormatter\"},{\"attributes\":{},\"id\":\"1204\",\"type\":\"ZoomOutTool\"},{\"attributes\":{\"text\":\"Objective vs epochs\"},\"id\":\"1004\",\"type\":\"Title\"},{\"attributes\":{\"active_drag\":\"auto\",\"active_inspect\":\"auto\",\"active_multi\":null,\"active_scroll\":\"auto\",\"active_tap\":\"auto\",\"tools\":[{\"id\":\"1046\",\"type\":\"HoverTool\"},{\"id\":\"1068\",\"type\":\"PanTool\"},{\"id\":\"1069\",\"type\":\"CrosshairTool\"},{\"id\":\"1070\",\"type\":\"WheelZoomTool\"},{\"id\":\"1071\",\"type\":\"ZoomInTool\"},{\"id\":\"1072\",\"type\":\"ZoomOutTool\"},{\"id\":\"1073\",\"type\":\"UndoTool\"},{\"id\":\"1074\",\"type\":\"ResetTool\"}]},\"id\":\"1075\",\"type\":\"Toolbar\"},{\"attributes\":{},\"id\":\"1112\",\"type\":\"PanTool\"},{\"attributes\":{},\"id\":\"1158\",\"type\":\"WheelZoomTool\"},{\"attributes\":{\"fill_color\":{\"value\":\"#1f77b4\"},\"line_color\":{\"value\":\"#1f77b4\"},\"x\":{\"field\":\"min_count\"},\"y\":{\"field\":\"FinalObjectiveValue\"}},\"id\":\"1086\",\"type\":\"Circle\"},{\"attributes\":{},\"id\":\"1206\",\"type\":\"ResetTool\"},{\"attributes\":{},\"id\":\"1113\",\"type\":\"CrosshairTool\"},{\"attributes\":{},\"id\":\"1159\",\"type\":\"ZoomInTool\"},{\"attributes\":{\"dimension\":1,\"ticker\":{\"id\":\"1020\",\"type\":\"BasicTicker\"}},\"id\":\"1023\",\"type\":\"Grid\"},{\"attributes\":{\"data_source\":{\"id\":\"1084\",\"type\":\"ColumnDataSource\"},\"glyph\":{\"id\":\"1086\",\"type\":\"Circle\"},\"hover_glyph\":null,\"muted_glyph\":null,\"nonselection_glyph\":{\"id\":\"1087\",\"type\":\"Circle\"},\"selection_glyph\":null,\"view\":{\"id\":\"1089\",\"type\":\"CDSView\"}},\"id\":\"1088\",\"type\":\"GlyphRenderer\"},{\"attributes\":{},\"id\":\"1161\",\"type\":\"UndoTool\"},{\"attributes\":{},\"id\":\"1068\",\"type\":\"PanTool\"},{\"attributes\":{},\"id\":\"1114\",\"type\":\"WheelZoomTool\"},{\"attributes\":{\"fill_alpha\":{\"value\":0.1},\"fill_color\":{\"value\":\"#1f77b4\"},\"line_alpha\":{\"value\":0.1},\"line_color\":{\"value\":\"#1f77b4\"},\"x\":{\"field\":\"learning_rate\"},\"y\":{\"field\":\"FinalObjectiveValue\"}},\"id\":\"1219\",\"type\":\"Circle\"},{\"attributes\":{},\"id\":\"1069\",\"type\":\"CrosshairTool\"},{\"attributes\":{},\"id\":\"1115\",\"type\":\"ZoomInTool\"},{\"attributes\":{\"data_source\":{\"id\":\"1128\",\"type\":\"ColumnDataSource\"},\"glyph\":{\"id\":\"1130\",\"type\":\"Circle\"},\"hover_glyph\":null,\"muted_glyph\":null,\"nonselection_glyph\":{\"id\":\"1131\",\"type\":\"Circle\"},\"selection_glyph\":null,\"view\":{\"id\":\"1133\",\"type\":\"CDSView\"}},\"id\":\"1132\",\"type\":\"GlyphRenderer\"}],\"root_ids\":[\"1222\"]},\"title\":\"Bokeh Application\",\"version\":\"1.4.0\"}};\n",
       "  var render_items = [{\"docid\":\"04b75f01-7d95-413b-b3c1-78dea5a573a1\",\"roots\":{\"1222\":\"9fa0909e-5723-41e7-a609-39e2accfb8e1\"}}];\n",
       "  root.Bokeh.embed.embed_items_notebook(docs_json, render_items);\n",
       "\n",
       "  }\n",
       "  if (root.Bokeh !== undefined) {\n",
       "    embed_document(root);\n",
       "  } else {\n",
       "    var attempts = 0;\n",
       "    var timer = setInterval(function(root) {\n",
       "      if (root.Bokeh !== undefined) {\n",
       "        clearInterval(timer);\n",
       "        embed_document(root);\n",
       "      } else {\n",
       "        attempts++;\n",
       "        if (attempts > 100) {\n",
       "          clearInterval(timer);\n",
       "          console.log(\"Bokeh: ERROR: Unable to run BokehJS code because BokehJS library is missing\");\n",
       "        }\n",
       "      }\n",
       "    }, 10, root)\n",
       "  }\n",
       "})(window);"
      ],
      "application/vnd.bokehjs_exec.v0+json": ""
     },
     "metadata": {
      "application/vnd.bokehjs_exec.v0+json": {
       "id": "1222"
      }
     },
     "output_type": "display_data"
    }
   ],
   "source": [
    "import bokeh\n",
    "from bokeh.io import output_notebook\n",
    "from bokeh.plotting import figure, show\n",
    "from bokeh.models import HoverTool\n",
    "\n",
    "output_notebook()\n",
    "\n",
    "class HoverHelper():\n",
    "    def __init__(self, tuning_analytics):\n",
    "        self.tuner = tuning_analytics\n",
    "\n",
    "    def hovertool(self):\n",
    "        tooltips = [\n",
    "            (\"FinalObjectiveValue\", \"@FinalObjectiveValue\"),\n",
    "            (\"TrainingJobName\", \"@TrainingJobName\"),\n",
    "        ]\n",
    "        for k in self.tuner.tuning_ranges.keys():\n",
    "            tooltips.append( (k, \"@{%s}\" % k) )\n",
    "        ht = HoverTool(tooltips=tooltips)\n",
    "        return ht\n",
    "\n",
    "    def tools(self, standard_tools='pan,crosshair,wheel_zoom,zoom_in,zoom_out,undo,reset'):\n",
    "        return [self.hovertool(), standard_tools]\n",
    "\n",
    "def compare_metrics(tuner_analytics, jobs_df):\n",
    "    hover = HoverHelper(tuner_analytics)\n",
    "    figures = []\n",
    "    for hp_name, hp_range in tuner_analytics.tuning_ranges.items():\n",
    "        categorical_args = {}\n",
    "        if hp_range.get('Values'):\n",
    "            # This is marked as categorical.  Check if all options are actually numbers.\n",
    "            def is_num(x):\n",
    "                try:\n",
    "                    float(x)\n",
    "                    return 1\n",
    "                except:\n",
    "                    return 0           \n",
    "            vals = hp_range['Values']\n",
    "            if sum([is_num(x) for x in vals]) == len(vals):\n",
    "                # Bokeh has issues plotting a \"categorical\" range that's actually numeric, so plot as numeric\n",
    "                print(f\"Hyperparameter {hp_name} is tuned as categorical, but all values are numeric\")\n",
    "            else:\n",
    "                # Set up extra options for plotting categoricals.  A bit tricky when they're actually numbers.\n",
    "                categorical_args['x_range'] = vals\n",
    "\n",
    "        # Now plot it\n",
    "        p = figure(plot_width=500, plot_height=500, \n",
    "                   title=f\"Objective vs {hp_name}\",\n",
    "                   tools=hover.tools(),\n",
    "                   x_axis_label=hp_name, y_axis_label=objective_name,\n",
    "                   **categorical_args)\n",
    "        p.circle(source=jobs_df, x=hp_name, y='FinalObjectiveValue')\n",
    "        figures.append(p)\n",
    "    show(bokeh.layouts.Column(*figures))\n",
    "    \n",
    "compare_metrics(tuner_analytics, jobs_df)"
   ]
  },
  {
   "cell_type": "markdown",
   "metadata": {},
   "source": [
    "Create an experiment trial for the tuning job, and associate the training jobs (this will take < 20 seconds)."
   ]
  },
  {
   "cell_type": "code",
   "execution_count": 45,
   "metadata": {},
   "outputs": [
    {
     "name": "stdout",
     "output_type": "stream",
     "text": [
      "Trial 'p-7savmzladneb-tuning-job' created\n",
      "Associated 'blazingtext-220412-0618-009-218fe7d4-aws-training-job'\n",
      "Associated 'blazingtext-220412-0618-008-0568f555-aws-training-job'\n",
      "Associated 'blazingtext-220412-0618-007-e81bca70-aws-training-job'\n",
      "Associated 'blazingtext-220412-0618-006-1dff8d55-aws-training-job'\n",
      "Associated 'blazingtext-220412-0618-005-90e7c8eb-aws-training-job'\n",
      "Associated 'blazingtext-220412-0618-004-b9958b3a-aws-training-job'\n",
      "Associated 'blazingtext-220412-0618-003-a41f03c8-aws-training-job'\n",
      "Associated 'blazingtext-220412-0618-002-8f9262aa-aws-training-job'\n",
      "Associated 'blazingtext-220412-0618-001-38f5b69d-aws-training-job'\n",
      "CPU times: user 215 ms, sys: 15 ms, total: 230 ms\n",
      "Wall time: 10.8 s\n"
     ]
    }
   ],
   "source": [
    "%%time\n",
    "\n",
    "# Create the tuning trial\n",
    "trial_name = f\"{project_id}-tuning-job\"\n",
    "create_trial(trial_name, \"tuning-job\")\n",
    "\n",
    "for i, tjs in enumerate(tuner_analytics.training_job_summaries()):\n",
    "    associate_trial_component(tjs['TrainingJobArn'], trial_name)"
   ]
  },
  {
   "cell_type": "markdown",
   "metadata": {},
   "source": [
    "### Register Model\n",
    "\n",
    "Register and approve the best performing model in the `challenger` model package group in the Model Registry."
   ]
  },
  {
   "cell_type": "code",
   "execution_count": 92,
   "metadata": {},
   "outputs": [
    {
     "name": "stdout",
     "output_type": "stream",
     "text": [
      "\n",
      "2022-04-12 06:27:42 Starting - Preparing the instances for training\n",
      "2022-04-12 06:27:42 Downloading - Downloading input data\n",
      "2022-04-12 06:27:42 Training - Training image download completed. Training in progress.\n",
      "2022-04-12 06:27:42 Uploading - Uploading generated training model\n",
      "2022-04-12 06:27:42 Completed - Training job completed\n",
      "Registered and Approved Challenger Version: 3\n"
     ]
    }
   ],
   "source": [
    "best_estimator = tuner.best_estimator()\n",
    "\n",
    "challenger_model_group = f\"{project_name}-challenger\"\n",
    "\n",
    "model_package = best_estimator.register(\n",
    "    content_types=[\"text/plain\"],\n",
    "    response_types=[\"text/csv\"],\n",
    "    inference_instances=[\"ml.t2.large\", \"ml.m5.xlarge\"],\n",
    "    transform_instances=[\"ml.m5.xlarge\"],\n",
    "    model_package_group_name=challenger_model_group,\n",
    "    approval_status=\"Approved\"\n",
    ")\n",
    "\n",
    "model_package_version = model_package.model_package_arn.split('/')[-1]\n",
    "print(f\"Registered and Approved Challenger Version: {model_package_version}\")"
   ]
  },
  {
   "cell_type": "markdown",
   "metadata": {},
   "source": [
    "List the top `champion` and `challenger` approved models to verify that these have been approved."
   ]
  },
  {
   "cell_type": "code",
   "execution_count": 96,
   "metadata": {
    "scrolled": true
   },
   "outputs": [
    {
     "data": {
      "text/html": [
       "<div>\n",
       "<style scoped>\n",
       "    .dataframe tbody tr th:only-of-type {\n",
       "        vertical-align: middle;\n",
       "    }\n",
       "\n",
       "    .dataframe tbody tr th {\n",
       "        vertical-align: top;\n",
       "    }\n",
       "\n",
       "    .dataframe thead th {\n",
       "        text-align: right;\n",
       "    }\n",
       "</style>\n",
       "<table border=\"1\" class=\"dataframe\">\n",
       "  <thead>\n",
       "    <tr style=\"text-align: right;\">\n",
       "      <th></th>\n",
       "      <th>ModelPackageGroupName</th>\n",
       "      <th>ModelPackageVersion</th>\n",
       "      <th>CreationTime</th>\n",
       "      <th>ModelApprovalStatus</th>\n",
       "    </tr>\n",
       "  </thead>\n",
       "  <tbody>\n",
       "    <tr>\n",
       "      <th>0</th>\n",
       "      <td>ab-testing-champion</td>\n",
       "      <td>2</td>\n",
       "      <td>2022-04-12 07:00:33.893000+00:00</td>\n",
       "      <td>Approved</td>\n",
       "    </tr>\n",
       "    <tr>\n",
       "      <th>0</th>\n",
       "      <td>ab-testing-challenger</td>\n",
       "      <td>3</td>\n",
       "      <td>2022-04-12 09:44:04.275000+00:00</td>\n",
       "      <td>Approved</td>\n",
       "    </tr>\n",
       "  </tbody>\n",
       "</table>\n",
       "</div>"
      ],
      "text/plain": [
       "   ModelPackageGroupName  ModelPackageVersion  \\\n",
       "0    ab-testing-champion                    2   \n",
       "0  ab-testing-challenger                    3   \n",
       "\n",
       "                      CreationTime ModelApprovalStatus  \n",
       "0 2022-04-12 07:00:33.893000+00:00            Approved  \n",
       "0 2022-04-12 09:44:04.275000+00:00            Approved  "
      ]
     },
     "execution_count": 96,
     "metadata": {},
     "output_type": "execute_result"
    }
   ],
   "source": [
    "cols = ['ModelPackageGroupName', 'ModelPackageVersion', 'CreationTime', 'ModelApprovalStatus']\n",
    "champion_response = sm_client.list_model_packages(ModelPackageGroupName=champion_model_group)\n",
    "challenger_response = sm_client.list_model_packages(ModelPackageGroupName=challenger_model_group)\n",
    "champion_df = pd.DataFrame(champion_response['ModelPackageSummaryList'], columns=cols).head(1)\n",
    "challenger_df = pd.DataFrame(challenger_response['ModelPackageSummaryList'], columns=cols).head(1)\n",
    "pd.concat([champion_df, challenger_df])"
   ]
  },
  {
   "cell_type": "markdown",
   "metadata": {},
   "source": [
    "You should now have an AWS CodePipeline job running that will update your endpoint with these latest models."
   ]
  },
  {
   "cell_type": "markdown",
   "metadata": {},
   "source": [
    "## Test Endpoint\n",
    "\n",
    "### Invoke endpoint\n",
    "\n",
    "Ensure that our endpoint is in service.  Set the `stage_name` here if not `dev`\n",
    "\n",
    "👇👇👇"
   ]
  },
  {
   "cell_type": "code",
   "execution_count": 97,
   "metadata": {},
   "outputs": [],
   "source": [
    "stage_name = 'dev' # << Update this with the stage name\n",
    "\n",
    "endpoint_name = f'sagemaker-{project_name}-{stage_name}' \n",
    "\n",
    "endpoint_status = sm_client.describe_endpoint(EndpointName = endpoint_name)['EndpointStatus']\n",
    "if endpoint_status != 'InService':\n",
    "    raise Exception(f'Endpoint {endpoint_name} status is: {endpoint_status}')"
   ]
  },
  {
   "cell_type": "markdown",
   "metadata": {},
   "source": [
    "Firstly we load back the test dataset that we held out during training."
   ]
  },
  {
   "cell_type": "code",
   "execution_count": 98,
   "metadata": {},
   "outputs": [],
   "source": [
    "import pandas as pd\n",
    "\n",
    "test_df = pd.read_csv(\"test.csv\")"
   ]
  },
  {
   "cell_type": "markdown",
   "metadata": {},
   "source": [
    "Create a method to get predictions in batches"
   ]
  },
  {
   "cell_type": "code",
   "execution_count": 99,
   "metadata": {},
   "outputs": [],
   "source": [
    "import boto3\n",
    "import json\n",
    "\n",
    "runtime = boto3.Session().client('sagemaker-runtime')\n",
    "\n",
    "def chunker(seq, batch_size):\n",
    "    return (seq[pos:pos + batch_size] for pos in range(0, len(seq), batch_size))\n",
    "\n",
    "def parse_predictions(results):\n",
    "    return [(result['label'][0] == '__label__Helpful', result['prob'][0]) for result in results]    \n",
    "\n",
    "def predict(endpoint_name, variant_name, data, batch_size=50):\n",
    "    all_predictions = []\n",
    "    for array in chunker(data, batch_size):\n",
    "        payload = {\"instances\" : array, \"configuration\": {\"k\": 1} }\n",
    "        try:\n",
    "            response = runtime.invoke_endpoint(\n",
    "                EndpointName = endpoint_name, \n",
    "                TargetVariant = variant_name,\n",
    "                ContentType = 'application/json',                        \n",
    "                Body = json.dumps(payload))\n",
    "            predictions = json.loads(response['Body'].read())            \n",
    "            all_predictions += parse_predictions(predictions)\n",
    "        except Exception as e:\n",
    "            print(e)\n",
    "            print(payload)\n",
    "    return all_predictions"
   ]
  },
  {
   "cell_type": "markdown",
   "metadata": {},
   "source": [
    "Get the variant names for the deployed endpoint"
   ]
  },
  {
   "cell_type": "code",
   "execution_count": 100,
   "metadata": {},
   "outputs": [
    {
     "data": {
      "text/plain": [
       "['Champion2', 'Challenger3']"
      ]
     },
     "execution_count": 100,
     "metadata": {},
     "output_type": "execute_result"
    }
   ],
   "source": [
    "[pv['VariantName'] for pv in sm_client.describe_endpoint(EndpointName=endpoint_name)['ProductionVariants']]"
   ]
  },
  {
   "cell_type": "code",
   "execution_count": 101,
   "metadata": {},
   "outputs": [
    {
     "data": {
      "text/plain": [
       "['Champion2', 'Challenger3']"
      ]
     },
     "execution_count": 101,
     "metadata": {},
     "output_type": "execute_result"
    }
   ],
   "source": [
    "variant_names = [pv['VariantName'] for pv in sm_client.describe_endpoint(EndpointName=endpoint_name)['ProductionVariants']]\n",
    "if len(variant_names) < 2:\n",
    "    raise Exception('Require at least 2 variants for A/B Testing')\n",
    "\n",
    "variant_names"
   ]
  },
  {
   "cell_type": "markdown",
   "metadata": {},
   "source": [
    "#### 두 개의 변형에 각각 추론"
   ]
  },
  {
   "cell_type": "markdown",
   "metadata": {},
   "source": [
    "Make the predictions in batchs of 50 (should take < 20 seconds)"
   ]
  },
  {
   "cell_type": "code",
   "execution_count": 102,
   "metadata": {},
   "outputs": [
    {
     "name": "stdout",
     "output_type": "stream",
     "text": [
      "CPU times: user 6.89 s, sys: 113 ms, total: 7 s\n",
      "Wall time: 16.1 s\n"
     ]
    }
   ],
   "source": [
    "%%time\n",
    "batch_size = 50\n",
    "test_input = tokenize_df(test_df).to_list()\n",
    "\n",
    "test_preds = [predict(endpoint_name, variant_name, test_input, batch_size) for variant_name in variant_names]"
   ]
  },
  {
   "cell_type": "code",
   "execution_count": 120,
   "metadata": {},
   "outputs": [
    {
     "name": "stdout",
     "output_type": "stream",
     "text": [
      "Size of input:  14226\n",
      "Prediction Shape:  (2, 14226, 2)\n"
     ]
    }
   ],
   "source": [
    "import numpy as np\n",
    "# print(test_input[0])\n",
    "# print(test_preds[0][0])\n",
    "print(\"Size of input: \", len(test_input))\n",
    "print(\"Prediction Shape: \", np.asarray(test_preds).shape)\n"
   ]
  },
  {
   "cell_type": "markdown",
   "metadata": {},
   "source": [
    "Join the dataset with test set to evaluate performance"
   ]
  },
  {
   "cell_type": "code",
   "execution_count": 121,
   "metadata": {},
   "outputs": [],
   "source": [
    "def join_test(test_df, predictions, variant_name):\n",
    "    pred_df = pd.DataFrame(predictions, columns=['is_helpful_prediction', 'is_helpful_prob'])\n",
    "    pred_df['variant_name'] = variant_name\n",
    "    return test_df[['is_helpful']].join(pred_df)\n",
    "\n",
    "# Create a combined dataset for each variant and output accuracy\n",
    "join_df = pd.concat([join_test(test_df, predictions, variant_names[i]) for (i, predictions) in enumerate(test_preds)])"
   ]
  },
  {
   "cell_type": "code",
   "execution_count": 123,
   "metadata": {},
   "outputs": [
    {
     "data": {
      "text/html": [
       "<div>\n",
       "<style scoped>\n",
       "    .dataframe tbody tr th:only-of-type {\n",
       "        vertical-align: middle;\n",
       "    }\n",
       "\n",
       "    .dataframe tbody tr th {\n",
       "        vertical-align: top;\n",
       "    }\n",
       "\n",
       "    .dataframe thead th {\n",
       "        text-align: right;\n",
       "    }\n",
       "</style>\n",
       "<table border=\"1\" class=\"dataframe\">\n",
       "  <thead>\n",
       "    <tr style=\"text-align: right;\">\n",
       "      <th></th>\n",
       "      <th>is_helpful</th>\n",
       "      <th>is_helpful_prediction</th>\n",
       "      <th>is_helpful_prob</th>\n",
       "      <th>variant_name</th>\n",
       "    </tr>\n",
       "  </thead>\n",
       "  <tbody>\n",
       "    <tr>\n",
       "      <th>0</th>\n",
       "      <td>False</td>\n",
       "      <td>True</td>\n",
       "      <td>0.541072</td>\n",
       "      <td>Champion2</td>\n",
       "    </tr>\n",
       "    <tr>\n",
       "      <th>1</th>\n",
       "      <td>True</td>\n",
       "      <td>True</td>\n",
       "      <td>0.666277</td>\n",
       "      <td>Champion2</td>\n",
       "    </tr>\n",
       "  </tbody>\n",
       "</table>\n",
       "</div>"
      ],
      "text/plain": [
       "   is_helpful  is_helpful_prediction  is_helpful_prob variant_name\n",
       "0       False                   True         0.541072    Champion2\n",
       "1        True                   True         0.666277    Champion2"
      ]
     },
     "execution_count": 123,
     "metadata": {},
     "output_type": "execute_result"
    }
   ],
   "source": [
    "join_df.head(2)"
   ]
  },
  {
   "cell_type": "markdown",
   "metadata": {},
   "source": [
    "### Evaulate variants\n",
    "\n",
    "Output the test accuracy metric for each variant"
   ]
  },
  {
   "cell_type": "code",
   "execution_count": 124,
   "metadata": {},
   "outputs": [
    {
     "data": {
      "text/plain": [
       "variant_name\n",
       "Challenger3    0.661535\n",
       "Champion2      0.661535\n",
       "dtype: float64"
      ]
     },
     "execution_count": 124,
     "metadata": {},
     "output_type": "execute_result"
    }
   ],
   "source": [
    "from sklearn.metrics import accuracy_score, f1_score\n",
    "\n",
    "join_df.groupby('variant_name').apply(lambda g: accuracy_score(g['is_helpful_prediction'], g['is_helpful']))"
   ]
  },
  {
   "cell_type": "markdown",
   "metadata": {},
   "source": [
    "Get the confusion matrix for this binary classifier"
   ]
  },
  {
   "cell_type": "code",
   "execution_count": 125,
   "metadata": {},
   "outputs": [
    {
     "name": "stdout",
     "output_type": "stream",
     "text": [
      "Champion2 [[3814 2491]\n",
      " [2324 5597]]\n",
      "Challenger3 [[3814 2491]\n",
      " [2324 5597]]\n"
     ]
    },
    {
     "name": "stderr",
     "output_type": "stream",
     "text": [
      "/opt/conda/lib/python3.7/site-packages/ipykernel_launcher.py:8: DeprecationWarning: `np.float` is a deprecated alias for the builtin `float`. To silence this warning, use `float` by itself. Doing this will not modify any behavior and is safe. If you specifically wanted the numpy scalar type, use `np.float64` here.\n",
      "Deprecated in NumPy 1.20; for more details and guidance: https://numpy.org/devdocs/release/1.20.0-notes.html#deprecations\n",
      "  \n"
     ]
    },
    {
     "data": {
      "text/plain": [
       "<seaborn.axisgrid.FacetGrid at 0x7f76c0e9a190>"
      ]
     },
     "execution_count": 125,
     "metadata": {},
     "output_type": "execute_result"
    },
    {
     "data": {
      "image/png": "[encoded data removed]",
      "text/plain": [
       "<Figure size 576x288 with 4 Axes>"
      ]
     },
     "metadata": {},
     "output_type": "display_data"
    }
   ],
   "source": [
    "from sklearn.metrics import confusion_matrix\n",
    "import seaborn as sns\n",
    "import numpy as np\n",
    "\n",
    "def draw_heatmap(data, **kwargs):\n",
    "    cf_matrix = confusion_matrix(data['is_helpful'], data['is_helpful_prediction'])\n",
    "    print(data['variant_name'].unique()[0], cf_matrix)\n",
    "    cf_percent = cf_matrix / cf_matrix.astype(np.float).sum(axis=1)\n",
    "    sns.heatmap(cf_percent, annot=True, fmt=\".4%\")\n",
    "\n",
    "fg = sns.FacetGrid(join_df, col='variant_name', height=4)\n",
    "fg.map_dataframe(draw_heatmap)"
   ]
  },
  {
   "cell_type": "markdown",
   "metadata": {},
   "source": [
    "Plot the ROC curve for the binary classification."
   ]
  },
  {
   "cell_type": "code",
   "execution_count": 126,
   "metadata": {},
   "outputs": [
    {
     "data": {
      "image/png": "[encoded data removed]",
      "text/plain": [
       "<Figure size 648x288 with 2 Axes>"
      ]
     },
     "metadata": {},
     "output_type": "display_data"
    }
   ],
   "source": [
    "from sklearn.metrics import roc_curve, roc_auc_score\n",
    "import matplotlib.pyplot as plt\n",
    "\n",
    "def plot_roc(data):\n",
    "    # Create horizontally stack plots (max is to to create at least 2 charts)\n",
    "    fig, axs = plt.subplots(1, max(len(variant_names), 2), figsize=(9,4))\n",
    "    fig.suptitle('Receiver Operating Chracteristic (ROC) curves by Variant')\n",
    "    colors = sns.color_palette(\"Paired\")\n",
    "    # Plot the ROC curves by variant name\n",
    "    for i, (variant_name, pred_df) in enumerate(data.groupby('variant_name')):        \n",
    "        # Get true probability for ROC\n",
    "        tp = pred_df.apply(lambda r: r['is_helpful_prob'] if r['is_helpful_prediction'] else \n",
    "                           1-r['is_helpful_prob'], axis=1)\n",
    "        fpr, tpr, _ = roc_curve(pred_df['is_helpful'], tp)\n",
    "        auc = roc_auc_score(pred_df['is_helpful'], tp)\n",
    "        axs[i].plot(fpr,tpr,color=colors[i],label=f\"{variant_name} auc={auc:.4f}\")   \n",
    "        axs[i].plot([0, 1], [0, 1], linestyle='--')\n",
    "        axs[i].set_xlabel(\"False Poitive Rate\")\n",
    "        axs[i].set_ylabel(\"True Positive Rate\")\n",
    "        axs[i].legend(loc=4)\n",
    "        \n",
    "plot_roc(join_df)"
   ]
  },
  {
   "cell_type": "markdown",
   "metadata": {},
   "source": [
    "## Run A/B Testing Simulation\n",
    "\n",
    "### Define API Methods\n",
    "\n",
    "Set the REST API Endpoint to the value output in the AWS CloudFormation that creatied the A/B testing infrastructure.\n",
    "\n",
    "👇👇👇"
   ]
  },
  {
   "cell_type": "code",
   "execution_count": 127,
   "metadata": {},
   "outputs": [],
   "source": [
    "rest_api = 'https://3dn84vn0jc.execute-api.us-east-1.amazonaws.com/dev/' # << Update this with Rest API output"
   ]
  },
  {
   "cell_type": "markdown",
   "metadata": {},
   "source": [
    "We can run a simulation by sending traffic to the REST API is a wrapper around your deployed SageMaker endpoint.  The API will\n",
    "\n",
    "1. Assigning users to variants based on the **Multi-Armed Bandit** strategy configured for the `endpoint_name`.\n",
    "2. Invoking the target endpoint variant, and capturing the `invocation` event.\n",
    "3. Recording a `conversion` against a user with an optional `reward`.\n",
    "\n",
    "We define some methods that to call the rest API using the python requests library:"
   ]
  },
  {
   "cell_type": "code",
   "execution_count": 128,
   "metadata": {},
   "outputs": [],
   "source": [
    "import json\n",
    "import os\n",
    "import requests\n",
    "\n",
    "def api_invocation(user_id, text_array):\n",
    "    payload = {\n",
    "        \"user_id\": str(user_id),\n",
    "        \"endpoint_name\": endpoint_name, \n",
    "        \"content_type\": \"application/json\",\n",
    "        \"data\": json.dumps({\"instances\" : text_array, \"configuration\": { \"k\": 1 }}), \n",
    "    }\n",
    "    rest_url = os.path.join(rest_api, 'invocation')\n",
    "    r = requests.post(rest_url, data=json.dumps(payload))\n",
    "    return r.json()\n",
    "\n",
    "def api_conversion(payload):\n",
    "    rest_url = os.path.join(rest_api, 'conversion')\n",
    "    r = requests.post(rest_url, data=json.dumps(payload))\n",
    "    return r.json()\n",
    "\n",
    "def api_stats():\n",
    "    payload = {\n",
    "        \"endpoint_name\": endpoint_name, \n",
    "    }\n",
    "    rest_url = os.path.join(rest_api, 'stats')\n",
    "    r = requests.post(rest_url, data=json.dumps(payload))\n",
    "    return r.json()"
   ]
  },
  {
   "cell_type": "markdown",
   "metadata": {},
   "source": [
    "Confirm that our metrics are all clear before we start our test."
   ]
  },
  {
   "cell_type": "code",
   "execution_count": 129,
   "metadata": {},
   "outputs": [
    {
     "data": {
      "text/plain": [
       "{'endpoint_name': 'sagemaker-ab-testing-dev',\n",
       " 'variant_metrics': [{'endpoint_name': 'sagemaker-ab-testing-dev',\n",
       "   'variant_name': 'Champion2',\n",
       "   'initial_variant_weight': 1.0,\n",
       "   'invocation_count': 0,\n",
       "   'conversion_count': 0,\n",
       "   'reward_sum': 0.0},\n",
       "  {'endpoint_name': 'sagemaker-ab-testing-dev',\n",
       "   'variant_name': 'Challenger3',\n",
       "   'initial_variant_weight': 1.0,\n",
       "   'invocation_count': 0,\n",
       "   'conversion_count': 0,\n",
       "   'reward_sum': 0.0}],\n",
       " 'strategy': 'ThompsonSampling',\n",
       " 'epsilon': 0.1,\n",
       " 'warmup': 0}"
      ]
     },
     "execution_count": 129,
     "metadata": {},
     "output_type": "execute_result"
    }
   ],
   "source": [
    "api_stats()"
   ]
  },
  {
   "cell_type": "markdown",
   "metadata": {},
   "source": [
    "Create a small batches of inputs and test results, to find the most helpful review per batch"
   ]
  },
  {
   "cell_type": "markdown",
   "metadata": {},
   "source": [
    "## Unit Testing"
   ]
  },
  {
   "cell_type": "markdown",
   "metadata": {},
   "source": [
    "### api_predict()\n",
    "- batch 사이즈 만큼을 추론 함. (예: batch_size = 20)\n",
    "reward 의 정의는 진실값읜 \"is_helpful\"가 예측 결과와 같으면 \"1\" 을 부여 하는 것으로 정의 \n",
    "```\n",
    "['is_helpful'] == ['is_helpful_prediction']\n",
    "```\n",
    "- 20개의 예측을 'is_helpful_prediction', 'is_helpful_prob' 로 정렬하여 Top 1 만 추출\n",
    "    - is_helpful_prediction == True 가 존재하면 결론적으로 reward 는 1 \n",
    "- reward 가 0 이상이면 api_conversion () 호출\n",
    "    \n",
    "    \n",
    "### Reward 정의 \n",
    "reward 의 정의는 진실값읜 \"is_helpful\"가 예측 결과와 같으면 \"1\" 을 부여 하는 것으로 정의 \n",
    "```\n",
    "['is_helpful'] == ['is_helpful_prediction']\n",
    "```\n",
    "- Call invocation API with a batch of inputs, if the most helpful is matched with ground truth call conversion API."
   ]
  },
  {
   "cell_type": "code",
   "execution_count": 273,
   "metadata": {
    "scrolled": true
   },
   "outputs": [
    {
     "data": {
      "text/plain": [
       "(4742, 4742)"
      ]
     },
     "execution_count": 273,
     "metadata": {},
     "output_type": "execute_result"
    }
   ],
   "source": [
    "batch_size = 3\n",
    "\n",
    "input_batch = list(chunker(test_input, batch_size))\n",
    "test_batch = list(chunker(test_df, batch_size))\n",
    "len(input_batch), len(test_batch)"
   ]
  },
  {
   "cell_type": "code",
   "execution_count": 292,
   "metadata": {},
   "outputs": [],
   "source": [
    "from IPython.display import display as dp\n",
    "def api_predict(i):\n",
    "    result = api_invocation(i, input_batch[i])\n",
    "    if 'predictions' in result:\n",
    "        predictions = parse_predictions(result['predictions'])    \n",
    "        # print(\"predictions: \", predictions)\n",
    "        # Join predictions with test results\n",
    "        pred_df = join_test(test_batch[i].reset_index(drop=True), predictions, result['endpoint_variant'])\n",
    "        # Set the batch, invocattion and reward fields\n",
    "        pred_df['strategy'] = result['strategy']\n",
    "        pred_df['batch'], pred_df['invocation'] = i, 1\n",
    "        # Set the reward based on prediction having a probability above a threshold\n",
    "        pred_df['reward'] = pred_df.apply(lambda r: r['is_helpful'] == r['is_helpful_prediction'], axis=1).astype(int)\n",
    "        # Get top helpful review based on probability\n",
    "        pred_top = pred_df.sort_values(['is_helpful_prediction', 'is_helpful_prob'], ascending=False).head(1)\n",
    "        reward = float(pred_top['reward'].sum())\n",
    "        # print(\"reward: \", reward)\n",
    "        # print(\"pred_df: \", dp(pred_df))        \n",
    "        # print(\"result: \", result)\n",
    "        \n",
    "        # Record converison if reward\n",
    "        if reward > 0:\n",
    "            print(\"call api_conversion: \")\n",
    "            api_conversion({ **result, 'reward': reward })\n",
    "        return pred_top\n",
    "    else:\n",
    "        print('error, no predictions', result)"
   ]
  },
  {
   "cell_type": "markdown",
   "metadata": {},
   "source": [
    "Get predictions for the batch of results, output progress (this should take approx 2 minutes)"
   ]
  },
  {
   "cell_type": "code",
   "execution_count": 295,
   "metadata": {},
   "outputs": [],
   "source": [
    "# batch_num 값으로 배치 수 조절 \n",
    "batch_num = 10"
   ]
  },
  {
   "cell_type": "code",
   "execution_count": 296,
   "metadata": {},
   "outputs": [
    {
     "name": "stdout",
     "output_type": "stream",
     "text": [
      "call api_conversion: \n",
      "call api_conversion: \n",
      "call api_conversion: \n",
      "call api_conversion: \n",
      "call api_conversion: \n",
      "call api_conversion: \n",
      "call api_conversion: \n",
      "call api_conversion: \n"
     ]
    },
    {
     "data": {
      "text/html": [
       "<div>\n",
       "<style scoped>\n",
       "    .dataframe tbody tr th:only-of-type {\n",
       "        vertical-align: middle;\n",
       "    }\n",
       "\n",
       "    .dataframe tbody tr th {\n",
       "        vertical-align: top;\n",
       "    }\n",
       "\n",
       "    .dataframe thead th {\n",
       "        text-align: right;\n",
       "    }\n",
       "</style>\n",
       "<table border=\"1\" class=\"dataframe\">\n",
       "  <thead>\n",
       "    <tr style=\"text-align: right;\">\n",
       "      <th></th>\n",
       "      <th>is_helpful</th>\n",
       "      <th>is_helpful_prediction</th>\n",
       "      <th>is_helpful_prob</th>\n",
       "      <th>variant_name</th>\n",
       "      <th>strategy</th>\n",
       "      <th>batch</th>\n",
       "      <th>invocation</th>\n",
       "      <th>reward</th>\n",
       "    </tr>\n",
       "  </thead>\n",
       "  <tbody>\n",
       "    <tr>\n",
       "      <th>0</th>\n",
       "      <td>True</td>\n",
       "      <td>True</td>\n",
       "      <td>0.666277</td>\n",
       "      <td>Challenger3</td>\n",
       "      <td>ThompsonSampling</td>\n",
       "      <td>0</td>\n",
       "      <td>1</td>\n",
       "      <td>1</td>\n",
       "    </tr>\n",
       "    <tr>\n",
       "      <th>1</th>\n",
       "      <td>True</td>\n",
       "      <td>True</td>\n",
       "      <td>0.520808</td>\n",
       "      <td>Challenger3</td>\n",
       "      <td>ThompsonSampling</td>\n",
       "      <td>1</td>\n",
       "      <td>1</td>\n",
       "      <td>1</td>\n",
       "    </tr>\n",
       "    <tr>\n",
       "      <th>2</th>\n",
       "      <td>True</td>\n",
       "      <td>True</td>\n",
       "      <td>0.638050</td>\n",
       "      <td>Challenger3</td>\n",
       "      <td>ThompsonSampling</td>\n",
       "      <td>2</td>\n",
       "      <td>1</td>\n",
       "      <td>1</td>\n",
       "    </tr>\n",
       "    <tr>\n",
       "      <th>3</th>\n",
       "      <td>True</td>\n",
       "      <td>True</td>\n",
       "      <td>0.579304</td>\n",
       "      <td>Challenger3</td>\n",
       "      <td>ThompsonSampling</td>\n",
       "      <td>3</td>\n",
       "      <td>1</td>\n",
       "      <td>1</td>\n",
       "    </tr>\n",
       "    <tr>\n",
       "      <th>4</th>\n",
       "      <td>False</td>\n",
       "      <td>True</td>\n",
       "      <td>0.644538</td>\n",
       "      <td>Champion2</td>\n",
       "      <td>ThompsonSampling</td>\n",
       "      <td>4</td>\n",
       "      <td>1</td>\n",
       "      <td>0</td>\n",
       "    </tr>\n",
       "    <tr>\n",
       "      <th>5</th>\n",
       "      <td>True</td>\n",
       "      <td>True</td>\n",
       "      <td>0.547001</td>\n",
       "      <td>Champion2</td>\n",
       "      <td>ThompsonSampling</td>\n",
       "      <td>5</td>\n",
       "      <td>1</td>\n",
       "      <td>1</td>\n",
       "    </tr>\n",
       "    <tr>\n",
       "      <th>6</th>\n",
       "      <td>True</td>\n",
       "      <td>True</td>\n",
       "      <td>0.500153</td>\n",
       "      <td>Champion2</td>\n",
       "      <td>ThompsonSampling</td>\n",
       "      <td>6</td>\n",
       "      <td>1</td>\n",
       "      <td>1</td>\n",
       "    </tr>\n",
       "    <tr>\n",
       "      <th>7</th>\n",
       "      <td>True</td>\n",
       "      <td>True</td>\n",
       "      <td>0.665619</td>\n",
       "      <td>Challenger3</td>\n",
       "      <td>ThompsonSampling</td>\n",
       "      <td>7</td>\n",
       "      <td>1</td>\n",
       "      <td>1</td>\n",
       "    </tr>\n",
       "    <tr>\n",
       "      <th>8</th>\n",
       "      <td>False</td>\n",
       "      <td>True</td>\n",
       "      <td>0.631101</td>\n",
       "      <td>Champion2</td>\n",
       "      <td>ThompsonSampling</td>\n",
       "      <td>8</td>\n",
       "      <td>1</td>\n",
       "      <td>0</td>\n",
       "    </tr>\n",
       "    <tr>\n",
       "      <th>9</th>\n",
       "      <td>True</td>\n",
       "      <td>True</td>\n",
       "      <td>0.715102</td>\n",
       "      <td>Challenger3</td>\n",
       "      <td>ThompsonSampling</td>\n",
       "      <td>9</td>\n",
       "      <td>1</td>\n",
       "      <td>1</td>\n",
       "    </tr>\n",
       "    <tr>\n",
       "      <th>10</th>\n",
       "      <td>False</td>\n",
       "      <td>True</td>\n",
       "      <td>0.513090</td>\n",
       "      <td>Champion2</td>\n",
       "      <td>ThompsonSampling</td>\n",
       "      <td>10</td>\n",
       "      <td>1</td>\n",
       "      <td>0</td>\n",
       "    </tr>\n",
       "  </tbody>\n",
       "</table>\n",
       "</div>"
      ],
      "text/plain": [
       "    is_helpful  is_helpful_prediction  is_helpful_prob variant_name  \\\n",
       "0         True                   True         0.666277  Challenger3   \n",
       "1         True                   True         0.520808  Challenger3   \n",
       "2         True                   True         0.638050  Challenger3   \n",
       "3         True                   True         0.579304  Challenger3   \n",
       "4        False                   True         0.644538    Champion2   \n",
       "5         True                   True         0.547001    Champion2   \n",
       "6         True                   True         0.500153    Champion2   \n",
       "7         True                   True         0.665619  Challenger3   \n",
       "8        False                   True         0.631101    Champion2   \n",
       "9         True                   True         0.715102  Challenger3   \n",
       "10       False                   True         0.513090    Champion2   \n",
       "\n",
       "            strategy  batch  invocation  reward  \n",
       "0   ThompsonSampling      0           1       1  \n",
       "1   ThompsonSampling      1           1       1  \n",
       "2   ThompsonSampling      2           1       1  \n",
       "3   ThompsonSampling      3           1       1  \n",
       "4   ThompsonSampling      4           1       0  \n",
       "5   ThompsonSampling      5           1       1  \n",
       "6   ThompsonSampling      6           1       1  \n",
       "7   ThompsonSampling      7           1       1  \n",
       "8   ThompsonSampling      8           1       0  \n",
       "9   ThompsonSampling      9           1       1  \n",
       "10  ThompsonSampling     10           1       0  "
      ]
     },
     "execution_count": 296,
     "metadata": {},
     "output_type": "execute_result"
    }
   ],
   "source": [
    "# [ i for i in (range(len(input_batch))) if i ==0  ]\n",
    "\n",
    "# batch_df, num_api_conv = pd.concat(api_predict(i) for i in range(len(input_batch)) if i ==0 ).reset_index(drop=True)\n",
    "batch_df = pd.concat(api_predict(i) for i in range(len(input_batch)) if i <= batch_num ).reset_index(drop=True)\n",
    "batch_df "
   ]
  },
  {
   "cell_type": "markdown",
   "metadata": {},
   "source": [
    "## Batch 실행"
   ]
  },
  {
   "cell_type": "code",
   "execution_count": 259,
   "metadata": {},
   "outputs": [],
   "source": [
    "from IPython.display import display as dp\n",
    "def api_predict(i):\n",
    "    result = api_invocation(i, input_batch[i])\n",
    "    if 'predictions' in result:\n",
    "        predictions = parse_predictions(result['predictions'])    \n",
    "        # print(\"predictions: \", predictions)\n",
    "        # Join predictions with test results\n",
    "        pred_df = join_test(test_batch[i].reset_index(drop=True), predictions, result['endpoint_variant'])\n",
    "        # Set the batch, invocattion and reward fields\n",
    "        pred_df['strategy'] = result['strategy']\n",
    "        pred_df['batch'], pred_df['invocation'] = i, 1\n",
    "        # Set the reward based on prediction having a probability above a threshold\n",
    "        pred_df['reward'] = pred_df.apply(lambda r: r['is_helpful'] == r['is_helpful_prediction'], axis=1).astype(int)\n",
    "        # Get top helpful review based on probability\n",
    "        pred_top = pred_df.sort_values(['is_helpful_prediction', 'is_helpful_prob'], ascending=False).head(1)\n",
    "        reward = float(pred_top['reward'].sum())\n",
    "        # print(\"reward: \", reward)\n",
    "        # print(\"pred_df: \", dp(pred_df))        \n",
    "        \n",
    "        # Record converison if reward\n",
    "        num_api_conversion = 0\n",
    "        if reward > 0:\n",
    "            # print(\"call api_conversion: \")\n",
    "            num_api_conversion += 1\n",
    "            api_conversion({ **result, 'reward': reward })\n",
    "        return pred_top\n",
    "    else:\n",
    "        print('error, no predictions', result)"
   ]
  },
  {
   "cell_type": "code",
   "execution_count": 260,
   "metadata": {},
   "outputs": [
    {
     "data": {
      "text/plain": [
       "(712, 712)"
      ]
     },
     "execution_count": 260,
     "metadata": {},
     "output_type": "execute_result"
    }
   ],
   "source": [
    "batch_size = 20\n",
    "\n",
    "input_batch = list(chunker(test_input, batch_size))\n",
    "test_batch = list(chunker(test_df, batch_size))\n",
    "len(input_batch), len(test_batch)"
   ]
  },
  {
   "cell_type": "code",
   "execution_count": 261,
   "metadata": {},
   "outputs": [
    {
     "data": {
      "application/vnd.jupyter.widget-view+json": {
       "model_id": "21c9c23b23ae423fb2d1862269b869dc",
       "version_major": 2,
       "version_minor": 0
      },
      "text/plain": [
       "HBox(children=(FloatProgress(value=0.0, max=712.0), HTML(value='')))"
      ]
     },
     "metadata": {},
     "output_type": "display_data"
    },
    {
     "name": "stdout",
     "output_type": "stream",
     "text": [
      "\n"
     ]
    }
   ],
   "source": [
    "import tqdm.notebook as tq\n",
    "\n",
    "batch_df = pd.concat(api_predict(i) for i in tq.tqdm(range(len(input_batch)))).reset_index(drop=True)"
   ]
  },
  {
   "cell_type": "markdown",
   "metadata": {},
   "source": [
    "Output the bandit strategies used these invocations"
   ]
  },
  {
   "cell_type": "code",
   "execution_count": 262,
   "metadata": {},
   "outputs": [
    {
     "data": {
      "text/plain": [
       "variant_name  strategy        \n",
       "Challenger3   ThompsonSampling    376\n",
       "Champion2     ThompsonSampling    336\n",
       "Name: is_helpful_prediction, dtype: int64"
      ]
     },
     "execution_count": 262,
     "metadata": {},
     "output_type": "execute_result"
    }
   ],
   "source": [
    "batch_df.groupby(['variant_name', 'strategy'])['is_helpful_prediction'].count()"
   ]
  },
  {
   "cell_type": "markdown",
   "metadata": {},
   "source": [
    "### Visualize variant reward\n",
    "\n",
    "Group the batch results by varianta rate to summarise the total number of invcations, reward and calculated rate."
   ]
  },
  {
   "cell_type": "code",
   "execution_count": 263,
   "metadata": {},
   "outputs": [
    {
     "data": {
      "text/html": [
       "<div>\n",
       "<style scoped>\n",
       "    .dataframe tbody tr th:only-of-type {\n",
       "        vertical-align: middle;\n",
       "    }\n",
       "\n",
       "    .dataframe tbody tr th {\n",
       "        vertical-align: top;\n",
       "    }\n",
       "\n",
       "    .dataframe thead th {\n",
       "        text-align: right;\n",
       "    }\n",
       "</style>\n",
       "<table border=\"1\" class=\"dataframe\">\n",
       "  <thead>\n",
       "    <tr style=\"text-align: right;\">\n",
       "      <th></th>\n",
       "      <th>invocation</th>\n",
       "      <th>reward</th>\n",
       "      <th>reward_rate</th>\n",
       "    </tr>\n",
       "    <tr>\n",
       "      <th>variant_name</th>\n",
       "      <th></th>\n",
       "      <th></th>\n",
       "      <th></th>\n",
       "    </tr>\n",
       "  </thead>\n",
       "  <tbody>\n",
       "    <tr>\n",
       "      <th>Challenger3</th>\n",
       "      <td>376</td>\n",
       "      <td>288</td>\n",
       "      <td>0.765957</td>\n",
       "    </tr>\n",
       "    <tr>\n",
       "      <th>Champion2</th>\n",
       "      <td>336</td>\n",
       "      <td>266</td>\n",
       "      <td>0.791667</td>\n",
       "    </tr>\n",
       "  </tbody>\n",
       "</table>\n",
       "</div>"
      ],
      "text/plain": [
       "              invocation  reward  reward_rate\n",
       "variant_name                                 \n",
       "Challenger3          376     288     0.765957\n",
       "Champion2            336     266     0.791667"
      ]
     },
     "execution_count": 263,
     "metadata": {},
     "output_type": "execute_result"
    }
   ],
   "source": [
    "variant_df = batch_df.groupby('variant_name').agg({\n",
    "    'invocation': 'count', \n",
    "    'reward': 'sum'\n",
    "})\n",
    "variant_df['reward_rate'] = variant_df.apply(lambda r: r['reward']/r['invocation'], axis=1)\n",
    "variant_df.sort_values('reward_rate', ascending=False)\n",
    "variant_df"
   ]
  },
  {
   "cell_type": "markdown",
   "metadata": {},
   "source": [
    "- Add cummulative invocation and reward by variant to compare performance over batch\n",
    "- reward rate reward / invocation 을 나눈 값"
   ]
  },
  {
   "cell_type": "code",
   "execution_count": 253,
   "metadata": {},
   "outputs": [],
   "source": [
    "cum_df = batch_df.groupby(\n",
    "    ['variant_name', 'batch'])[['invocation','reward']].sum().groupby(level=0).cumsum() #.reset_index()\n",
    "cum_df['reward_rate'] = cum_df.apply(lambda r: 1.0 * r['reward'] / r['invocation'], axis=1)"
   ]
  },
  {
   "cell_type": "markdown",
   "metadata": {},
   "source": [
    "- Graph the cumiative reward by variant\n",
    "- 배치 시작 부터 끝까지의 reward 축적값을 보여 줌"
   ]
  },
  {
   "cell_type": "code",
   "execution_count": 297,
   "metadata": {},
   "outputs": [
    {
     "data": {
      "text/plain": [
       "Text(0.5, 1.0, 'Reward by Variant')"
      ]
     },
     "execution_count": 297,
     "metadata": {},
     "output_type": "execute_result"
    },
    {
     "data": {
      "image/png": "[encoded data removed]",
      "text/plain": [
       "<Figure size 432x288 with 1 Axes>"
      ]
     },
     "metadata": {},
     "output_type": "display_data"
    }
   ],
   "source": [
    "import seaborn as sns\n",
    "\n",
    "sns.lineplot(data=cum_df, x=\"batch\", y=\"reward\", hue=\"variant_name\", palette=\"Paired\").set_title(\"Reward by Variant\")"
   ]
  },
  {
   "cell_type": "markdown",
   "metadata": {},
   "source": [
    "Graph the reward rate by variant"
   ]
  },
  {
   "cell_type": "code",
   "execution_count": 298,
   "metadata": {},
   "outputs": [
    {
     "data": {
      "text/plain": [
       "Text(0.5, 1.0, 'Reward Rate by Variant')"
      ]
     },
     "execution_count": 298,
     "metadata": {},
     "output_type": "execute_result"
    },
    {
     "data": {
      "image/png": "[encoded data removed]",
      "text/plain": [
       "<Figure size 432x288 with 1 Axes>"
      ]
     },
     "metadata": {},
     "output_type": "display_data"
    }
   ],
   "source": [
    "sns.lineplot(data=cum_df, x=\"batch\", y=\"reward_rate\", hue=\"variant_name\", palette=\"Paired\").set_title(\"Reward Rate by Variant\")"
   ]
  },
  {
   "cell_type": "markdown",
   "metadata": {},
   "source": [
    "### Plot Beta Distribution\n",
    "\n",
    "Creates a series of 9 buckets to get invocation and reward for plotting "
   ]
  },
  {
   "cell_type": "code",
   "execution_count": 299,
   "metadata": {},
   "outputs": [],
   "source": [
    "# Cut the results into 9 bucket, and plot on a 3x3 chart\n",
    "bucket = 9\n",
    "beta_df = cum_df.reset_index()\n",
    "beta_df['bucket'] = pd.cut(beta_df['batch'], [0,2,5,10,20,50,100,200,500,1000], right=True)\n",
    "beta_df = beta_df.groupby(['variant_name', 'bucket'])[['invocation', 'reward']].max()"
   ]
  },
  {
   "cell_type": "markdown",
   "metadata": {},
   "source": [
    "Plot the beta distribution for each bucket"
   ]
  },
  {
   "cell_type": "code",
   "execution_count": 300,
   "metadata": {},
   "outputs": [
    {
     "data": {
      "image/png": "[encoded data removed]",
      "text/plain": [
       "<Figure size 864x864 with 9 Axes>"
      ]
     },
     "metadata": {},
     "output_type": "display_data"
    }
   ],
   "source": [
    "from scipy import stats\n",
    "\n",
    "%matplotlib inline\n",
    "colors = sns.color_palette(\"Paired\")\n",
    "plt.style.use(\"dark_background\")\n",
    "\n",
    "def plot_beta(beta_df):\n",
    "    fig, axs = plt.subplots(3, 3, figsize=(12, 12))\n",
    "    fig.subplots_adjust(hspace = .5, wspace=.1)\n",
    "    fig.suptitle('Probability Distribution of Each Variant', fontsize=16, y=1.02)\n",
    "    fig.subplots_adjust(top=0.88)\n",
    "    axs = axs.ravel()\n",
    "    \n",
    "    x = np.arange (0, 1.001, 0.001)\n",
    "    for i, (b, bg) in enumerate(beta_df.groupby('bucket')):\n",
    "        for j, (variant_name, vg) in enumerate(bg.groupby('variant_name')):\n",
    "            v = vg.max()\n",
    "            alpha, beta = 1+v['reward'], 1+v['invocation']-v['reward']\n",
    "            axs[i].plot(x, stats.beta.pdf(x, alpha, beta), label=variant_name, color=colors[j])\n",
    "        axs[i].set_title(f'Batch #{int(b.right)}')\n",
    "        axs[i].grid(False)\n",
    "\n",
    "    handles, labels = axs[0].get_legend_handles_labels()\n",
    "    fig.legend(handles, labels, loc='upper right')\n",
    "    fig.text(0.5, -.01, 'Expected Reward', ha='center', fontsize=16)\n",
    "    fig.text(-.01, 0.5, 'Probability Density', va='center', fontsize=16, rotation='vertical')\n",
    "    fig.tight_layout()\n",
    "    plt.show()\n",
    "    \n",
    "plot_beta(beta_df)"
   ]
  },
  {
   "cell_type": "markdown",
   "metadata": {},
   "source": [
    "## Calling the winner\n",
    "\n",
    "Assuming a normal distribution, let's evaluate a confidence score for the best performing variant."
   ]
  },
  {
   "cell_type": "code",
   "execution_count": 301,
   "metadata": {
    "jupyter": {
     "source_hidden": true
    }
   },
   "outputs": [
    {
     "name": "stdout",
     "output_type": "stream",
     "text": [
      "Challenger3 conversion rate (76.60%) is 3.25% lower than Champion2 rate (79.17%)\n"
     ]
    },
    {
     "data": {
      "text/plain": [
       "0.20426584553098426"
      ]
     },
     "execution_count": 301,
     "metadata": {},
     "output_type": "execute_result"
    },
    {
     "data": {
      "image/png": "[encoded data removed]",
      "text/plain": [
       "<Figure size 432x288 with 1 Axes>"
      ]
     },
     "metadata": {},
     "output_type": "display_data"
    }
   ],
   "source": [
    "from scipy.stats import norm\n",
    "\n",
    "def plot_distribution(variant_a, rate_a, num_a, variant_b, rate_b, num_b):\n",
    "    # Calculate the standard error for a and b\n",
    "    std_a = np.sqrt(rate_a * (1 - rate_a) / num_a)\n",
    "    std_b = np.sqrt(rate_b * (1 - rate_b) / num_b)\n",
    "    z_score = (rate_b - rate_a) / np.sqrt(std_a**2 + std_b**2)\n",
    "    p_value = norm().sf(z_score)\n",
    "    conf = norm.cdf(z_score)\n",
    "    # Plot distribution\n",
    "    click_rate = np.linspace(0, 1.0, 200)\n",
    "    prob_a = norm(rate_a, std_a).pdf(click_rate)\n",
    "    prob_b = norm(rate_b, std_b).pdf(click_rate)    \n",
    "    plt.plot(click_rate, prob_a, label=variant_a, color=colors[0])\n",
    "    plt.plot(click_rate, prob_b, label=variant_b, color=colors[1])\n",
    "    plt.legend(frameon=True)\n",
    "    plt.xlabel(\"Conversion rate\"); plt.ylabel(\"Probability\");\n",
    "    plt.title(f\"zscore is {z_score:0.3f}, with p-value {p_value:0.3f}\")\n",
    "    return z_score, p_value, conf\n",
    "\n",
    "# Lookup metrics for the variants\n",
    "variant_a, variant_b = variant_names[:2]\n",
    "rate_a, num_a = variant_df.loc[variant_a]['reward_rate'], variant_df.loc[variant_a]['invocation']\n",
    "rate_b, num_b = variant_df.loc[variant_b]['reward_rate'], variant_df.loc[variant_b]['invocation']\n",
    "rate_diff = (rate_b - rate_a) / rate_a\n",
    "rate_dir = f'{rate_diff:.2%} higher' if rate_diff > 0 else f'{-rate_diff:.2%} lower'\n",
    "print(f'{variant_b} conversion rate ({rate_b:.2%}) is {rate_dir} than {variant_a} rate ({rate_a:.2%})')\n",
    "\n",
    "# Plot distribution and get confidence interval\n",
    "z_score, p_value, conf = plot_distribution(variant_a, rate_a, num_a, variant_b, rate_b, num_b)\n",
    "\n",
    "if rate_diff > 0 and conf > 0.95:\n",
    "    print(f'The result is statisticially significant')\n",
    "conf"
   ]
  },
  {
   "cell_type": "markdown",
   "metadata": {},
   "source": [
    "### Promote Model\n",
    "\n",
    "If our new estimator is a winning model, we can register that model in the `Champion` model package group in the registry to trigger a new deployment with this single variant."
   ]
  },
  {
   "cell_type": "code",
   "execution_count": 78,
   "metadata": {},
   "outputs": [
    {
     "name": "stdout",
     "output_type": "stream",
     "text": [
      "Registered and Approved Champion Version: 2\n"
     ]
    }
   ],
   "source": [
    "model_package = best_estimator.register(\n",
    "    content_types=[\"text/plain\"],\n",
    "    response_types=[\"text/csv\"],\n",
    "    inference_instances=[\"ml.t2.large\", \"ml.m5.xlarge\"],\n",
    "    transform_instances=[\"ml.m5.xlarge\"],\n",
    "    model_package_group_name=champion_model_group,\n",
    "    approval_status=\"Approved\"\n",
    ")\n",
    "\n",
    "model_package_version = model_package.model_package_arn.split('/')[-1]\n",
    "print(f\"Registered and Approved Champion Version: {model_package_version}\")"
   ]
  },
  {
   "cell_type": "markdown",
   "metadata": {},
   "source": [
    "## Monitoring\n",
    "\n",
    "### Metrics\n",
    "\n",
    "AWS CloudWatch metrics are published to every time metrics are updated in Amazon DynamoDB.\n",
    "\n",
    "The following metrics are recorded against dimensions `EndpointName` and `VariantName` in namespace `aws/sagemaker/Endpoints/ab-testing`\n",
    "* `Invocations`\n",
    "* `Conversions`\n",
    "* `Rewards`\n",
    "\n",
    "### Traces\n",
    "\n",
    "The API Lambda functions are instrumented with [AWS X-Ray](https://aws.amazon.com/xray/) so you can inspect the latency for all downstream services including\n",
    "* DynamoDB\n",
    "* Amazon SageMaker\n",
    "* Kinesis Firehose"
   ]
  },
  {
   "cell_type": "markdown",
   "metadata": {},
   "source": [
    "## Clean up\n",
    "\n",
    "Start by deleting the AWS CloudFormation stack created to provision the SageMaker endpoint. "
   ]
  },
  {
   "cell_type": "code",
   "execution_count": null,
   "metadata": {},
   "outputs": [],
   "source": [
    "# deploy_stack =  f\"sagemaker-{project_name}-deploy-{stage_name}\"\n",
    "# !aws cloudformation delete-stack --stack-name  $deploy_stack"
   ]
  },
  {
   "cell_type": "markdown",
   "metadata": {},
   "source": [
    "Then empty the S3 bucket containing the artifacts output from the A/B Testing deployment pipeline."
   ]
  },
  {
   "cell_type": "code",
   "execution_count": null,
   "metadata": {},
   "outputs": [],
   "source": [
    "# s3_artifact_path = f\"s3://sagemaker-{project_id}-artifact-{stage_name}-{region_name}\"\n",
    "# !aws s3 rm --recursive $s3_artifact_path"
   ]
  },
  {
   "cell_type": "markdown",
   "metadata": {},
   "source": [
    "Once complete, delete the project which removes the AWS CloudFormation stack that created the CodePipeline."
   ]
  },
  {
   "cell_type": "code",
   "execution_count": null,
   "metadata": {},
   "outputs": [],
   "source": [
    "# !aws sagemaker delete-project --project-name $project_name"
   ]
  }
 ],
 "metadata": {
  "instance_type": "ml.t3.medium",
  "kernelspec": {
   "display_name": "Python 3 (Data Science)",
   "language": "python",
   "name": "python3__SAGEMAKER_INTERNAL__arn:aws:sagemaker:us-east-1:081325390199:image/datascience-1.0"
  },
  "language_info": {
   "codemirror_mode": {
    "name": "ipython",
    "version": 3
   },
   "file_extension": ".py",
   "mimetype": "text/x-python",
   "name": "python",
   "nbconvert_exporter": "python",
   "pygments_lexer": "ipython3",
   "version": "3.7.10"
  }
 },
 "nbformat": 4,
 "nbformat_minor": 4
}
