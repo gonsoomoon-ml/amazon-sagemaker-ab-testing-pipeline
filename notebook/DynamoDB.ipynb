{
 "cells": [
  {
   "cell_type": "markdown",
   "metadata": {},
   "source": [
    "- Dynamo DB Query 방법\n",
    "    - https://www.fernandomc.com/posts/ten-examples-of-getting-data-from-dynamodb-with-python-and-boto3/\n",
    "    - https://skyseven73.tistory.com/18"
   ]
  },
  {
   "cell_type": "markdown",
   "metadata": {},
   "source": [
    "## ab-testing-metrics-dev"
   ]
  },
  {
   "cell_type": "code",
   "execution_count": 41,
   "metadata": {},
   "outputs": [],
   "source": [
    "import boto3\n",
    "from boto3.dynamodb.conditions import Key\n",
    "\n",
    "TABLE_NAME = \"ab-testing-metrics-dev\"\n",
    "\n",
    "# Creating the DynamoDB Client\n",
    "dynamodb_client = boto3.client('dynamodb', region_name=\"us-east-1\")\n",
    "\n",
    "# Creating the DynamoDB Table Resource\n",
    "dynamodb = boto3.resource('dynamodb', region_name=\"us-east-1\")\n",
    "table = dynamodb.Table(TABLE_NAME)"
   ]
  },
  {
   "cell_type": "code",
   "execution_count": 42,
   "metadata": {},
   "outputs": [],
   "source": [
    "response = dynamodb_client.get_item(\n",
    "    TableName=TABLE_NAME,\n",
    "    Key={\n",
    "        'endpoint_name': {'S': 'sagemaker-ab-testing-dev'},\n",
    "    }\n",
    ")\n"
   ]
  },
  {
   "cell_type": "code",
   "execution_count": 43,
   "metadata": {},
   "outputs": [
    {
     "name": "stdout",
     "output_type": "stream",
     "text": [
      "{\n",
      "  \"strategy\": {\n",
      "    \"S\": \"ThompsonSampling\"\n",
      "  },\n",
      "  \"updated_at\": {\n",
      "    \"N\": \"1649847089\"\n",
      "  },\n",
      "  \"epsilon\": {\n",
      "    \"N\": \"0.1\"\n",
      "  },\n",
      "  \"warmup\": {\n",
      "    \"N\": \"0\"\n",
      "  },\n",
      "  \"created_at\": {\n",
      "    \"N\": \"1649757403\"\n",
      "  },\n",
      "  \"endpoint_name\": {\n",
      "    \"S\": \"sagemaker-ab-testing-dev\"\n",
      "  },\n",
      "  \"variant_metrics\": {\n",
      "    \"M\": {\n",
      "      \"Challenger3\": {\n",
      "        \"M\": {\n",
      "          \"conversion_count\": {\n",
      "            \"N\": \"1286\"\n",
      "          },\n",
      "          \"initial_variant_weight\": {\n",
      "            \"N\": \"1\"\n",
      "          },\n",
      "          \"invocation_count\": {\n",
      "            \"N\": \"1676\"\n",
      "          },\n",
      "          \"reward_sum\": {\n",
      "            \"N\": \"1286\"\n",
      "          }\n",
      "        }\n",
      "      },\n",
      "      \"Champion2\": {\n",
      "        \"M\": {\n",
      "          \"conversion_count\": {\n",
      "            \"N\": \"1180\"\n",
      "          },\n",
      "          \"initial_variant_weight\": {\n",
      "            \"N\": \"1\"\n",
      "          },\n",
      "          \"invocation_count\": {\n",
      "            \"N\": \"1495\"\n",
      "          },\n",
      "          \"reward_sum\": {\n",
      "            \"N\": \"1180\"\n",
      "          }\n",
      "        }\n",
      "      }\n",
      "    }\n",
      "  },\n",
      "  \"variant_names\": {\n",
      "    \"L\": [\n",
      "      {\n",
      "        \"S\": \"Champion2\"\n",
      "      },\n",
      "      {\n",
      "        \"S\": \"Challenger3\"\n",
      "      }\n",
      "    ]\n",
      "  }\n",
      "}\n"
     ]
    }
   ],
   "source": [
    "import json\n",
    "print(json.dumps(response['Item'],  indent=2))"
   ]
  },
  {
   "cell_type": "markdown",
   "metadata": {},
   "source": [
    "## ab-testing-assignment-dev"
   ]
  },
  {
   "cell_type": "code",
   "execution_count": 34,
   "metadata": {},
   "outputs": [],
   "source": [
    "TABLE_NAME = \"ab-testing-assignment-dev\"\n",
    "table = dynamodb.Table(TABLE_NAME)"
   ]
  },
  {
   "cell_type": "code",
   "execution_count": 35,
   "metadata": {},
   "outputs": [],
   "source": [
    "resp = table.scan()\n",
    "\n",
    "\n",
    "items = resp['Items']\n",
    "count = resp['Count']"
   ]
  },
  {
   "cell_type": "code",
   "execution_count": 36,
   "metadata": {},
   "outputs": [
    {
     "name": "stdout",
     "output_type": "stream",
     "text": [
      "total count:  712\n",
      "{'ttl': Decimal('1657535748'), 'user_id': '228', 'variant_name': 'Challenger3', 'endpoint_name': 'sagemaker-ab-testing-dev'}\n",
      "{'ttl': Decimal('1657535748'), 'user_id': '328', 'variant_name': 'Champion2', 'endpoint_name': 'sagemaker-ab-testing-dev'}\n",
      "{'ttl': Decimal('1657535748'), 'user_id': '99', 'variant_name': 'Challenger3', 'endpoint_name': 'sagemaker-ab-testing-dev'}\n",
      "{'ttl': Decimal('1657535748'), 'user_id': '475', 'variant_name': 'Champion2', 'endpoint_name': 'sagemaker-ab-testing-dev'}\n",
      "{'ttl': Decimal('1657535748'), 'user_id': '566', 'variant_name': 'Challenger3', 'endpoint_name': 'sagemaker-ab-testing-dev'}\n"
     ]
    }
   ],
   "source": [
    "print(\"total count: \", count)\n",
    "# print(items[0:5])\n",
    "for i in items[0:5]:\n",
    "    print(i)"
   ]
  },
  {
   "cell_type": "code",
   "execution_count": 37,
   "metadata": {},
   "outputs": [
    {
     "name": "stdout",
     "output_type": "stream",
     "text": [
      "[{'ttl': Decimal('1657535748'), 'user_id': '200', 'variant_name': 'Champion2', 'endpoint_name': 'sagemaker-ab-testing-dev'}]\n"
     ]
    }
   ],
   "source": [
    "response = table.query(\n",
    "  KeyConditionExpression=Key('user_id').eq('200')\n",
    ")\n",
    "print(response['Items'])\n",
    "\n"
   ]
  },
  {
   "cell_type": "code",
   "execution_count": null,
   "metadata": {},
   "outputs": [],
   "source": []
  }
 ],
 "metadata": {
  "instance_type": "ml.t3.medium",
  "kernelspec": {
   "display_name": "Python 3 (Data Science)",
   "language": "python",
   "name": "python3__SAGEMAKER_INTERNAL__arn:aws:sagemaker:us-east-1:081325390199:image/datascience-1.0"
  },
  "language_info": {
   "codemirror_mode": {
    "name": "ipython",
    "version": 3
   },
   "file_extension": ".py",
   "mimetype": "text/x-python",
   "name": "python",
   "nbconvert_exporter": "python",
   "pygments_lexer": "ipython3",
   "version": "3.7.10"
  }
 },
 "nbformat": 4,
 "nbformat_minor": 4
}
